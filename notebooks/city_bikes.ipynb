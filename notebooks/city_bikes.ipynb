{
 "cells": [
  {
   "cell_type": "markdown",
   "metadata": {},
   "source": [
    "# CityBikes"
   ]
  },
  {
   "cell_type": "markdown",
   "metadata": {},
   "source": [
    "Send a request to CityBikes for the city of your choice. "
   ]
  },
  {
   "cell_type": "code",
   "execution_count": null,
   "metadata": {},
   "outputs": [],
   "source": [
    "# Load Packages\n",
    "\n",
    "import requests\n",
    "import json\n",
    "import re\n",
    "import pandas as pd\n",
    "import os # use this to access your environment variables\n",
    "import plotly.express as px\n",
    "pd.set_option('display.max_rows', None)\n",
    "pd.set_option('display.max_columns', None)\n",
    "import seaborn as sns\n",
    "import matplotlib.pyplot as plt\n",
    "from scipy.stats import ttest_ind\n",
    "import sqlite3\n",
    "\n",
    "# Test connection \n",
    "# Fetch the City Bikes API Data\n",
    "request = requests.get('http://api.citybik.es/v2/networks')\n",
    "\n",
    "# Check for success or failure\n",
    "print(request.status_code)\n",
    "\n",
    "# Observe the records\n",
    "print(json.dumps(request.json(), sort_keys=True, indent=4))\n",
    "\n",
    "\n",
    "# Ask the user to select a city of choice for analysis \n",
    "\n",
    "# Create a dictionary of href and city. City is required for user input and href is required for endpoint to fetch bike station data\n",
    "\n",
    "dictionary_of_cities_href = {'list_of_cities': [],\n",
    "                            'href': []}\n",
    "\n",
    "for i in range(len(request.json()['networks'])):\n",
    "    dictionary_of_cities_href['list_of_cities'].append(request.json()['networks'][i]['location']['city'])\n",
    "    dictionary_of_cities_href['href'].append(request.json()['networks'][i]['href'])\n",
    "\n",
    "# Print the list of cities for user to select \n",
    "user_choice = input(f\"Select a city to fetch the data for:\\n{', '.join(dictionary_of_cities_href['list_of_cities'])}\\n\")\n",
    "\n",
    "pattern = re.compile(user_choice, re.IGNORECASE)\n",
    "\n",
    "# Filter the list based on the regex match\n",
    "matching_strings = [s for s in dictionary_of_cities_href['list_of_cities'] if pattern.search(s)]\n",
    "    \n",
    "print(f\"You have selected - {matching_strings[0]}\")\n",
    "\n",
    "# Create and use the endpoint for the user input city to fetch the bike station data\n",
    "\n",
    "endpoint = 'https://api.citybik.es/'+ dictionary_of_cities_href['href'][dictionary_of_cities_href['list_of_cities'].index(matching_strings[0])]\n",
    "\n",
    "request_station_date = requests.get(endpoint)\n",
    "\n",
    "print(request_station_date.status_code)\n",
    "\n",
    "print(json.dumps(request_station_date.json(), sort_keys=True, indent=4))"
   ]
  },
  {
   "cell_type": "markdown",
   "metadata": {},
   "source": [
    "Parse through the response to get the details you want for the bike stations in that city (latitude, longitude, number of bikes). "
   ]
  },
  {
   "cell_type": "code",
   "execution_count": null,
   "metadata": {},
   "outputs": [],
   "source": []
  },
  {
   "cell_type": "markdown",
   "metadata": {},
   "source": [
    "Put your parsed results into a DataFrame."
   ]
  },
  {
   "cell_type": "code",
   "execution_count": null,
   "metadata": {},
   "outputs": [],
   "source": []
  }
 ],
 "metadata": {
  "kernelspec": {
   "display_name": "Python 3",
   "language": "python",
   "name": "python3"
  },
  "language_info": {
   "codemirror_mode": {
    "name": "ipython",
    "version": 3
   },
   "file_extension": ".py",
   "mimetype": "text/x-python",
   "name": "python",
   "nbconvert_exporter": "python",
   "pygments_lexer": "ipython3",
   "version": "3.8.5"
  }
 },
 "nbformat": 4,
 "nbformat_minor": 4
}

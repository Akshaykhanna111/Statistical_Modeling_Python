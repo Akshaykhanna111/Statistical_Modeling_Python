{
 "cells": [
  {
   "cell_type": "markdown",
   "metadata": {},
   "source": [
    "Provide a visualization that you used as part of your EDA process. Explain the initial pattern or relationship you discoved through this visualization. "
   ]
  },
  {
   "cell_type": "code",
   "execution_count": 1,
   "metadata": {},
   "outputs": [],
   "source": [
    "# Load Packages\n",
    "#!pip install requests\n",
    "import requests\n",
    "import json\n",
    "import re\n",
    "#!pip install pandas\n",
    "import pandas as pd\n",
    "import os # use this to access your environment variables\n",
    "#!pip install plotly\n",
    "import plotly.express as px\n",
    "# pd.set_option('display.max_rows', None)\n",
    "# pd.set_option('display.max_columns', None)\n",
    "#!pip install seaborn\n",
    "import seaborn as sns\n",
    "import matplotlib.pyplot as plt\n",
    "#!pip install scipy\n",
    "from scipy.stats import ttest_ind\n",
    "import sqlite3\n",
    "#!pip install nbformat --upgrade"
   ]
  },
  {
   "cell_type": "code",
   "execution_count": 2,
   "metadata": {},
   "outputs": [],
   "source": [
    "# Joining of dataframes has been done post competing EDA for each of the dataframes. Hence, the sections have been shuffled\n",
    "\n",
    "fs_df = pd.read_csv(r'C:\\Users\\aksha\\Documents\\LHL\\LHL Assignments\\Week 5\\Python Statistical Modeling Project\\Python Project\\Statistical_Modeling_Python\\data\\Foursquare_Data_17th.csv')\n",
    "yelp_df = pd.read_csv(r'C:\\Users\\aksha\\Documents\\LHL\\LHL Assignments\\Week 5\\Python Statistical Modeling Project\\Python Project\\Statistical_Modeling_Python\\data\\Yelp_Data_17th.csv')\n",
    "city_bike_df = pd.read_csv(r'C:\\Users\\aksha\\Documents\\LHL\\LHL Assignments\\Week 5\\Python Statistical Modeling Project\\Python Project\\Statistical_Modeling_Python\\data\\City_Bike_Vancouver_Data_17th.csv')\n"
   ]
  },
  {
   "cell_type": "code",
   "execution_count": 3,
   "metadata": {},
   "outputs": [
    {
     "name": "stdout",
     "output_type": "stream",
     "text": [
      "<class 'pandas.core.frame.DataFrame'>\n",
      "RangeIndex: 248 entries, 0 to 247\n",
      "Data columns (total 13 columns):\n",
      " #   Column                        Non-Null Count  Dtype  \n",
      "---  ------                        --------------  -----  \n",
      " 0   id                            248 non-null    int64  \n",
      " 1   City                          248 non-null    object \n",
      " 2   Country                       248 non-null    object \n",
      " 3   Station_Id                    248 non-null    object \n",
      " 4   Station_Name                  248 non-null    object \n",
      " 5   Latitude                      248 non-null    float64\n",
      " 6   Longitude                     248 non-null    float64\n",
      " 7   Timestamp                     248 non-null    object \n",
      " 8   Total_Available_Slots         248 non-null    int64  \n",
      " 9   Total_Available_Free_Bikes    248 non-null    int64  \n",
      " 10  Total_Available_EBikes        248 non-null    int64  \n",
      " 11  Total_Available_Normal_Bikes  248 non-null    int64  \n",
      " 12  Total_Available_Empty_Slots   248 non-null    int64  \n",
      "dtypes: float64(2), int64(6), object(5)\n",
      "memory usage: 25.3+ KB\n"
     ]
    },
    {
     "data": {
      "text/html": [
       "<div>\n",
       "<style scoped>\n",
       "    .dataframe tbody tr th:only-of-type {\n",
       "        vertical-align: middle;\n",
       "    }\n",
       "\n",
       "    .dataframe tbody tr th {\n",
       "        vertical-align: top;\n",
       "    }\n",
       "\n",
       "    .dataframe thead th {\n",
       "        text-align: right;\n",
       "    }\n",
       "</style>\n",
       "<table border=\"1\" class=\"dataframe\">\n",
       "  <thead>\n",
       "    <tr style=\"text-align: right;\">\n",
       "      <th></th>\n",
       "      <th>id</th>\n",
       "      <th>City</th>\n",
       "      <th>Country</th>\n",
       "      <th>Station_Id</th>\n",
       "      <th>Station_Name</th>\n",
       "      <th>Latitude</th>\n",
       "      <th>Longitude</th>\n",
       "      <th>Timestamp</th>\n",
       "      <th>Total_Available_Slots</th>\n",
       "      <th>Total_Available_Free_Bikes</th>\n",
       "      <th>Total_Available_EBikes</th>\n",
       "      <th>Total_Available_Normal_Bikes</th>\n",
       "      <th>Total_Available_Empty_Slots</th>\n",
       "    </tr>\n",
       "  </thead>\n",
       "  <tbody>\n",
       "    <tr>\n",
       "      <th>count</th>\n",
       "      <td>248.0</td>\n",
       "      <td>248</td>\n",
       "      <td>248</td>\n",
       "      <td>248</td>\n",
       "      <td>248</td>\n",
       "      <td>248.000000</td>\n",
       "      <td>248.000000</td>\n",
       "      <td>248</td>\n",
       "      <td>248.000000</td>\n",
       "      <td>248.000000</td>\n",
       "      <td>248.000000</td>\n",
       "      <td>248.000000</td>\n",
       "      <td>248.000000</td>\n",
       "    </tr>\n",
       "    <tr>\n",
       "      <th>unique</th>\n",
       "      <td>NaN</td>\n",
       "      <td>1</td>\n",
       "      <td>1</td>\n",
       "      <td>248</td>\n",
       "      <td>248</td>\n",
       "      <td>NaN</td>\n",
       "      <td>NaN</td>\n",
       "      <td>238</td>\n",
       "      <td>NaN</td>\n",
       "      <td>NaN</td>\n",
       "      <td>NaN</td>\n",
       "      <td>NaN</td>\n",
       "      <td>NaN</td>\n",
       "    </tr>\n",
       "    <tr>\n",
       "      <th>top</th>\n",
       "      <td>NaN</td>\n",
       "      <td>Vancouver</td>\n",
       "      <td>CA</td>\n",
       "      <td>7a19c49f486d7c0c02b3685d7b240448</td>\n",
       "      <td>10th &amp; Cambie</td>\n",
       "      <td>NaN</td>\n",
       "      <td>NaN</td>\n",
       "      <td>2023-12-17T22:12:48.997000Z</td>\n",
       "      <td>NaN</td>\n",
       "      <td>NaN</td>\n",
       "      <td>NaN</td>\n",
       "      <td>NaN</td>\n",
       "      <td>NaN</td>\n",
       "    </tr>\n",
       "    <tr>\n",
       "      <th>freq</th>\n",
       "      <td>NaN</td>\n",
       "      <td>248</td>\n",
       "      <td>248</td>\n",
       "      <td>1</td>\n",
       "      <td>1</td>\n",
       "      <td>NaN</td>\n",
       "      <td>NaN</td>\n",
       "      <td>2</td>\n",
       "      <td>NaN</td>\n",
       "      <td>NaN</td>\n",
       "      <td>NaN</td>\n",
       "      <td>NaN</td>\n",
       "      <td>NaN</td>\n",
       "    </tr>\n",
       "    <tr>\n",
       "      <th>mean</th>\n",
       "      <td>1.0</td>\n",
       "      <td>NaN</td>\n",
       "      <td>NaN</td>\n",
       "      <td>NaN</td>\n",
       "      <td>NaN</td>\n",
       "      <td>49.271782</td>\n",
       "      <td>-123.119346</td>\n",
       "      <td>NaN</td>\n",
       "      <td>18.810484</td>\n",
       "      <td>8.524194</td>\n",
       "      <td>1.834677</td>\n",
       "      <td>6.689516</td>\n",
       "      <td>9.967742</td>\n",
       "    </tr>\n",
       "    <tr>\n",
       "      <th>std</th>\n",
       "      <td>0.0</td>\n",
       "      <td>NaN</td>\n",
       "      <td>NaN</td>\n",
       "      <td>NaN</td>\n",
       "      <td>NaN</td>\n",
       "      <td>0.011709</td>\n",
       "      <td>0.032818</td>\n",
       "      <td>NaN</td>\n",
       "      <td>5.384824</td>\n",
       "      <td>5.931408</td>\n",
       "      <td>2.367306</td>\n",
       "      <td>5.456895</td>\n",
       "      <td>5.180836</td>\n",
       "    </tr>\n",
       "    <tr>\n",
       "      <th>min</th>\n",
       "      <td>1.0</td>\n",
       "      <td>NaN</td>\n",
       "      <td>NaN</td>\n",
       "      <td>NaN</td>\n",
       "      <td>NaN</td>\n",
       "      <td>49.238105</td>\n",
       "      <td>-123.252261</td>\n",
       "      <td>NaN</td>\n",
       "      <td>0.000000</td>\n",
       "      <td>0.000000</td>\n",
       "      <td>0.000000</td>\n",
       "      <td>0.000000</td>\n",
       "      <td>0.000000</td>\n",
       "    </tr>\n",
       "    <tr>\n",
       "      <th>25%</th>\n",
       "      <td>1.0</td>\n",
       "      <td>NaN</td>\n",
       "      <td>NaN</td>\n",
       "      <td>NaN</td>\n",
       "      <td>NaN</td>\n",
       "      <td>49.263484</td>\n",
       "      <td>-123.138182</td>\n",
       "      <td>NaN</td>\n",
       "      <td>15.750000</td>\n",
       "      <td>4.000000</td>\n",
       "      <td>0.000000</td>\n",
       "      <td>2.000000</td>\n",
       "      <td>6.000000</td>\n",
       "    </tr>\n",
       "    <tr>\n",
       "      <th>50%</th>\n",
       "      <td>1.0</td>\n",
       "      <td>NaN</td>\n",
       "      <td>NaN</td>\n",
       "      <td>NaN</td>\n",
       "      <td>NaN</td>\n",
       "      <td>49.271063</td>\n",
       "      <td>-123.118073</td>\n",
       "      <td>NaN</td>\n",
       "      <td>18.000000</td>\n",
       "      <td>8.000000</td>\n",
       "      <td>1.000000</td>\n",
       "      <td>6.000000</td>\n",
       "      <td>10.000000</td>\n",
       "    </tr>\n",
       "    <tr>\n",
       "      <th>75%</th>\n",
       "      <td>1.0</td>\n",
       "      <td>NaN</td>\n",
       "      <td>NaN</td>\n",
       "      <td>NaN</td>\n",
       "      <td>NaN</td>\n",
       "      <td>49.280662</td>\n",
       "      <td>-123.099747</td>\n",
       "      <td>NaN</td>\n",
       "      <td>20.000000</td>\n",
       "      <td>12.250000</td>\n",
       "      <td>3.000000</td>\n",
       "      <td>10.000000</td>\n",
       "      <td>13.000000</td>\n",
       "    </tr>\n",
       "    <tr>\n",
       "      <th>max</th>\n",
       "      <td>1.0</td>\n",
       "      <td>NaN</td>\n",
       "      <td>NaN</td>\n",
       "      <td>NaN</td>\n",
       "      <td>NaN</td>\n",
       "      <td>49.302577</td>\n",
       "      <td>-123.056909</td>\n",
       "      <td>NaN</td>\n",
       "      <td>40.000000</td>\n",
       "      <td>29.000000</td>\n",
       "      <td>14.000000</td>\n",
       "      <td>28.000000</td>\n",
       "      <td>26.000000</td>\n",
       "    </tr>\n",
       "  </tbody>\n",
       "</table>\n",
       "</div>"
      ],
      "text/plain": [
       "           id       City Country                        Station_Id  \\\n",
       "count   248.0        248     248                               248   \n",
       "unique    NaN          1       1                               248   \n",
       "top       NaN  Vancouver      CA  7a19c49f486d7c0c02b3685d7b240448   \n",
       "freq      NaN        248     248                                 1   \n",
       "mean      1.0        NaN     NaN                               NaN   \n",
       "std       0.0        NaN     NaN                               NaN   \n",
       "min       1.0        NaN     NaN                               NaN   \n",
       "25%       1.0        NaN     NaN                               NaN   \n",
       "50%       1.0        NaN     NaN                               NaN   \n",
       "75%       1.0        NaN     NaN                               NaN   \n",
       "max       1.0        NaN     NaN                               NaN   \n",
       "\n",
       "         Station_Name    Latitude   Longitude                    Timestamp  \\\n",
       "count             248  248.000000  248.000000                          248   \n",
       "unique            248         NaN         NaN                          238   \n",
       "top     10th & Cambie         NaN         NaN  2023-12-17T22:12:48.997000Z   \n",
       "freq                1         NaN         NaN                            2   \n",
       "mean              NaN   49.271782 -123.119346                          NaN   \n",
       "std               NaN    0.011709    0.032818                          NaN   \n",
       "min               NaN   49.238105 -123.252261                          NaN   \n",
       "25%               NaN   49.263484 -123.138182                          NaN   \n",
       "50%               NaN   49.271063 -123.118073                          NaN   \n",
       "75%               NaN   49.280662 -123.099747                          NaN   \n",
       "max               NaN   49.302577 -123.056909                          NaN   \n",
       "\n",
       "        Total_Available_Slots  Total_Available_Free_Bikes  \\\n",
       "count              248.000000                  248.000000   \n",
       "unique                    NaN                         NaN   \n",
       "top                       NaN                         NaN   \n",
       "freq                      NaN                         NaN   \n",
       "mean                18.810484                    8.524194   \n",
       "std                  5.384824                    5.931408   \n",
       "min                  0.000000                    0.000000   \n",
       "25%                 15.750000                    4.000000   \n",
       "50%                 18.000000                    8.000000   \n",
       "75%                 20.000000                   12.250000   \n",
       "max                 40.000000                   29.000000   \n",
       "\n",
       "        Total_Available_EBikes  Total_Available_Normal_Bikes  \\\n",
       "count               248.000000                    248.000000   \n",
       "unique                     NaN                           NaN   \n",
       "top                        NaN                           NaN   \n",
       "freq                       NaN                           NaN   \n",
       "mean                  1.834677                      6.689516   \n",
       "std                   2.367306                      5.456895   \n",
       "min                   0.000000                      0.000000   \n",
       "25%                   0.000000                      2.000000   \n",
       "50%                   1.000000                      6.000000   \n",
       "75%                   3.000000                     10.000000   \n",
       "max                  14.000000                     28.000000   \n",
       "\n",
       "        Total_Available_Empty_Slots  \n",
       "count                    248.000000  \n",
       "unique                          NaN  \n",
       "top                             NaN  \n",
       "freq                            NaN  \n",
       "mean                       9.967742  \n",
       "std                        5.180836  \n",
       "min                        0.000000  \n",
       "25%                        6.000000  \n",
       "50%                       10.000000  \n",
       "75%                       13.000000  \n",
       "max                       26.000000  "
      ]
     },
     "execution_count": 3,
     "metadata": {},
     "output_type": "execute_result"
    }
   ],
   "source": [
    "# Data Audit and cleaning for City Bike dataframe\n",
    "city_bike_df.head()\n",
    "city_bike_df.shape # 248,13\n",
    "city_bike_df.info() # No need to change data types\n",
    "city_bike_df.describe(include = 'all')\n",
    "\n",
    "\n",
    "# Column wise EDA and data cleaning\n",
    "# ID can be dropped, since it's repetitive and was created for joining purposes\n",
    "# City and Country will be same for all the records hence it can be left as it is\n",
    "# Station Id - just a unique identifier for the station, can be left as it is\n",
    "# Station name - \n",
    "    # Scope for text cleaning\n",
    "    # Check distribution of values and see if there are some repetitive names\n",
    "    # Create geographical map of stations using the latitude and longitude for showing a density plot \n",
    "# Time stamp - It will be same for all, extract and retain the date in a cleaner format as per Vancouver timezone\n",
    "# For the remaining columns check the distribution and if anomalies are present (can be correlated with the time and day of api call for example all bikes shall be available at odd hours and so)\n",
    "\n",
    "# Other plots to be created post joining and additional columns to be created\n",
    "# Correlation heatmap to establish hypothesis\n",
    "# Popularity index of a station - with reference to review count, ratings and number of POIs\n",
    "# Correlation between popularity index and cycle renting"
   ]
  },
  {
   "cell_type": "code",
   "execution_count": 4,
   "metadata": {},
   "outputs": [],
   "source": [
    "city_bike_df = city_bike_df.drop('id', axis=1)"
   ]
  },
  {
   "cell_type": "code",
   "execution_count": 5,
   "metadata": {},
   "outputs": [],
   "source": [
    "# Check Names for DQ issues\n",
    "city_bike_df.Station_Name.value_counts() \n",
    "# all have a count of one which means no 2 stations ids have the same name \n",
    "\n",
    "sum(city_bike_df['Station_Name'].isnull() | city_bike_df['Station_Name'] == '')\n",
    "# No junk values found in the distribution like Null, NAN, Blanks, 0 etc\n",
    "\n",
    "# Text cleaning \n",
    "import re\n",
    "\n",
    "def process_location_string(location_string):\n",
    "    # Use regex to find the brackets and their content\n",
    "    match = re.search(r'^(.*?)\\(([^)]*)\\)(.*)$', location_string)\n",
    "\n",
    "    if match:\n",
    "        # Extract parts of the string before, between, and after brackets\n",
    "        before_brackets = match.group(1)\n",
    "        brackets_content = match.group(2)\n",
    "        after_brackets = match.group(3)\n",
    "\n",
    "        # Add \"near\" before the brackets and remove brackets\n",
    "        new_location_string = f\"{before_brackets}near {brackets_content}{after_brackets}\"\n",
    "\n",
    "        return new_location_string\n",
    "\n",
    "    # Return the original string if no match is found\n",
    "    return location_string\n",
    "\n",
    "city_bike_df['Station_Name'] = city_bike_df['Station_Name'].apply(process_location_string)"
   ]
  },
  {
   "cell_type": "code",
   "execution_count": 7,
   "metadata": {},
   "outputs": [
    {
     "data": {
      "application/vnd.plotly.v1+json": {
       "config": {
        "plotlyServerURL": "https://plot.ly"
       },
       "data": [
        {
         "customdata": [
          [
           "10th & Cambie",
           29
          ],
          [
           "Yaletown-Roundhouse Station",
           12
          ],
          [
           "Dunsmuir & Beatty",
           18
          ],
          [
           "12th & Yukon near City Hall",
           8
          ],
          [
           "8th & Ash",
           11
          ],
          [
           "Spyglass & Seawall",
           11
          ],
          [
           "Stamps Landing",
           11
          ],
          [
           "Ontario & Seawall",
           7
          ],
          [
           "Canada Place",
           12
          ],
          [
           "Granville & Georgia",
           6
          ],
          [
           "Pender & Burrard",
           16
          ],
          [
           "Marinaside & Davie",
           22
          ],
          [
           "Robson & Hornby",
           16
          ],
          [
           "Hornby & Pender",
           9
          ],
          [
           "Homer & Robson near Vancouver Public Library",
           3
          ],
          [
           "Beatty & Nelson",
           3
          ],
          [
           "Abbott & Cordova",
           11
          ],
          [
           "Comox & Denman",
           18
          ],
          [
           "Cordova & Bute",
           14
          ],
          [
           "Hornby & Nelson",
           3
          ],
          [
           "Helmcken & Burrard",
           3
          ],
          [
           "Pacific & Richards",
           5
          ],
          [
           "Chilco & Beach",
           12
          ],
          [
           "Comox & Broughton",
           4
          ],
          [
           "Bute & Comox",
           12
          ],
          [
           "Cambie & Water",
           10
          ],
          [
           "Keefer & Abbott",
           21
          ],
          [
           "Expo & Carrall",
           14
          ],
          [
           "Keefer & Columbia",
           10
          ],
          [
           "Marinaside & Cooperage",
           19
          ],
          [
           "Bidwell & Burnaby",
           0
          ],
          [
           "Robson & Granville",
           16
          ],
          [
           "Expo & Smithe",
           13
          ],
          [
           "Cypress & Cornwall",
           18
          ],
          [
           "Anderson & 2nd",
           14
          ],
          [
           "7th & Granville",
           2
          ],
          [
           "10th & Granville",
           3
          ],
          [
           "14th & Granville",
           4
          ],
          [
           "14th & Cambie",
           2
          ],
          [
           "Ontario & 5th",
           10
          ],
          [
           "10th & Main",
           9
          ],
          [
           "Cypress & 4th",
           7
          ],
          [
           "Vanier Park",
           15
          ],
          [
           "Nelson & Mainland",
           5
          ],
          [
           "Nelson & Richards",
           4
          ],
          [
           "7th & Heather",
           13
          ],
          [
           "Harwood & Bute",
           5
          ],
          [
           "Chilco & Barclay",
           17
          ],
          [
           "Chilco & Robson",
           5
          ],
          [
           "Nicola & Robson",
           2
          ],
          [
           "Carrall & Hastings",
           13
          ],
          [
           "šxʷƛ̓ənəq Xwtl'e7énḵ Square - Vancouver Art Gallery",
           7
          ],
          [
           "Stanley Park - Vancouver Aquarium",
           1
          ],
          [
           "Stanley Park - Second Beach North",
           10
          ],
          [
           "Stanley Park - Second Beach South",
           8
          ],
          [
           "Stanley Park - Totem Poles",
           9
          ],
          [
           "Heather & 14th",
           2
          ],
          [
           "8th & Ontario",
           6
          ],
          [
           "1st & Chestnut",
           10
          ],
          [
           "7th & Arbutus",
           1
          ],
          [
           "5th & Arbutus",
           1
          ],
          [
           "10th & Oak",
           1
          ],
          [
           "Arbutus & 16th",
           20
          ],
          [
           "Cypress & 14th",
           5
          ],
          [
           "Cypress & 16th",
           6
          ],
          [
           "Georgia & Thurlow",
           7
          ],
          [
           "Thurlow & Pendrell",
           7
          ],
          [
           "Heather & 16th",
           2
          ],
          [
           "14th & Ontario",
           1
          ],
          [
           "14th & Main",
           0
          ],
          [
           "David Lam Park",
           11
          ],
          [
           "Beach & Seymour",
           16
          ],
          [
           "Richards & Helmcken",
           2
          ],
          [
           "Burrard & 4th",
           10
          ],
          [
           "Burrard & 7th",
           11
          ],
          [
           "South False Creek Seawall",
           12
          ],
          [
           "Chestnut & McNicoll",
           14
          ],
          [
           "Creekside Park North",
           11
          ],
          [
           "Alexander & Main",
           10
          ],
          [
           "Arbutus Greenway & 14th",
           6
          ],
          [
           "Arbutus Greenway & Fir",
           15
          ],
          [
           "Kitsilano Beach Park",
           23
          ],
          [
           "Arbutus & McNicoll",
           17
          ],
          [
           "Vine & 4th",
           9
          ],
          [
           "Alexander & Dunlevy",
           8
          ],
          [
           "Alder & 11th",
           2
          ],
          [
           "10th & Columbia",
           6
          ],
          [
           "1st & Manitoba",
           24
          ],
          [
           "10th & Ontario",
           5
          ],
          [
           "Quebec & 1st",
           15
          ],
          [
           "Columbia & 14th",
           9
          ],
          [
           "7th & Laurel",
           3
          ],
          [
           "7th &  Alder",
           5
          ],
          [
           "Science World",
           3
          ],
          [
           "1st & Scotia",
           4
          ],
          [
           "Rogers Tower",
           8
          ],
          [
           "York & Yew",
           7
          ],
          [
           "Pine & 10th",
           0
          ],
          [
           "8th & Scotia",
           5
          ],
          [
           "Alberni & Jervis",
           8
          ],
          [
           "Stanley Park - Information Booth",
           2
          ],
          [
           "14th & Alder",
           6
          ],
          [
           "Pender & Gore",
           8
          ],
          [
           "Carrall & Seawall",
           11
          ],
          [
           "Glen & Union",
           5
          ],
          [
           "Adanac & McLean",
           11
          ],
          [
           "Commercial & Adanac",
           4
          ],
          [
           "Pender & Commercial",
           13
          ],
          [
           "Keefer & Princess",
           7
          ],
          [
           "Alexander & Railway",
           4
          ],
          [
           "Napier & Commercial",
           3
          ],
          [
           "Britannia Parking Lot",
           6
          ],
          [
           "Thornton & National",
           9
          ],
          [
           "Keith & 6th",
           21
          ],
          [
           "Grant & Commercial",
           2
          ],
          [
           "2nd & Commercial",
           3
          ],
          [
           "4th & Commercial",
           1
          ],
          [
           "8th & Commercial",
           6
          ],
          [
           "10th & Commercial",
           9
          ],
          [
           "Woodland & 10th",
           5
          ],
          [
           "Glen & Broadway",
           6
          ],
          [
           "St George & Broadway",
           4
          ],
          [
           "7th & Woodland",
           11
          ],
          [
           "Woodland & 4th",
           8
          ],
          [
           "Woodland & Graveley",
           4
          ],
          [
           "Charles & Woodland",
           0
          ],
          [
           "18th & Main",
           3
          ],
          [
           "Prince Edward & 16th",
           0
          ],
          [
           "Prince Edward & 14th",
           8
          ],
          [
           "13th & St George",
           0
          ],
          [
           "10th & Fraser",
           1
          ],
          [
           "8th & Fraser",
           4
          ],
          [
           "St Catherines & 10th",
           1
          ],
          [
           "St Catherines & 7th",
           7
          ],
          [
           "Pender & Victoria",
           7
          ],
          [
           "Victoria & 4th",
           1
          ],
          [
           "Victoria & 10th",
           4
          ],
          [
           "15th & Victoria near Trout Lake",
           8
          ],
          [
           "Triumph & Victoria",
           6
          ],
          [
           "Windsor & 14th",
           3
          ],
          [
           "14th & Fraser",
           2
          ],
          [
           "15th & Knight",
           13
          ],
          [
           "Commercial & Pandora",
           16
          ],
          [
           "Carolina & Great Northern Way",
           2
          ],
          [
           "6th & Prince Edward",
           0
          ],
          [
           "6th & Carolina",
           3
          ],
          [
           "Stanley Park - Third Beach Parking Lot",
           15
          ],
          [
           "Union & Dunlevy",
           10
          ],
          [
           "Keefer & Hawks",
           11
          ],
          [
           "Hawks & Union",
           8
          ],
          [
           "Charles & Commercial",
           1
          ],
          [
           "10th & Kingsway",
           1
          ],
          [
           "Beach & Hornby",
           18
          ],
          [
           "Burrard Station near Melville & Dunsmuir",
           22
          ],
          [
           "Bute & Barclay",
           6
          ],
          [
           "8th & Yukon",
           13
          ],
          [
           "Princess & Union",
           7
          ],
          [
           "Dunsmuir & Richards",
           10
          ],
          [
           "5th & Main",
           11
          ],
          [
           "3rd & Quebec",
           16
          ],
          [
           "Richards & Cordova",
           5
          ],
          [
           "Richards & Robson",
           8
          ],
          [
           "Olympic Village Station",
           23
          ],
          [
           "Campbell & Hastings",
           5
          ],
          [
           "Cardero & Davie",
           13
          ],
          [
           "Aquatic Centre",
           29
          ],
          [
           "Beach & Broughton",
           14
          ],
          [
           "Beach & Cardero",
           14
          ],
          [
           "Georgia & Homer",
           8
          ],
          [
           "Columbia & 5th",
           15
          ],
          [
           "Haro & Denman",
           14
          ],
          [
           "Arbutus & 10th",
           3
          ],
          [
           "Ontario & 16th",
           1
          ],
          [
           "Richards & Davie",
           9
          ],
          [
           "8th & Prince Edward",
           2
          ],
          [
           "Jervis & Robson",
           12
          ],
          [
           "Smithe & Burrard",
           6
          ],
          [
           "Broughton & Davie",
           14
          ],
          [
           "Cypress & 10th",
           1
          ],
          [
           "Granville Island",
           19
          ],
          [
           "McLean & Pender",
           9
          ],
          [
           "Richards & Smithe",
           5
          ],
          [
           "Bute & Robson",
           13
          ],
          [
           "Trafalgar & Cornwall",
           5
          ],
          [
           "Alma & Point Grey",
           9
          ],
          [
           "Point Grey & Blenheim",
           10
          ],
          [
           "Hastings & Broughton",
           19
          ],
          [
           "Yew & Broadway",
           4
          ],
          [
           "8th & Macdonald",
           18
          ],
          [
           "Balaclava & Broadway",
           8
          ],
          [
           "Dunbar & Broadway",
           10
          ],
          [
           "Grandview & Commercial",
           9
          ],
          [
           "14th & Oak",
           4
          ],
          [
           "Wallace & 4th",
           10
          ],
          [
           "Balsam & Cornwall",
           17
          ],
          [
           "Balaclava & 6th",
           15
          ],
          [
           "Trafalgar & Broadway",
           9
          ],
          [
           "Dunbar & 6th",
           10
          ],
          [
           "18th & Cambie",
           4
          ],
          [
           "Blenheim & 4th",
           11
          ],
          [
           "18th & Heather",
           1
          ],
          [
           "Point Grey & Bayswater",
           4
          ],
          [
           "20th & Main",
           0
          ],
          [
           "Station & Terminal",
           13
          ],
          [
           "Jericho Beach",
           15
          ],
          [
           "Burrard & Drake",
           2
          ],
          [
           "Columbia & 1st",
           13
          ],
          [
           "Davie & Beach",
           16
          ],
          [
           "Morton & Denman",
           13
          ],
          [
           "13th & Cambie",
           8
          ],
          [
           "Nelson & Denman",
           10
          ],
          [
           "Melville & Bute",
           3
          ],
          [
           "Seymour & Cordova",
           4
          ],
          [
           "Arbutus & Nanton",
           10
          ],
          [
           "Yukon & 6th",
           15
          ],
          [
           "11th & Kingsway",
           7
          ],
          [
           "Wylie & 2nd",
           15
          ],
          [
           "29th & Cambie",
           5
          ],
          [
           "Rolston & Granville",
           3
          ],
          [
           "East Blvd & 37th",
           1
          ],
          [
           "28th & Willow",
           9
          ],
          [
           "Ontario & 23rd",
           2
          ],
          [
           "30th & Ontario",
           5
          ],
          [
           "Franklin & Nanaimo",
           0
          ],
          [
           "Lakewood & Triumph",
           4
          ],
          [
           "Wall & Eton",
           10
          ],
          [
           "Lakewood & Oxford",
           2
          ],
          [
           "22nd & Cambie",
           1
          ],
          [
           "King Edward & Cambie",
           10
          ],
          [
           "Heather & 29th",
           9
          ],
          [
           "Cardero & Robson",
           24
          ],
          [
           "Commercial & 20th",
           2
          ],
          [
           "Burrard & 14th",
           12
          ],
          [
           "Hornby & Drake",
           6
          ],
          [
           "Cardero & Bayshore",
           15
          ],
          [
           "27th & Main",
           5
          ],
          [
           "Cordova & Granville",
           2
          ],
          [
           "22nd & Main",
           6
          ],
          [
           "1st & Fir",
           14
          ],
          [
           "Sasamat & 10th",
           9
          ],
          [
           "Trimble & 8th",
           8
          ],
          [
           "Highbury & 8th",
           18
          ],
          [
           "IK Barber Learning Centre",
           14
          ],
          [
           "War Memorial Gym",
           14
          ],
          [
           "Pharmaceutical Sciences",
           5
          ],
          [
           "Georgia & Main",
           0
          ],
          [
           "Bute & Davie",
           12
          ],
          [
           "Beatty & Robson",
           7
          ]
         ],
         "hovertemplate": "<b>%{hovertext}</b><br><br>Total_Available_Free_Bikes=%{marker.color}<br>Latitude=%{lat}<br>Longitude=%{lon}<br>Station_Name=%{customdata[0]}<extra></extra>",
         "hovertext": [
          "10th & Cambie",
          "Yaletown-Roundhouse Station",
          "Dunsmuir & Beatty",
          "12th & Yukon near City Hall",
          "8th & Ash",
          "Spyglass & Seawall",
          "Stamps Landing",
          "Ontario & Seawall",
          "Canada Place",
          "Granville & Georgia",
          "Pender & Burrard",
          "Marinaside & Davie",
          "Robson & Hornby",
          "Hornby & Pender",
          "Homer & Robson near Vancouver Public Library",
          "Beatty & Nelson",
          "Abbott & Cordova",
          "Comox & Denman",
          "Cordova & Bute",
          "Hornby & Nelson",
          "Helmcken & Burrard",
          "Pacific & Richards",
          "Chilco & Beach",
          "Comox & Broughton",
          "Bute & Comox",
          "Cambie & Water",
          "Keefer & Abbott",
          "Expo & Carrall",
          "Keefer & Columbia",
          "Marinaside & Cooperage",
          "Bidwell & Burnaby",
          "Robson & Granville",
          "Expo & Smithe",
          "Cypress & Cornwall",
          "Anderson & 2nd",
          "7th & Granville",
          "10th & Granville",
          "14th & Granville",
          "14th & Cambie",
          "Ontario & 5th",
          "10th & Main",
          "Cypress & 4th",
          "Vanier Park",
          "Nelson & Mainland",
          "Nelson & Richards",
          "7th & Heather",
          "Harwood & Bute",
          "Chilco & Barclay",
          "Chilco & Robson",
          "Nicola & Robson",
          "Carrall & Hastings",
          "šxʷƛ̓ənəq Xwtl'e7énḵ Square - Vancouver Art Gallery",
          "Stanley Park - Vancouver Aquarium",
          "Stanley Park - Second Beach North",
          "Stanley Park - Second Beach South",
          "Stanley Park - Totem Poles",
          "Heather & 14th",
          "8th & Ontario",
          "1st & Chestnut",
          "7th & Arbutus",
          "5th & Arbutus",
          "10th & Oak",
          "Arbutus & 16th",
          "Cypress & 14th",
          "Cypress & 16th",
          "Georgia & Thurlow",
          "Thurlow & Pendrell",
          "Heather & 16th",
          "14th & Ontario",
          "14th & Main",
          "David Lam Park",
          "Beach & Seymour",
          "Richards & Helmcken",
          "Burrard & 4th",
          "Burrard & 7th",
          "South False Creek Seawall",
          "Chestnut & McNicoll",
          "Creekside Park North",
          "Alexander & Main",
          "Arbutus Greenway & 14th",
          "Arbutus Greenway & Fir",
          "Kitsilano Beach Park",
          "Arbutus & McNicoll",
          "Vine & 4th",
          "Alexander & Dunlevy",
          "Alder & 11th",
          "10th & Columbia",
          "1st & Manitoba",
          "10th & Ontario",
          "Quebec & 1st",
          "Columbia & 14th",
          "7th & Laurel",
          "7th &  Alder",
          "Science World",
          "1st & Scotia",
          "Rogers Tower",
          "York & Yew",
          "Pine & 10th",
          "8th & Scotia",
          "Alberni & Jervis",
          "Stanley Park - Information Booth",
          "14th & Alder",
          "Pender & Gore",
          "Carrall & Seawall",
          "Glen & Union",
          "Adanac & McLean",
          "Commercial & Adanac",
          "Pender & Commercial",
          "Keefer & Princess",
          "Alexander & Railway",
          "Napier & Commercial",
          "Britannia Parking Lot",
          "Thornton & National",
          "Keith & 6th",
          "Grant & Commercial",
          "2nd & Commercial",
          "4th & Commercial",
          "8th & Commercial",
          "10th & Commercial",
          "Woodland & 10th",
          "Glen & Broadway",
          "St George & Broadway",
          "7th & Woodland",
          "Woodland & 4th",
          "Woodland & Graveley",
          "Charles & Woodland",
          "18th & Main",
          "Prince Edward & 16th",
          "Prince Edward & 14th",
          "13th & St George",
          "10th & Fraser",
          "8th & Fraser",
          "St Catherines & 10th",
          "St Catherines & 7th",
          "Pender & Victoria",
          "Victoria & 4th",
          "Victoria & 10th",
          "15th & Victoria near Trout Lake",
          "Triumph & Victoria",
          "Windsor & 14th",
          "14th & Fraser",
          "15th & Knight",
          "Commercial & Pandora",
          "Carolina & Great Northern Way",
          "6th & Prince Edward",
          "6th & Carolina",
          "Stanley Park - Third Beach Parking Lot",
          "Union & Dunlevy",
          "Keefer & Hawks",
          "Hawks & Union",
          "Charles & Commercial",
          "10th & Kingsway",
          "Beach & Hornby",
          "Burrard Station near Melville & Dunsmuir",
          "Bute & Barclay",
          "8th & Yukon",
          "Princess & Union",
          "Dunsmuir & Richards",
          "5th & Main",
          "3rd & Quebec",
          "Richards & Cordova",
          "Richards & Robson",
          "Olympic Village Station",
          "Campbell & Hastings",
          "Cardero & Davie",
          "Aquatic Centre",
          "Beach & Broughton",
          "Beach & Cardero",
          "Georgia & Homer",
          "Columbia & 5th",
          "Haro & Denman",
          "Arbutus & 10th",
          "Ontario & 16th",
          "Richards & Davie",
          "8th & Prince Edward",
          "Jervis & Robson",
          "Smithe & Burrard",
          "Broughton & Davie",
          "Cypress & 10th",
          "Granville Island",
          "McLean & Pender",
          "Richards & Smithe",
          "Bute & Robson",
          "Trafalgar & Cornwall",
          "Alma & Point Grey",
          "Point Grey & Blenheim",
          "Hastings & Broughton",
          "Yew & Broadway",
          "8th & Macdonald",
          "Balaclava & Broadway",
          "Dunbar & Broadway",
          "Grandview & Commercial",
          "14th & Oak",
          "Wallace & 4th",
          "Balsam & Cornwall",
          "Balaclava & 6th",
          "Trafalgar & Broadway",
          "Dunbar & 6th",
          "18th & Cambie",
          "Blenheim & 4th",
          "18th & Heather",
          "Point Grey & Bayswater",
          "20th & Main",
          "Station & Terminal",
          "Jericho Beach",
          "Burrard & Drake",
          "Columbia & 1st",
          "Davie & Beach",
          "Morton & Denman",
          "13th & Cambie",
          "Nelson & Denman",
          "Melville & Bute",
          "Seymour & Cordova",
          "Arbutus & Nanton",
          "Yukon & 6th",
          "11th & Kingsway",
          "Wylie & 2nd",
          "29th & Cambie",
          "Rolston & Granville",
          "East Blvd & 37th",
          "28th & Willow",
          "Ontario & 23rd",
          "30th & Ontario",
          "Franklin & Nanaimo",
          "Lakewood & Triumph",
          "Wall & Eton",
          "Lakewood & Oxford",
          "22nd & Cambie",
          "King Edward & Cambie",
          "Heather & 29th",
          "Cardero & Robson",
          "Commercial & 20th",
          "Burrard & 14th",
          "Hornby & Drake",
          "Cardero & Bayshore",
          "27th & Main",
          "Cordova & Granville",
          "22nd & Main",
          "1st & Fir",
          "Sasamat & 10th",
          "Trimble & 8th",
          "Highbury & 8th",
          "IK Barber Learning Centre",
          "War Memorial Gym",
          "Pharmaceutical Sciences",
          "Georgia & Main",
          "Bute & Davie",
          "Beatty & Robson"
         ],
         "lat": [
          49.262487,
          49.274566,
          49.279764,
          49.260599,
          49.264215,
          49.270877,
          49.26893,
          49.271721,
          49.287214,
          49.282409,
          49.287097,
          49.273471,
          49.282758,
          49.28602,
          49.279739,
          49.275679,
          49.282759,
          49.288444,
          49.289124,
          49.28062,
          49.279938,
          49.273663,
          49.28972,
          49.285253,
          49.283343,
          49.284605,
          49.279821,
          49.278004,
          49.279342,
          49.273833,
          49.28526,
          49.281506,
          49.276115,
          49.272827,
          49.269361,
          49.2653,
          49.262598,
          49.25894,
          49.258763,
          49.266724,
          49.262141,
          49.268269,
          49.275717,
          49.276436,
          49.277844,
          49.265089,
          49.28026,
          49.291909,
          49.293257,
          49.288011,
          49.28117,
          49.283227,
          49.299292,
          49.29534,
          49.294318,
          49.298657,
          49.259183,
          49.263837,
          49.270721,
          49.265605,
          49.267222,
          49.262255,
          49.257654,
          49.25919,
          49.25741,
          49.285953,
          49.280881,
          49.256845,
          49.25849,
          49.258425,
          49.270905,
          49.273568,
          49.277141,
          49.267859,
          49.265336,
          49.267628,
          49.275938,
          49.2756,
          49.284157,
          49.258924,
          49.266774,
          49.273355,
          49.276144,
          49.268339,
          49.284062,
          49.261742,
          49.262206,
          49.27023,
          49.262062,
          49.27033,
          49.258902,
          49.265071,
          49.265198,
          49.273691,
          49.2685027,
          49.288682,
          49.271741,
          49.262822,
          49.263635,
          49.28763,
          49.297933,
          49.258819,
          49.280284,
          49.276294,
          49.277469,
          49.277665,
          49.277436,
          49.280332,
          49.279369,
          49.283992,
          49.274881,
          49.275882,
          49.273777,
          49.265005,
          49.271377,
          49.268616,
          49.266969,
          49.263242,
          49.261403,
          49.261263,
          49.262242,
          49.262321,
          49.264251,
          49.266751,
          49.270684,
          49.2731,
          49.254667,
          49.256694,
          49.258352,
          49.258817,
          49.26151,
          49.263382,
          49.261353,
          49.264466,
          49.280197,
          49.266725,
          49.261188,
          49.256857,
          49.283986,
          49.257985,
          49.257939,
          49.256496,
          49.283236,
          49.267266,
          49.265242,
          49.265213,
          49.302577,
          49.277595,
          49.279235,
          49.277333,
          49.273103,
          49.261973,
          49.275295,
          49.285871,
          49.284893,
          49.263962,
          49.277615,
          49.282214,
          49.266456,
          49.268216,
          49.284554,
          49.280216,
          49.266314,
          49.280852,
          49.285512,
          49.27821,
          49.281301,
          49.283298,
          49.280787,
          49.266476,
          49.290587,
          49.262835,
          49.256825,
          49.275683,
          49.263518,
          49.28691,
          49.282503,
          49.283749,
          49.262944,
          49.27029,
          49.280427,
          49.279259,
          49.285836,
          49.272969,
          49.27247,
          49.271471,
          49.290112,
          49.263523,
          49.264928,
          49.264483,
          49.264579,
          49.263746,
          49.258761,
          49.268974,
          49.273011,
          49.266924,
          49.264326,
          49.266636,
          49.254818,
          49.268837,
          49.255034,
          49.271044,
          49.252691,
          49.272172,
          49.271082,
          49.27808,
          49.269969,
          49.287528,
          49.28803,
          49.259579,
          49.2890705989865,
          49.287782,
          49.28512,
          49.247854,
          49.265939,
          49.261122,
          49.267725,
          49.245135,
          49.274232,
          49.238105,
          49.246243,
          49.249722,
          49.243375,
          49.282087,
          49.283968,
          49.287464,
          49.285575,
          49.251358,
          49.249184,
          49.245535,
          49.289255,
          49.252656,
          49.259469,
          49.277178,
          49.291597,
          49.247204,
          49.2856698,
          49.25094,
          49.270783,
          49.264019,
          49.2658,
          49.265442,
          49.267561,
          49.2665793,
          49.26262,
          49.278529,
          49.282047,
          49.277773
         ],
         "legendgroup": "",
         "lon": [
          -123.114397,
          -123.121817,
          -123.110154,
          -123.113504,
          -123.117772,
          -123.115103,
          -123.11813,
          -123.104207,
          -123.11287,
          -123.118541,
          -123.118551,
          -123.118016,
          -123.122092,
          -123.116624,
          -123.116251,
          -123.116963,
          -123.106955,
          -123.139203,
          -123.12196,
          -123.12482,
          -123.127478,
          -123.127075,
          -123.144028,
          -123.134356,
          -123.131099,
          -123.108662,
          -123.10802,
          -123.105664,
          -123.101822,
          -123.114373,
          -123.141809,
          -123.120101,
          -123.114496,
          -123.147744,
          -123.13782,
          -123.13811,
          -123.138921,
          -123.139272,
          -123.115392,
          -123.104824,
          -123.101961,
          -123.147885,
          -123.142564,
          -123.11877,
          -123.120942,
          -123.119425,
          -123.135244,
          -123.140713,
          -123.138563,
          -123.132006,
          -123.104419,
          -123.120523,
          -123.130281,
          -123.150433,
          -123.148808,
          -123.121176,
          -123.120126,
          -123.105173,
          -123.146175,
          -123.152566,
          -123.153157,
          -123.126217,
          -123.153212,
          -123.148268,
          -123.148531,
          -123.124066,
          -123.130672,
          -123.120071,
          -123.104799,
          -123.100792,
          -123.126006,
          -123.129935,
          -123.122589,
          -123.145782,
          -123.145823,
          -123.127698,
          -123.145939,
          -123.102661,
          -123.099917,
          -123.152591,
          -123.141135,
          -123.154493,
          -123.151272,
          -123.157443,
          -123.095097,
          -123.13148,
          -123.109091,
          -123.10651,
          -123.104656,
          -123.10275,
          -123.109596,
          -123.123864,
          -123.131043,
          -123.102232,
          -123.0975014,
          -123.11818,
          -123.155421,
          -123.14338,
          -123.099236,
          -123.127245,
          -123.130758,
          -123.131317,
          -123.097052,
          -123.106534,
          -123.081315,
          -123.073653,
          -123.070427,
          -123.070068,
          -123.091241,
          -123.091206,
          -123.069323,
          -123.071865,
          -123.092723,
          -123.079481,
          -123.069416,
          -123.069908,
          -123.069936,
          -123.070521,
          -123.070102,
          -123.073707,
          -123.081459,
          -123.09306,
          -123.073853,
          -123.073501,
          -123.073562,
          -123.0732,
          -123.101389,
          -123.096579,
          -123.096337,
          -123.092797,
          -123.089413,
          -123.088837,
          -123.085333,
          -123.085183,
          -123.065859,
          -123.065925,
          -123.066009,
          -123.065646,
          -123.065264,
          -123.083366,
          -123.089531,
          -123.075426,
          -123.070443,
          -123.090786,
          -123.095577,
          -123.090785,
          -123.155616,
          -123.09583,
          -123.087528,
          -123.087359,
          -123.069892,
          -123.09725,
          -123.132585,
          -123.12105,
          -123.128685,
          -123.112621,
          -123.091654,
          -123.114101,
          -123.100324,
          -123.103168,
          -123.111031,
          -123.117639,
          -123.116011,
          -123.084746,
          -123.1384,
          -123.136972,
          -123.139108,
          -123.142288,
          -123.115271,
          -123.109389,
          -123.13625,
          -123.152626,
          -123.105234,
          -123.124388,
          -123.09568,
          -123.128818,
          -123.124697,
          -123.136133,
          -123.148109,
          -123.135025,
          -123.074082,
          -123.119145,
          -123.127265,
          -123.164325,
          -123.185643,
          -123.17731,
          -123.127062,
          -123.155267,
          -123.168068,
          -123.173926,
          -123.18373,
          -123.069892,
          -123.127071,
          -123.190701,
          -123.159663,
          -123.173849,
          -123.164725,
          -123.183661,
          -123.114785,
          -123.177633,
          -123.120226,
          -123.170661,
          -123.101289,
          -123.097978,
          -123.191458,
          -123.130557,
          -123.109623,
          -123.142139,
          -123.142135,
          -123.114769,
          -123.138407369468,
          -123.12395,
          -123.11242,
          -123.153422,
          -123.1129,
          -123.097571,
          -123.11311,
          -123.116098,
          -123.129998,
          -123.154966,
          -123.124373,
          -123.104991,
          -123.104978,
          -123.056909,
          -123.061615,
          -123.060771,
          -123.061575,
          -123.115637,
          -123.116141,
          -123.120496,
          -123.132677,
          -123.067965,
          -123.145718,
          -123.13,
          -123.129158,
          -123.101549,
          -123.1125432,
          -123.101306,
          -123.141564,
          -123.209176,
          -123.20596,
          -123.187738,
          -123.252261,
          -123.2485487,
          -123.2431,
          -123.100017,
          -123.133057,
          -123.114237
         ],
         "marker": {
          "color": [
           29,
           12,
           18,
           8,
           11,
           11,
           11,
           7,
           12,
           6,
           16,
           22,
           16,
           9,
           3,
           3,
           11,
           18,
           14,
           3,
           3,
           5,
           12,
           4,
           12,
           10,
           21,
           14,
           10,
           19,
           0,
           16,
           13,
           18,
           14,
           2,
           3,
           4,
           2,
           10,
           9,
           7,
           15,
           5,
           4,
           13,
           5,
           17,
           5,
           2,
           13,
           7,
           1,
           10,
           8,
           9,
           2,
           6,
           10,
           1,
           1,
           1,
           20,
           5,
           6,
           7,
           7,
           2,
           1,
           0,
           11,
           16,
           2,
           10,
           11,
           12,
           14,
           11,
           10,
           6,
           15,
           23,
           17,
           9,
           8,
           2,
           6,
           24,
           5,
           15,
           9,
           3,
           5,
           3,
           4,
           8,
           7,
           0,
           5,
           8,
           2,
           6,
           8,
           11,
           5,
           11,
           4,
           13,
           7,
           4,
           3,
           6,
           9,
           21,
           2,
           3,
           1,
           6,
           9,
           5,
           6,
           4,
           11,
           8,
           4,
           0,
           3,
           0,
           8,
           0,
           1,
           4,
           1,
           7,
           7,
           1,
           4,
           8,
           6,
           3,
           2,
           13,
           16,
           2,
           0,
           3,
           15,
           10,
           11,
           8,
           1,
           1,
           18,
           22,
           6,
           13,
           7,
           10,
           11,
           16,
           5,
           8,
           23,
           5,
           13,
           29,
           14,
           14,
           8,
           15,
           14,
           3,
           1,
           9,
           2,
           12,
           6,
           14,
           1,
           19,
           9,
           5,
           13,
           5,
           9,
           10,
           19,
           4,
           18,
           8,
           10,
           9,
           4,
           10,
           17,
           15,
           9,
           10,
           4,
           11,
           1,
           4,
           0,
           13,
           15,
           2,
           13,
           16,
           13,
           8,
           10,
           3,
           4,
           10,
           15,
           7,
           15,
           5,
           3,
           1,
           9,
           2,
           5,
           0,
           4,
           10,
           2,
           1,
           10,
           9,
           24,
           2,
           12,
           6,
           15,
           5,
           2,
           6,
           14,
           9,
           8,
           18,
           14,
           14,
           5,
           0,
           12,
           7
          ],
          "coloraxis": "coloraxis",
          "size": [
           29,
           12,
           18,
           8,
           11,
           11,
           11,
           7,
           12,
           6,
           16,
           22,
           16,
           9,
           3,
           3,
           11,
           18,
           14,
           3,
           3,
           5,
           12,
           4,
           12,
           10,
           21,
           14,
           10,
           19,
           0,
           16,
           13,
           18,
           14,
           2,
           3,
           4,
           2,
           10,
           9,
           7,
           15,
           5,
           4,
           13,
           5,
           17,
           5,
           2,
           13,
           7,
           1,
           10,
           8,
           9,
           2,
           6,
           10,
           1,
           1,
           1,
           20,
           5,
           6,
           7,
           7,
           2,
           1,
           0,
           11,
           16,
           2,
           10,
           11,
           12,
           14,
           11,
           10,
           6,
           15,
           23,
           17,
           9,
           8,
           2,
           6,
           24,
           5,
           15,
           9,
           3,
           5,
           3,
           4,
           8,
           7,
           0,
           5,
           8,
           2,
           6,
           8,
           11,
           5,
           11,
           4,
           13,
           7,
           4,
           3,
           6,
           9,
           21,
           2,
           3,
           1,
           6,
           9,
           5,
           6,
           4,
           11,
           8,
           4,
           0,
           3,
           0,
           8,
           0,
           1,
           4,
           1,
           7,
           7,
           1,
           4,
           8,
           6,
           3,
           2,
           13,
           16,
           2,
           0,
           3,
           15,
           10,
           11,
           8,
           1,
           1,
           18,
           22,
           6,
           13,
           7,
           10,
           11,
           16,
           5,
           8,
           23,
           5,
           13,
           29,
           14,
           14,
           8,
           15,
           14,
           3,
           1,
           9,
           2,
           12,
           6,
           14,
           1,
           19,
           9,
           5,
           13,
           5,
           9,
           10,
           19,
           4,
           18,
           8,
           10,
           9,
           4,
           10,
           17,
           15,
           9,
           10,
           4,
           11,
           1,
           4,
           0,
           13,
           15,
           2,
           13,
           16,
           13,
           8,
           10,
           3,
           4,
           10,
           15,
           7,
           15,
           5,
           3,
           1,
           9,
           2,
           5,
           0,
           4,
           10,
           2,
           1,
           10,
           9,
           24,
           2,
           12,
           6,
           15,
           5,
           2,
           6,
           14,
           9,
           8,
           18,
           14,
           14,
           5,
           0,
           12,
           7
          ],
          "sizemode": "area",
          "sizeref": 0.0725
         },
         "mode": "markers",
         "name": "",
         "showlegend": false,
         "subplot": "mapbox",
         "type": "scattermapbox"
        }
       ],
       "layout": {
        "coloraxis": {
         "colorbar": {
          "title": {
           "text": "Total_Available_Free_Bikes"
          }
         },
         "colorscale": [
          [
           0,
           "orange"
          ],
          [
           1,
           "red"
          ]
         ]
        },
        "height": 600,
        "legend": {
         "itemsizing": "constant",
         "tracegroupgap": 0
        },
        "mapbox": {
         "center": {
          "lat": 49.271781606447526,
          "lon": -123.11934593818334
         },
         "domain": {
          "x": [
           0,
           1
          ],
          "y": [
           0,
           1
          ]
         },
         "style": "open-street-map",
         "zoom": 8
        },
        "margin": {
         "b": 0,
         "l": 0,
         "r": 0,
         "t": 0
        },
        "template": {
         "data": {
          "bar": [
           {
            "error_x": {
             "color": "#2a3f5f"
            },
            "error_y": {
             "color": "#2a3f5f"
            },
            "marker": {
             "line": {
              "color": "#E5ECF6",
              "width": 0.5
             },
             "pattern": {
              "fillmode": "overlay",
              "size": 10,
              "solidity": 0.2
             }
            },
            "type": "bar"
           }
          ],
          "barpolar": [
           {
            "marker": {
             "line": {
              "color": "#E5ECF6",
              "width": 0.5
             },
             "pattern": {
              "fillmode": "overlay",
              "size": 10,
              "solidity": 0.2
             }
            },
            "type": "barpolar"
           }
          ],
          "carpet": [
           {
            "aaxis": {
             "endlinecolor": "#2a3f5f",
             "gridcolor": "white",
             "linecolor": "white",
             "minorgridcolor": "white",
             "startlinecolor": "#2a3f5f"
            },
            "baxis": {
             "endlinecolor": "#2a3f5f",
             "gridcolor": "white",
             "linecolor": "white",
             "minorgridcolor": "white",
             "startlinecolor": "#2a3f5f"
            },
            "type": "carpet"
           }
          ],
          "choropleth": [
           {
            "colorbar": {
             "outlinewidth": 0,
             "ticks": ""
            },
            "type": "choropleth"
           }
          ],
          "contour": [
           {
            "colorbar": {
             "outlinewidth": 0,
             "ticks": ""
            },
            "colorscale": [
             [
              0,
              "#0d0887"
             ],
             [
              0.1111111111111111,
              "#46039f"
             ],
             [
              0.2222222222222222,
              "#7201a8"
             ],
             [
              0.3333333333333333,
              "#9c179e"
             ],
             [
              0.4444444444444444,
              "#bd3786"
             ],
             [
              0.5555555555555556,
              "#d8576b"
             ],
             [
              0.6666666666666666,
              "#ed7953"
             ],
             [
              0.7777777777777778,
              "#fb9f3a"
             ],
             [
              0.8888888888888888,
              "#fdca26"
             ],
             [
              1,
              "#f0f921"
             ]
            ],
            "type": "contour"
           }
          ],
          "contourcarpet": [
           {
            "colorbar": {
             "outlinewidth": 0,
             "ticks": ""
            },
            "type": "contourcarpet"
           }
          ],
          "heatmap": [
           {
            "colorbar": {
             "outlinewidth": 0,
             "ticks": ""
            },
            "colorscale": [
             [
              0,
              "#0d0887"
             ],
             [
              0.1111111111111111,
              "#46039f"
             ],
             [
              0.2222222222222222,
              "#7201a8"
             ],
             [
              0.3333333333333333,
              "#9c179e"
             ],
             [
              0.4444444444444444,
              "#bd3786"
             ],
             [
              0.5555555555555556,
              "#d8576b"
             ],
             [
              0.6666666666666666,
              "#ed7953"
             ],
             [
              0.7777777777777778,
              "#fb9f3a"
             ],
             [
              0.8888888888888888,
              "#fdca26"
             ],
             [
              1,
              "#f0f921"
             ]
            ],
            "type": "heatmap"
           }
          ],
          "heatmapgl": [
           {
            "colorbar": {
             "outlinewidth": 0,
             "ticks": ""
            },
            "colorscale": [
             [
              0,
              "#0d0887"
             ],
             [
              0.1111111111111111,
              "#46039f"
             ],
             [
              0.2222222222222222,
              "#7201a8"
             ],
             [
              0.3333333333333333,
              "#9c179e"
             ],
             [
              0.4444444444444444,
              "#bd3786"
             ],
             [
              0.5555555555555556,
              "#d8576b"
             ],
             [
              0.6666666666666666,
              "#ed7953"
             ],
             [
              0.7777777777777778,
              "#fb9f3a"
             ],
             [
              0.8888888888888888,
              "#fdca26"
             ],
             [
              1,
              "#f0f921"
             ]
            ],
            "type": "heatmapgl"
           }
          ],
          "histogram": [
           {
            "marker": {
             "pattern": {
              "fillmode": "overlay",
              "size": 10,
              "solidity": 0.2
             }
            },
            "type": "histogram"
           }
          ],
          "histogram2d": [
           {
            "colorbar": {
             "outlinewidth": 0,
             "ticks": ""
            },
            "colorscale": [
             [
              0,
              "#0d0887"
             ],
             [
              0.1111111111111111,
              "#46039f"
             ],
             [
              0.2222222222222222,
              "#7201a8"
             ],
             [
              0.3333333333333333,
              "#9c179e"
             ],
             [
              0.4444444444444444,
              "#bd3786"
             ],
             [
              0.5555555555555556,
              "#d8576b"
             ],
             [
              0.6666666666666666,
              "#ed7953"
             ],
             [
              0.7777777777777778,
              "#fb9f3a"
             ],
             [
              0.8888888888888888,
              "#fdca26"
             ],
             [
              1,
              "#f0f921"
             ]
            ],
            "type": "histogram2d"
           }
          ],
          "histogram2dcontour": [
           {
            "colorbar": {
             "outlinewidth": 0,
             "ticks": ""
            },
            "colorscale": [
             [
              0,
              "#0d0887"
             ],
             [
              0.1111111111111111,
              "#46039f"
             ],
             [
              0.2222222222222222,
              "#7201a8"
             ],
             [
              0.3333333333333333,
              "#9c179e"
             ],
             [
              0.4444444444444444,
              "#bd3786"
             ],
             [
              0.5555555555555556,
              "#d8576b"
             ],
             [
              0.6666666666666666,
              "#ed7953"
             ],
             [
              0.7777777777777778,
              "#fb9f3a"
             ],
             [
              0.8888888888888888,
              "#fdca26"
             ],
             [
              1,
              "#f0f921"
             ]
            ],
            "type": "histogram2dcontour"
           }
          ],
          "mesh3d": [
           {
            "colorbar": {
             "outlinewidth": 0,
             "ticks": ""
            },
            "type": "mesh3d"
           }
          ],
          "parcoords": [
           {
            "line": {
             "colorbar": {
              "outlinewidth": 0,
              "ticks": ""
             }
            },
            "type": "parcoords"
           }
          ],
          "pie": [
           {
            "automargin": true,
            "type": "pie"
           }
          ],
          "scatter": [
           {
            "fillpattern": {
             "fillmode": "overlay",
             "size": 10,
             "solidity": 0.2
            },
            "type": "scatter"
           }
          ],
          "scatter3d": [
           {
            "line": {
             "colorbar": {
              "outlinewidth": 0,
              "ticks": ""
             }
            },
            "marker": {
             "colorbar": {
              "outlinewidth": 0,
              "ticks": ""
             }
            },
            "type": "scatter3d"
           }
          ],
          "scattercarpet": [
           {
            "marker": {
             "colorbar": {
              "outlinewidth": 0,
              "ticks": ""
             }
            },
            "type": "scattercarpet"
           }
          ],
          "scattergeo": [
           {
            "marker": {
             "colorbar": {
              "outlinewidth": 0,
              "ticks": ""
             }
            },
            "type": "scattergeo"
           }
          ],
          "scattergl": [
           {
            "marker": {
             "colorbar": {
              "outlinewidth": 0,
              "ticks": ""
             }
            },
            "type": "scattergl"
           }
          ],
          "scattermapbox": [
           {
            "marker": {
             "colorbar": {
              "outlinewidth": 0,
              "ticks": ""
             }
            },
            "type": "scattermapbox"
           }
          ],
          "scatterpolar": [
           {
            "marker": {
             "colorbar": {
              "outlinewidth": 0,
              "ticks": ""
             }
            },
            "type": "scatterpolar"
           }
          ],
          "scatterpolargl": [
           {
            "marker": {
             "colorbar": {
              "outlinewidth": 0,
              "ticks": ""
             }
            },
            "type": "scatterpolargl"
           }
          ],
          "scatterternary": [
           {
            "marker": {
             "colorbar": {
              "outlinewidth": 0,
              "ticks": ""
             }
            },
            "type": "scatterternary"
           }
          ],
          "surface": [
           {
            "colorbar": {
             "outlinewidth": 0,
             "ticks": ""
            },
            "colorscale": [
             [
              0,
              "#0d0887"
             ],
             [
              0.1111111111111111,
              "#46039f"
             ],
             [
              0.2222222222222222,
              "#7201a8"
             ],
             [
              0.3333333333333333,
              "#9c179e"
             ],
             [
              0.4444444444444444,
              "#bd3786"
             ],
             [
              0.5555555555555556,
              "#d8576b"
             ],
             [
              0.6666666666666666,
              "#ed7953"
             ],
             [
              0.7777777777777778,
              "#fb9f3a"
             ],
             [
              0.8888888888888888,
              "#fdca26"
             ],
             [
              1,
              "#f0f921"
             ]
            ],
            "type": "surface"
           }
          ],
          "table": [
           {
            "cells": {
             "fill": {
              "color": "#EBF0F8"
             },
             "line": {
              "color": "white"
             }
            },
            "header": {
             "fill": {
              "color": "#C8D4E3"
             },
             "line": {
              "color": "white"
             }
            },
            "type": "table"
           }
          ]
         },
         "layout": {
          "annotationdefaults": {
           "arrowcolor": "#2a3f5f",
           "arrowhead": 0,
           "arrowwidth": 1
          },
          "autotypenumbers": "strict",
          "coloraxis": {
           "colorbar": {
            "outlinewidth": 0,
            "ticks": ""
           }
          },
          "colorscale": {
           "diverging": [
            [
             0,
             "#8e0152"
            ],
            [
             0.1,
             "#c51b7d"
            ],
            [
             0.2,
             "#de77ae"
            ],
            [
             0.3,
             "#f1b6da"
            ],
            [
             0.4,
             "#fde0ef"
            ],
            [
             0.5,
             "#f7f7f7"
            ],
            [
             0.6,
             "#e6f5d0"
            ],
            [
             0.7,
             "#b8e186"
            ],
            [
             0.8,
             "#7fbc41"
            ],
            [
             0.9,
             "#4d9221"
            ],
            [
             1,
             "#276419"
            ]
           ],
           "sequential": [
            [
             0,
             "#0d0887"
            ],
            [
             0.1111111111111111,
             "#46039f"
            ],
            [
             0.2222222222222222,
             "#7201a8"
            ],
            [
             0.3333333333333333,
             "#9c179e"
            ],
            [
             0.4444444444444444,
             "#bd3786"
            ],
            [
             0.5555555555555556,
             "#d8576b"
            ],
            [
             0.6666666666666666,
             "#ed7953"
            ],
            [
             0.7777777777777778,
             "#fb9f3a"
            ],
            [
             0.8888888888888888,
             "#fdca26"
            ],
            [
             1,
             "#f0f921"
            ]
           ],
           "sequentialminus": [
            [
             0,
             "#0d0887"
            ],
            [
             0.1111111111111111,
             "#46039f"
            ],
            [
             0.2222222222222222,
             "#7201a8"
            ],
            [
             0.3333333333333333,
             "#9c179e"
            ],
            [
             0.4444444444444444,
             "#bd3786"
            ],
            [
             0.5555555555555556,
             "#d8576b"
            ],
            [
             0.6666666666666666,
             "#ed7953"
            ],
            [
             0.7777777777777778,
             "#fb9f3a"
            ],
            [
             0.8888888888888888,
             "#fdca26"
            ],
            [
             1,
             "#f0f921"
            ]
           ]
          },
          "colorway": [
           "#636efa",
           "#EF553B",
           "#00cc96",
           "#ab63fa",
           "#FFA15A",
           "#19d3f3",
           "#FF6692",
           "#B6E880",
           "#FF97FF",
           "#FECB52"
          ],
          "font": {
           "color": "#2a3f5f"
          },
          "geo": {
           "bgcolor": "white",
           "lakecolor": "white",
           "landcolor": "#E5ECF6",
           "showlakes": true,
           "showland": true,
           "subunitcolor": "white"
          },
          "hoverlabel": {
           "align": "left"
          },
          "hovermode": "closest",
          "mapbox": {
           "style": "light"
          },
          "paper_bgcolor": "white",
          "plot_bgcolor": "#E5ECF6",
          "polar": {
           "angularaxis": {
            "gridcolor": "white",
            "linecolor": "white",
            "ticks": ""
           },
           "bgcolor": "#E5ECF6",
           "radialaxis": {
            "gridcolor": "white",
            "linecolor": "white",
            "ticks": ""
           }
          },
          "scene": {
           "xaxis": {
            "backgroundcolor": "#E5ECF6",
            "gridcolor": "white",
            "gridwidth": 2,
            "linecolor": "white",
            "showbackground": true,
            "ticks": "",
            "zerolinecolor": "white"
           },
           "yaxis": {
            "backgroundcolor": "#E5ECF6",
            "gridcolor": "white",
            "gridwidth": 2,
            "linecolor": "white",
            "showbackground": true,
            "ticks": "",
            "zerolinecolor": "white"
           },
           "zaxis": {
            "backgroundcolor": "#E5ECF6",
            "gridcolor": "white",
            "gridwidth": 2,
            "linecolor": "white",
            "showbackground": true,
            "ticks": "",
            "zerolinecolor": "white"
           }
          },
          "shapedefaults": {
           "line": {
            "color": "#2a3f5f"
           }
          },
          "ternary": {
           "aaxis": {
            "gridcolor": "white",
            "linecolor": "white",
            "ticks": ""
           },
           "baxis": {
            "gridcolor": "white",
            "linecolor": "white",
            "ticks": ""
           },
           "bgcolor": "#E5ECF6",
           "caxis": {
            "gridcolor": "white",
            "linecolor": "white",
            "ticks": ""
           }
          },
          "title": {
           "x": 0.05
          },
          "xaxis": {
           "automargin": true,
           "gridcolor": "white",
           "linecolor": "white",
           "ticks": "",
           "title": {
            "standoff": 15
           },
           "zerolinecolor": "white",
           "zerolinewidth": 2
          },
          "yaxis": {
           "automargin": true,
           "gridcolor": "white",
           "linecolor": "white",
           "ticks": "",
           "title": {
            "standoff": 15
           },
           "zerolinecolor": "white",
           "zerolinewidth": 2
          }
         }
        },
        "width": 800
       }
      }
     },
     "metadata": {},
     "output_type": "display_data"
    }
   ],
   "source": [
    "# Visualize the bike stations in a geo map\n",
    "\n",
    "color_scale = [(0, 'orange'), (1,'red')]\n",
    "\n",
    "fig = px.scatter_mapbox(city_bike_df, \n",
    "                        lat=\"Latitude\", \n",
    "                        lon=\"Longitude\", \n",
    "                        hover_name=\"Station_Name\", \n",
    "                        hover_data=[\"Station_Name\", \"Total_Available_Free_Bikes\"],\n",
    "                        color=\"Total_Available_Free_Bikes\",\n",
    "                        color_continuous_scale=color_scale,\n",
    "                        size=\"Total_Available_Free_Bikes\",\n",
    "                        zoom=8, \n",
    "                        height=600,\n",
    "                        width=800)\n",
    "\n",
    "fig.update_layout(mapbox_style=\"open-street-map\")\n",
    "fig.update_layout(margin={\"r\":0,\"t\":0,\"l\":0,\"b\":0})\n",
    "fig.show()\n",
    "# Majority of the stations are in the downtown area\n",
    "\n",
    "# Save the figure as an HTML file\n",
    "fig.write_html(r\"C:\\Users\\aksha\\Documents\\LHL\\LHL Assignments\\Week 5\\Python Statistical Modeling Project\\Python Project\\Statistical_Modeling_Python\\images\\city_bike_map_chart.html\")"
   ]
  },
  {
   "cell_type": "code",
   "execution_count": 11,
   "metadata": {},
   "outputs": [
    {
     "data": {
      "text/html": [
       "<div>\n",
       "<style scoped>\n",
       "    .dataframe tbody tr th:only-of-type {\n",
       "        vertical-align: middle;\n",
       "    }\n",
       "\n",
       "    .dataframe tbody tr th {\n",
       "        vertical-align: top;\n",
       "    }\n",
       "\n",
       "    .dataframe thead th {\n",
       "        text-align: right;\n",
       "    }\n",
       "</style>\n",
       "<table border=\"1\" class=\"dataframe\">\n",
       "  <thead>\n",
       "    <tr style=\"text-align: right;\">\n",
       "      <th></th>\n",
       "      <th>City</th>\n",
       "      <th>Country</th>\n",
       "      <th>Station_Id</th>\n",
       "      <th>Station_Name</th>\n",
       "      <th>Latitude</th>\n",
       "      <th>Longitude</th>\n",
       "      <th>Total_Available_Slots</th>\n",
       "      <th>Total_Available_Free_Bikes</th>\n",
       "      <th>Total_Available_EBikes</th>\n",
       "      <th>Total_Available_Normal_Bikes</th>\n",
       "      <th>Total_Available_Empty_Slots</th>\n",
       "      <th>Date_Time</th>\n",
       "      <th>Date</th>\n",
       "      <th>Time</th>\n",
       "    </tr>\n",
       "  </thead>\n",
       "  <tbody>\n",
       "    <tr>\n",
       "      <th>0</th>\n",
       "      <td>Vancouver</td>\n",
       "      <td>CA</td>\n",
       "      <td>7a19c49f486d7c0c02b3685d7b240448</td>\n",
       "      <td>10th &amp; Cambie</td>\n",
       "      <td>49.262487</td>\n",
       "      <td>-123.114397</td>\n",
       "      <td>36</td>\n",
       "      <td>29</td>\n",
       "      <td>1</td>\n",
       "      <td>28</td>\n",
       "      <td>5</td>\n",
       "      <td>2023-12-17 14:12:48.876Z</td>\n",
       "      <td>2023-12-17</td>\n",
       "      <td>14:12:48.876000</td>\n",
       "    </tr>\n",
       "    <tr>\n",
       "      <th>1</th>\n",
       "      <td>Vancouver</td>\n",
       "      <td>CA</td>\n",
       "      <td>32603a87cfca71d0f7dfa3513bad69d5</td>\n",
       "      <td>Yaletown-Roundhouse Station</td>\n",
       "      <td>49.274566</td>\n",
       "      <td>-123.121817</td>\n",
       "      <td>16</td>\n",
       "      <td>12</td>\n",
       "      <td>4</td>\n",
       "      <td>8</td>\n",
       "      <td>4</td>\n",
       "      <td>2023-12-17 14:12:48.865Z</td>\n",
       "      <td>2023-12-17</td>\n",
       "      <td>14:12:48.865000</td>\n",
       "    </tr>\n",
       "    <tr>\n",
       "      <th>2</th>\n",
       "      <td>Vancouver</td>\n",
       "      <td>CA</td>\n",
       "      <td>6d42fa40360f9a6b2bf641c7b8bb2862</td>\n",
       "      <td>Dunsmuir &amp; Beatty</td>\n",
       "      <td>49.279764</td>\n",
       "      <td>-123.110154</td>\n",
       "      <td>26</td>\n",
       "      <td>18</td>\n",
       "      <td>3</td>\n",
       "      <td>15</td>\n",
       "      <td>8</td>\n",
       "      <td>2023-12-17 14:12:48.866Z</td>\n",
       "      <td>2023-12-17</td>\n",
       "      <td>14:12:48.866000</td>\n",
       "    </tr>\n",
       "    <tr>\n",
       "      <th>3</th>\n",
       "      <td>Vancouver</td>\n",
       "      <td>CA</td>\n",
       "      <td>66f873d641d448bd1572ab086665a458</td>\n",
       "      <td>12th &amp; Yukon near City Hall</td>\n",
       "      <td>49.260599</td>\n",
       "      <td>-123.113504</td>\n",
       "      <td>16</td>\n",
       "      <td>8</td>\n",
       "      <td>5</td>\n",
       "      <td>3</td>\n",
       "      <td>8</td>\n",
       "      <td>2023-12-17 14:12:48.867Z</td>\n",
       "      <td>2023-12-17</td>\n",
       "      <td>14:12:48.867000</td>\n",
       "    </tr>\n",
       "    <tr>\n",
       "      <th>4</th>\n",
       "      <td>Vancouver</td>\n",
       "      <td>CA</td>\n",
       "      <td>485d4d24c803cfde829ab89699fed833</td>\n",
       "      <td>8th &amp; Ash</td>\n",
       "      <td>49.264215</td>\n",
       "      <td>-123.117772</td>\n",
       "      <td>16</td>\n",
       "      <td>11</td>\n",
       "      <td>7</td>\n",
       "      <td>4</td>\n",
       "      <td>4</td>\n",
       "      <td>2023-12-17 14:12:48.886Z</td>\n",
       "      <td>2023-12-17</td>\n",
       "      <td>14:12:48.886000</td>\n",
       "    </tr>\n",
       "  </tbody>\n",
       "</table>\n",
       "</div>"
      ],
      "text/plain": [
       "        City Country                        Station_Id  \\\n",
       "0  Vancouver      CA  7a19c49f486d7c0c02b3685d7b240448   \n",
       "1  Vancouver      CA  32603a87cfca71d0f7dfa3513bad69d5   \n",
       "2  Vancouver      CA  6d42fa40360f9a6b2bf641c7b8bb2862   \n",
       "3  Vancouver      CA  66f873d641d448bd1572ab086665a458   \n",
       "4  Vancouver      CA  485d4d24c803cfde829ab89699fed833   \n",
       "\n",
       "                  Station_Name   Latitude   Longitude  Total_Available_Slots  \\\n",
       "0                10th & Cambie  49.262487 -123.114397                     36   \n",
       "1  Yaletown-Roundhouse Station  49.274566 -123.121817                     16   \n",
       "2            Dunsmuir & Beatty  49.279764 -123.110154                     26   \n",
       "3  12th & Yukon near City Hall  49.260599 -123.113504                     16   \n",
       "4                    8th & Ash  49.264215 -123.117772                     16   \n",
       "\n",
       "   Total_Available_Free_Bikes  Total_Available_EBikes  \\\n",
       "0                          29                       1   \n",
       "1                          12                       4   \n",
       "2                          18                       3   \n",
       "3                           8                       5   \n",
       "4                          11                       7   \n",
       "\n",
       "   Total_Available_Normal_Bikes  Total_Available_Empty_Slots  \\\n",
       "0                            28                            5   \n",
       "1                             8                            4   \n",
       "2                            15                            8   \n",
       "3                             3                            8   \n",
       "4                             4                            4   \n",
       "\n",
       "                  Date_Time        Date             Time  \n",
       "0  2023-12-17 14:12:48.876Z  2023-12-17  14:12:48.876000  \n",
       "1  2023-12-17 14:12:48.865Z  2023-12-17  14:12:48.865000  \n",
       "2  2023-12-17 14:12:48.866Z  2023-12-17  14:12:48.866000  \n",
       "3  2023-12-17 14:12:48.867Z  2023-12-17  14:12:48.867000  \n",
       "4  2023-12-17 14:12:48.886Z  2023-12-17  14:12:48.886000  "
      ]
     },
     "execution_count": 11,
     "metadata": {},
     "output_type": "execute_result"
    }
   ],
   "source": [
    "# Extract Date and Time\n",
    "\n",
    "city_bike_df['Timestamp'].value_counts() # Millisconds were not in consistent format for 1 record in the timestamp object\n",
    "\n",
    "import pytz\n",
    "\n",
    "# Function to convert UTC to Vancouver time\n",
    "def convert_to_vancouver(timestamp):\n",
    "    utc_datetime = pd.to_datetime(timestamp, errors='coerce')\n",
    "    if not pd.isnull(utc_datetime):\n",
    "        vancouver_timezone = pytz.timezone(\"America/Vancouver\")\n",
    "        vancouver_datetime = utc_datetime.replace(tzinfo=pytz.utc).astimezone(vancouver_timezone)\n",
    "        vancouver_timestamp = vancouver_datetime.strftime(\"%Y-%m-%d %H:%M:%S.%f\")[:-3] + \"Z\"\n",
    "        return vancouver_timestamp\n",
    "    return None\n",
    "\n",
    "# Apply the conversion function to the 'Timestamp' column\n",
    "city_bike_df['Date_Time'] = city_bike_df['Timestamp'].apply(convert_to_vancouver)\n",
    "\n",
    "\n",
    "# Extract date and time components\n",
    "city_bike_df['Date'] = pd.to_datetime(city_bike_df['Date_Time']).dt.date\n",
    "city_bike_df['Time'] = pd.to_datetime(city_bike_df['Date_Time']).dt.time\n",
    "\n",
    "city_bike_df.drop(['Timestamp'], axis = 1, inplace = True)\n",
    "city_bike_df.head()"
   ]
  },
  {
   "cell_type": "code",
   "execution_count": 18,
   "metadata": {},
   "outputs": [
    {
     "data": {
      "image/png": "[encoded data removed]",
      "text/plain": [
       "<Figure size 1200x800 with 6 Axes>"
      ]
     },
     "metadata": {},
     "output_type": "display_data"
    }
   ],
   "source": [
    "# Lastly we will check for anomalies in the bike and slots data using boxplots and study their distributions\n",
    "\n",
    "# Create a figure and a grid of subplots\n",
    "fig, axes = plt.subplots(nrows=3, ncols=2, figsize=(12, 8))\n",
    "\n",
    "# Flatten the axes array for easier indexing\n",
    "axes = axes.flatten()\n",
    "\n",
    "# Example boxplots for different columns\n",
    "sns.boxplot(y='Total_Available_Slots', data=city_bike_df, ax=axes[0])\n",
    "axes[0].set_title('Total_Available_Slots')\n",
    "\n",
    "sns.boxplot(y='Total_Available_Free_Bikes', data=city_bike_df, ax=axes[1])\n",
    "axes[1].set_title('Total_Available_Free_Bikes')\n",
    "\n",
    "sns.boxplot(y='Total_Available_EBikes', data=city_bike_df, ax=axes[2])\n",
    "axes[2].set_title('Total_Available_EBikes')\n",
    "\n",
    "sns.boxplot(y='Total_Available_Normal_Bikes', data=city_bike_df, ax=axes[3])\n",
    "axes[3].set_title('Total_Available_Normal_Bikes')\n",
    "\n",
    "sns.boxplot(y='Total_Available_Empty_Slots', data=city_bike_df, ax=axes[4])\n",
    "axes[4].set_title('Total_Available_Empty_Slots')\n",
    "\n",
    "# Adjust layout\n",
    "plt.tight_layout()\n",
    "\n",
    "plt.savefig(r\"C:\\Users\\aksha\\Documents\\LHL\\LHL Assignments\\Week 5\\Python Statistical Modeling Project\\Python Project\\Statistical_Modeling_Python\\images\\city_bike_boxplots.png\")\n",
    "\n",
    "# Show the plots\n",
    "plt.show()\n",
    "\n",
    "\n",
    "# Following columns have anomalies - Total_Available_Slots, Total_Available_Free_Bikes, Total_Available_EBikes, Total_Available_Normal_Bikes\n",
    "# Skewness - All the boxplots are right skewed\n",
    "# If there had been any missing values then we could not have used mean to impute the same"
   ]
  },
  {
   "cell_type": "code",
   "execution_count": 17,
   "metadata": {},
   "outputs": [
    {
     "data": {
      "image/png": "[encoded data removed]",
      "text/plain": [
       "<Figure size 1200x800 with 6 Axes>"
      ]
     },
     "metadata": {},
     "output_type": "display_data"
    }
   ],
   "source": [
    "\n",
    "# Create a figure and a grid of subplots\n",
    "fig, axes = plt.subplots(nrows=3, ncols=2, figsize=(12, 8))\n",
    "\n",
    "# Flatten the axes array for easier indexing\n",
    "axes = axes.flatten()\n",
    "\n",
    "# Example histograms with a line for different columns\n",
    "columns = ['Total_Available_Slots','Total_Available_Free_Bikes','Total_Available_EBikes',\n",
    "'Total_Available_Normal_Bikes','Total_Available_Empty_Slots']\n",
    "\n",
    "for i, column in enumerate(columns):\n",
    "    sns.histplot(city_bike_df[column].dropna(), kde=True, ax=axes[i], color='skyblue', bins=20)\n",
    "    axes[i].set_title(f'Histogram for {column}')\n",
    "\n",
    "# Adjust layout\n",
    "plt.tight_layout()\n",
    "\n",
    "plt.savefig(r\"C:\\Users\\aksha\\Documents\\LHL\\LHL Assignments\\Week 5\\Python Statistical Modeling Project\\Python Project\\Statistical_Modeling_Python\\images\\city_bike_histograms.png\")\n",
    "\n",
    "# Show the plots\n",
    "plt.show()"
   ]
  },
  {
   "cell_type": "code",
   "execution_count": 19,
   "metadata": {},
   "outputs": [
    {
     "data": {
      "text/plain": [
       "13       Hornby & Pender\n",
       "8           Canada Place\n",
       "12       Robson & Hornby\n",
       "11    Marinaside & Davie\n",
       "6         Stamps Landing\n",
       "Name: Station_Name, dtype: object"
      ]
     },
     "execution_count": 19,
     "metadata": {},
     "output_type": "execute_result"
    }
   ],
   "source": [
    "# Top 5 stations with the most number of bikes in use\n",
    "city_bike_df.head()\n",
    "city_bike_df['Total_Bikes_In_Use'] = city_bike_df['Total_Available_Slots'] - city_bike_df['Total_Available_Free_Bikes']\n",
    "city_bike_df.iloc[city_bike_df['Total_Bikes_In_Use'].value_counts().head(5).index]['Station_Name']"
   ]
  },
  {
   "cell_type": "markdown",
   "metadata": {},
   "source": [
    "Join the data from Part 1 with the data from Part 2 to create a new dataframe."
   ]
  },
  {
   "cell_type": "code",
   "execution_count": 20,
   "metadata": {},
   "outputs": [
    {
     "name": "stdout",
     "output_type": "stream",
     "text": [
      "(248, 15)\n",
      "(247, 8)\n",
      "(247, 5)\n",
      "<class 'pandas.core.frame.DataFrame'>\n",
      "RangeIndex: 248 entries, 0 to 247\n",
      "Data columns (total 15 columns):\n",
      " #   Column                        Non-Null Count  Dtype  \n",
      "---  ------                        --------------  -----  \n",
      " 0   City                          248 non-null    object \n",
      " 1   Country                       248 non-null    object \n",
      " 2   Station_Id                    248 non-null    object \n",
      " 3   Station_Name                  248 non-null    object \n",
      " 4   Latitude                      248 non-null    float64\n",
      " 5   Longitude                     248 non-null    float64\n",
      " 6   Total_Available_Slots         248 non-null    int64  \n",
      " 7   Total_Available_Free_Bikes    248 non-null    int64  \n",
      " 8   Total_Available_EBikes        248 non-null    int64  \n",
      " 9   Total_Available_Normal_Bikes  248 non-null    int64  \n",
      " 10  Total_Available_Empty_Slots   248 non-null    int64  \n",
      " 11  Date_Time                     248 non-null    object \n",
      " 12  Date                          248 non-null    object \n",
      " 13  Time                          248 non-null    object \n",
      " 14  Total_Bikes_In_Use            248 non-null    int64  \n",
      "dtypes: float64(2), int64(6), object(7)\n",
      "memory usage: 29.2+ KB\n",
      "None\n",
      "<class 'pandas.core.frame.DataFrame'>\n",
      "RangeIndex: 247 entries, 0 to 246\n",
      "Data columns (total 8 columns):\n",
      " #   Column          Non-Null Count  Dtype  \n",
      "---  ------          --------------  -----  \n",
      " 0   id_dummy        247 non-null    int64  \n",
      " 1   Total_POI       247 non-null    int64  \n",
      " 2   Closed_POI      247 non-null    int64  \n",
      " 3   AvgRating       247 non-null    float64\n",
      " 4   AvgReviewCount  247 non-null    float64\n",
      " 5   PriceCategory   247 non-null    object \n",
      " 6   Latitude        247 non-null    float64\n",
      " 7   Longitude       247 non-null    float64\n",
      "dtypes: float64(4), int64(3), object(1)\n",
      "memory usage: 15.6+ KB\n",
      "None\n",
      "<class 'pandas.core.frame.DataFrame'>\n",
      "RangeIndex: 247 entries, 0 to 246\n",
      "Data columns (total 5 columns):\n",
      " #   Column          Non-Null Count  Dtype  \n",
      "---  ------          --------------  -----  \n",
      " 0   LikelyOpen      192 non-null    float64\n",
      " 1   VeryLikelyOpen  239 non-null    float64\n",
      " 2   Latitude        247 non-null    float64\n",
      " 3   Longitude       247 non-null    float64\n",
      " 4   Unsure          87 non-null     float64\n",
      "dtypes: float64(5)\n",
      "memory usage: 9.8 KB\n",
      "None\n",
      "247\n",
      "247\n",
      "247\n",
      "247\n",
      "(248, 21)\n",
      "(248, 24)\n"
     ]
    }
   ],
   "source": [
    "# Join the dataframes\n",
    "\n",
    "print(city_bike_df.shape)\n",
    "print(yelp_df.shape)\n",
    "print(fs_df.shape)\n",
    "\n",
    "# Check column names and data types\n",
    "\n",
    "print(city_bike_df.info())\n",
    "print(yelp_df.info())\n",
    "print(fs_df.info()) # Lat and Long are in float\n",
    "\n",
    "# Check for overalpping records\n",
    "\n",
    "print(sum(yelp_df.Latitude.isin(city_bike_df.Latitude)))\n",
    "print(sum(yelp_df.Longitude.isin(city_bike_df.Longitude)))\n",
    "\n",
    "print(sum(fs_df.Latitude.isin(city_bike_df.Latitude)))\n",
    "print(sum(fs_df.Longitude.isin(city_bike_df.Longitude)))\n",
    "\n",
    "complete_df = pd.merge(city_bike_df, yelp_df, on = ['Latitude', 'Longitude'], how = 'left')\n",
    "print(complete_df.shape)\n",
    "complete_df = pd.merge(complete_df, fs_df, on = ['Latitude', 'Longitude'], how = 'left')\n",
    "print(complete_df.shape)"
   ]
  },
  {
   "cell_type": "code",
   "execution_count": 21,
   "metadata": {},
   "outputs": [],
   "source": [
    "# EDA Part Continued post joining the dataframes\n",
    "\n",
    "# Data cleaning and EDA steps\n",
    "# Drop id_dummy column\n",
    "# Rename Yelp columns and FS columns for easier bifurcation\n",
    "# Check distribution and anomalies in newly added columns\n",
    "# Impute NA values\n",
    "# Create new columns - Total Number of FSQ POIs, Avg number of POI in a place, Popularity index of a place (3 buckets as per the count of POIs)\n",
    "# Geo map of POI per staion\n",
    "# Check for correlation between following parameters -\n",
    "    # Total Slots and Total POIs\n",
    "    # Total Bikes in Use and Total POIs\n",
    "    # Total Bikes in Use and Total number of reviews\n",
    "    # Total Bikes in Use and Avg Ratings\n",
    "\n",
    "complete_df.drop('id_dummy', axis = 1, inplace = True)\n",
    "\n",
    "column_mapping = {'Total_POI': 'Yelp_Total_POI', 'Closed_POI': 'Yelp_Closed_POI', 'AvgRating': 'Yelp_Avg_Rating',\n",
    "                 'AvgReviewCount': 'Yelp_Avg_Review_Count', 'PriceCategory': 'Yelp_Price_Category', 'AvgRating': 'Yelp_Avg_Rating',\n",
    "                 'LikelyOpen': 'FSQ_Likely_Open', 'VeryLikelyOpen': 'FSQ_Very_Likely_Open', 'Unsure': 'FSQ_Unsure'}\n",
    "\n",
    "# Rename columns using the 'rename' method\n",
    "complete_df.rename(columns=column_mapping, inplace=True)\n",
    "\n"
   ]
  },
  {
   "cell_type": "code",
   "execution_count": 23,
   "metadata": {},
   "outputs": [
    {
     "data": {
      "text/html": [
       "<div>\n",
       "<style scoped>\n",
       "    .dataframe tbody tr th:only-of-type {\n",
       "        vertical-align: middle;\n",
       "    }\n",
       "\n",
       "    .dataframe tbody tr th {\n",
       "        vertical-align: top;\n",
       "    }\n",
       "\n",
       "    .dataframe thead th {\n",
       "        text-align: right;\n",
       "    }\n",
       "</style>\n",
       "<table border=\"1\" class=\"dataframe\">\n",
       "  <thead>\n",
       "    <tr style=\"text-align: right;\">\n",
       "      <th></th>\n",
       "      <th>City</th>\n",
       "      <th>Country</th>\n",
       "      <th>Station_Id</th>\n",
       "      <th>Station_Name</th>\n",
       "      <th>Latitude</th>\n",
       "      <th>Longitude</th>\n",
       "      <th>Total_Available_Slots</th>\n",
       "      <th>Total_Available_Free_Bikes</th>\n",
       "      <th>Total_Available_EBikes</th>\n",
       "      <th>Total_Available_Normal_Bikes</th>\n",
       "      <th>...</th>\n",
       "      <th>Time</th>\n",
       "      <th>Total_Bikes_In_Use</th>\n",
       "      <th>Yelp_Total_POI</th>\n",
       "      <th>Yelp_Closed_POI</th>\n",
       "      <th>Yelp_Avg_Rating</th>\n",
       "      <th>Yelp_Avg_Review_Count</th>\n",
       "      <th>Yelp_Price_Category</th>\n",
       "      <th>FSQ_Likely_Open</th>\n",
       "      <th>FSQ_Very_Likely_Open</th>\n",
       "      <th>FSQ_Unsure</th>\n",
       "    </tr>\n",
       "  </thead>\n",
       "  <tbody>\n",
       "    <tr>\n",
       "      <th>0</th>\n",
       "      <td>Vancouver</td>\n",
       "      <td>CA</td>\n",
       "      <td>7a19c49f486d7c0c02b3685d7b240448</td>\n",
       "      <td>10th &amp; Cambie</td>\n",
       "      <td>49.262487</td>\n",
       "      <td>-123.114397</td>\n",
       "      <td>36</td>\n",
       "      <td>29</td>\n",
       "      <td>1</td>\n",
       "      <td>28</td>\n",
       "      <td>...</td>\n",
       "      <td>14:12:48.876000</td>\n",
       "      <td>7</td>\n",
       "      <td>15.0</td>\n",
       "      <td>0.0</td>\n",
       "      <td>4.000000</td>\n",
       "      <td>253.666667</td>\n",
       "      <td>Economical</td>\n",
       "      <td>4.0</td>\n",
       "      <td>6.0</td>\n",
       "      <td>NaN</td>\n",
       "    </tr>\n",
       "    <tr>\n",
       "      <th>1</th>\n",
       "      <td>Vancouver</td>\n",
       "      <td>CA</td>\n",
       "      <td>32603a87cfca71d0f7dfa3513bad69d5</td>\n",
       "      <td>Yaletown-Roundhouse Station</td>\n",
       "      <td>49.274566</td>\n",
       "      <td>-123.121817</td>\n",
       "      <td>16</td>\n",
       "      <td>12</td>\n",
       "      <td>4</td>\n",
       "      <td>8</td>\n",
       "      <td>...</td>\n",
       "      <td>14:12:48.865000</td>\n",
       "      <td>4</td>\n",
       "      <td>18.0</td>\n",
       "      <td>0.0</td>\n",
       "      <td>4.222222</td>\n",
       "      <td>673.555556</td>\n",
       "      <td>Economical</td>\n",
       "      <td>1.0</td>\n",
       "      <td>9.0</td>\n",
       "      <td>NaN</td>\n",
       "    </tr>\n",
       "    <tr>\n",
       "      <th>2</th>\n",
       "      <td>Vancouver</td>\n",
       "      <td>CA</td>\n",
       "      <td>6d42fa40360f9a6b2bf641c7b8bb2862</td>\n",
       "      <td>Dunsmuir &amp; Beatty</td>\n",
       "      <td>49.279764</td>\n",
       "      <td>-123.110154</td>\n",
       "      <td>26</td>\n",
       "      <td>18</td>\n",
       "      <td>3</td>\n",
       "      <td>15</td>\n",
       "      <td>...</td>\n",
       "      <td>14:12:48.866000</td>\n",
       "      <td>8</td>\n",
       "      <td>19.0</td>\n",
       "      <td>0.0</td>\n",
       "      <td>4.184211</td>\n",
       "      <td>881.947368</td>\n",
       "      <td>Economical</td>\n",
       "      <td>NaN</td>\n",
       "      <td>10.0</td>\n",
       "      <td>NaN</td>\n",
       "    </tr>\n",
       "    <tr>\n",
       "      <th>3</th>\n",
       "      <td>Vancouver</td>\n",
       "      <td>CA</td>\n",
       "      <td>66f873d641d448bd1572ab086665a458</td>\n",
       "      <td>12th &amp; Yukon near City Hall</td>\n",
       "      <td>49.260599</td>\n",
       "      <td>-123.113504</td>\n",
       "      <td>16</td>\n",
       "      <td>8</td>\n",
       "      <td>5</td>\n",
       "      <td>3</td>\n",
       "      <td>...</td>\n",
       "      <td>14:12:48.867000</td>\n",
       "      <td>8</td>\n",
       "      <td>14.0</td>\n",
       "      <td>0.0</td>\n",
       "      <td>4.000000</td>\n",
       "      <td>286.857143</td>\n",
       "      <td>Economical</td>\n",
       "      <td>3.0</td>\n",
       "      <td>7.0</td>\n",
       "      <td>NaN</td>\n",
       "    </tr>\n",
       "    <tr>\n",
       "      <th>4</th>\n",
       "      <td>Vancouver</td>\n",
       "      <td>CA</td>\n",
       "      <td>485d4d24c803cfde829ab89699fed833</td>\n",
       "      <td>8th &amp; Ash</td>\n",
       "      <td>49.264215</td>\n",
       "      <td>-123.117772</td>\n",
       "      <td>16</td>\n",
       "      <td>11</td>\n",
       "      <td>7</td>\n",
       "      <td>4</td>\n",
       "      <td>...</td>\n",
       "      <td>14:12:48.886000</td>\n",
       "      <td>5</td>\n",
       "      <td>12.0</td>\n",
       "      <td>0.0</td>\n",
       "      <td>3.916667</td>\n",
       "      <td>290.166667</td>\n",
       "      <td>Economical</td>\n",
       "      <td>5.0</td>\n",
       "      <td>5.0</td>\n",
       "      <td>NaN</td>\n",
       "    </tr>\n",
       "  </tbody>\n",
       "</table>\n",
       "<p>5 rows × 23 columns</p>\n",
       "</div>"
      ],
      "text/plain": [
       "        City Country                        Station_Id  \\\n",
       "0  Vancouver      CA  7a19c49f486d7c0c02b3685d7b240448   \n",
       "1  Vancouver      CA  32603a87cfca71d0f7dfa3513bad69d5   \n",
       "2  Vancouver      CA  6d42fa40360f9a6b2bf641c7b8bb2862   \n",
       "3  Vancouver      CA  66f873d641d448bd1572ab086665a458   \n",
       "4  Vancouver      CA  485d4d24c803cfde829ab89699fed833   \n",
       "\n",
       "                  Station_Name   Latitude   Longitude  Total_Available_Slots  \\\n",
       "0                10th & Cambie  49.262487 -123.114397                     36   \n",
       "1  Yaletown-Roundhouse Station  49.274566 -123.121817                     16   \n",
       "2            Dunsmuir & Beatty  49.279764 -123.110154                     26   \n",
       "3  12th & Yukon near City Hall  49.260599 -123.113504                     16   \n",
       "4                    8th & Ash  49.264215 -123.117772                     16   \n",
       "\n",
       "   Total_Available_Free_Bikes  Total_Available_EBikes  \\\n",
       "0                          29                       1   \n",
       "1                          12                       4   \n",
       "2                          18                       3   \n",
       "3                           8                       5   \n",
       "4                          11                       7   \n",
       "\n",
       "   Total_Available_Normal_Bikes  ...             Time Total_Bikes_In_Use  \\\n",
       "0                            28  ...  14:12:48.876000                  7   \n",
       "1                             8  ...  14:12:48.865000                  4   \n",
       "2                            15  ...  14:12:48.866000                  8   \n",
       "3                             3  ...  14:12:48.867000                  8   \n",
       "4                             4  ...  14:12:48.886000                  5   \n",
       "\n",
       "  Yelp_Total_POI Yelp_Closed_POI  Yelp_Avg_Rating  Yelp_Avg_Review_Count  \\\n",
       "0           15.0             0.0         4.000000             253.666667   \n",
       "1           18.0             0.0         4.222222             673.555556   \n",
       "2           19.0             0.0         4.184211             881.947368   \n",
       "3           14.0             0.0         4.000000             286.857143   \n",
       "4           12.0             0.0         3.916667             290.166667   \n",
       "\n",
       "   Yelp_Price_Category  FSQ_Likely_Open  FSQ_Very_Likely_Open FSQ_Unsure  \n",
       "0           Economical              4.0                   6.0        NaN  \n",
       "1           Economical              1.0                   9.0        NaN  \n",
       "2           Economical              NaN                  10.0        NaN  \n",
       "3           Economical              3.0                   7.0        NaN  \n",
       "4           Economical              5.0                   5.0        NaN  \n",
       "\n",
       "[5 rows x 23 columns]"
      ]
     },
     "execution_count": 23,
     "metadata": {},
     "output_type": "execute_result"
    }
   ],
   "source": [
    "complete_df.head()"
   ]
  },
  {
   "cell_type": "code",
   "execution_count": 24,
   "metadata": {},
   "outputs": [
    {
     "data": {
      "image/png": "[encoded data removed]",
      "text/plain": [
       "<Figure size 1200x800 with 4 Axes>"
      ]
     },
     "metadata": {},
     "output_type": "display_data"
    }
   ],
   "source": [
    "# Distribution of Yelp Data Points\n",
    "\n",
    "# Create a figure and a grid of subplots\n",
    "fig, axes = plt.subplots(nrows=2, ncols=2, figsize=(12, 8))\n",
    "\n",
    "# Flatten the axes array for easier indexing\n",
    "axes = axes.flatten()\n",
    "\n",
    "# Example histograms with a line for different columns\n",
    "columns = ['Yelp_Total_POI','Yelp_Closed_POI','Yelp_Avg_Rating',\n",
    "'Yelp_Avg_Review_Count']\n",
    "\n",
    "for i, column in enumerate(columns):\n",
    "    sns.histplot(complete_df[column].dropna(), kde=True, ax=axes[i], color='skyblue', bins=20)\n",
    "    axes[i].set_title(f'Histogram for {column}')\n",
    "\n",
    "# Adjust layout\n",
    "plt.tight_layout()\n",
    "\n",
    "plt.savefig(r\"C:\\Users\\aksha\\Documents\\LHL\\LHL Assignments\\Week 5\\Python Statistical Modeling Project\\Python Project\\Statistical_Modeling_Python\\images\\Yelp_Data_histograms.png\")\n",
    "\n",
    "\n",
    "# Show the plots\n",
    "plt.show()\n",
    "\n",
    "# Total POI is left skewed\n",
    "# Closed POI has only 0s\n",
    "# Avg Rating is slightly left skewed\n",
    "# Avg Review Count is right skewed\n",
    "\n",
    "# Since the Closed POI has only 0s we will be dropping it. \n",
    "\n",
    "complete_df.drop('Yelp_Closed_POI', axis = 1, inplace = True)"
   ]
  },
  {
   "cell_type": "code",
   "execution_count": 25,
   "metadata": {},
   "outputs": [
    {
     "data": {
      "image/png": "[encoded data removed]",
      "text/plain": [
       "<Figure size 640x480 with 1 Axes>"
      ]
     },
     "metadata": {},
     "output_type": "display_data"
    }
   ],
   "source": [
    "# Visualize the frequency count in price category column\n",
    "\n",
    "# Get the count of each category\n",
    "price_category_counts = complete_df['Yelp_Price_Category'].value_counts()\n",
    "\n",
    "# Create a pie chart with percentage annotations\n",
    "plt.pie(price_category_counts, labels=price_category_counts.index, \n",
    "        autopct='%1.1f%%', startangle=90, colors=sns.color_palette('pastel'))\n",
    "\n",
    "# Equal aspect ratio ensures that pie is drawn as a circle.\n",
    "plt.axis('equal')\n",
    "\n",
    "plt.savefig(r\"C:\\Users\\aksha\\Documents\\LHL\\LHL Assignments\\Week 5\\Python Statistical Modeling Project\\Python Project\\Statistical_Modeling_Python\\images\\Yelp_Price_Category_Piechart.png\")\n",
    "\n",
    "\n",
    "# Display the plot\n",
    "plt.show()"
   ]
  },
  {
   "cell_type": "code",
   "execution_count": 26,
   "metadata": {},
   "outputs": [],
   "source": [
    "# NA Imputation in Yelp Data\n",
    "# There is one record in the dataframe where the records were not found in api response. \n",
    "# After viewing the distribution, owing to skewness in data we will be imputing with median values\n",
    "# In categorical column we will be imputing with the mode of the column\n",
    "\n",
    "\n",
    "# Calculate median for 'Yelp_Total_POI','Yelp_Avg_Rating','Yelp_Avg_Review_Count'\n",
    "median_values = complete_df[['Yelp_Total_POI','Yelp_Avg_Rating','Yelp_Avg_Review_Count']].median()\n",
    "\n",
    "# Calculate mode for col4\n",
    "mode_value = complete_df['Yelp_Price_Category'].mode().iloc[0]\n",
    "\n",
    "# # Impute missing values using fillna\n",
    "complete_df['Yelp_Total_POI'].fillna(median_values['Yelp_Total_POI'], inplace=True)\n",
    "complete_df['Yelp_Avg_Rating'].fillna(median_values['Yelp_Avg_Rating'], inplace=True)\n",
    "complete_df['Yelp_Avg_Review_Count'].fillna(median_values['Yelp_Avg_Review_Count'], inplace=True)\n",
    "complete_df['Yelp_Price_Category'].fillna(mode_value, inplace=True)"
   ]
  },
  {
   "cell_type": "code",
   "execution_count": 27,
   "metadata": {},
   "outputs": [
    {
     "data": {
      "text/plain": [
       "City                            0\n",
       "Country                         0\n",
       "Station_Id                      0\n",
       "Station_Name                    0\n",
       "Latitude                        0\n",
       "Longitude                       0\n",
       "Total_Available_Slots           0\n",
       "Total_Available_Free_Bikes      0\n",
       "Total_Available_EBikes          0\n",
       "Total_Available_Normal_Bikes    0\n",
       "Total_Available_Empty_Slots     0\n",
       "Date_Time                       0\n",
       "Date                            0\n",
       "Time                            0\n",
       "Total_Bikes_In_Use              0\n",
       "Yelp_Total_POI                  0\n",
       "Yelp_Avg_Rating                 0\n",
       "Yelp_Avg_Review_Count           0\n",
       "Yelp_Price_Category             0\n",
       "FSQ_Likely_Open                 0\n",
       "FSQ_Very_Likely_Open            0\n",
       "FSQ_Unsure                      0\n",
       "dtype: int64"
      ]
     },
     "execution_count": 27,
     "metadata": {},
     "output_type": "execute_result"
    }
   ],
   "source": [
    "# Imputation of NANs in the FSQ fields\n",
    "\n",
    "complete_df['FSQ_Likely_Open'].fillna(0, inplace=True)\n",
    "complete_df['FSQ_Very_Likely_Open'].fillna(0, inplace=True)\n",
    "complete_df['FSQ_Unsure'].fillna(0, inplace=True)\n",
    "\n",
    "# Check for NANs\n",
    "complete_df.isna().sum(axis = 0)"
   ]
  },
  {
   "cell_type": "code",
   "execution_count": 28,
   "metadata": {},
   "outputs": [],
   "source": [
    "# Create New column of Total FSQ POIs\n",
    "complete_df['FSQ_Total_POI'] = complete_df['FSQ_Likely_Open'] + complete_df['FSQ_Very_Likely_Open'] + complete_df['FSQ_Unsure']"
   ]
  },
  {
   "cell_type": "code",
   "execution_count": 30,
   "metadata": {},
   "outputs": [
    {
     "data": {
      "image/png": "[encoded data removed]",
      "text/plain": [
       "<Figure size 640x480 with 1 Axes>"
      ]
     },
     "metadata": {},
     "output_type": "display_data"
    }
   ],
   "source": [
    "# Frequency Distribution of FSQ POI\n",
    "complete_df.head(25)\n",
    "complete_df['FSQ_Total_POI'].value_counts() # We can see that FSQ has not given more than 10 records per lat long whereas in Yelp\n",
    "# API response the range was much wider \n",
    "\n",
    "sns.histplot(complete_df['FSQ_Total_POI'], bins=20, kde=True, color='skyblue')\n",
    "plt.title('Histogram of FSQ_Total_POI')\n",
    "plt.xlabel('Values')\n",
    "plt.ylabel('Frequency')\n",
    "\n",
    "plt.savefig(r\"C:\\Users\\aksha\\Documents\\LHL\\LHL Assignments\\Week 5\\Python Statistical Modeling Project\\Python Project\\Statistical_Modeling_Python\\images\\FSQ_Total_POI_histograms.png\")\n",
    "\n",
    "plt.show()\n",
    "\n",
    "# the distribution is highly right-skewed, majority of values are concentrated around 10"
   ]
  },
  {
   "cell_type": "code",
   "execution_count": 31,
   "metadata": {},
   "outputs": [
    {
     "data": {
      "image/png": "[encoded data removed]",
      "text/plain": [
       "<Figure size 640x480 with 1 Axes>"
      ]
     },
     "metadata": {},
     "output_type": "display_data"
    },
    {
     "data": {
      "text/html": [
       "<div>\n",
       "<style scoped>\n",
       "    .dataframe tbody tr th:only-of-type {\n",
       "        vertical-align: middle;\n",
       "    }\n",
       "\n",
       "    .dataframe tbody tr th {\n",
       "        vertical-align: top;\n",
       "    }\n",
       "\n",
       "    .dataframe thead th {\n",
       "        text-align: right;\n",
       "    }\n",
       "</style>\n",
       "<table border=\"1\" class=\"dataframe\">\n",
       "  <thead>\n",
       "    <tr style=\"text-align: right;\">\n",
       "      <th></th>\n",
       "      <th>Yelp_Total_POI</th>\n",
       "      <th>FSQ_Total_POI</th>\n",
       "    </tr>\n",
       "  </thead>\n",
       "  <tbody>\n",
       "    <tr>\n",
       "      <th>count</th>\n",
       "      <td>248.000000</td>\n",
       "      <td>248.000000</td>\n",
       "    </tr>\n",
       "    <tr>\n",
       "      <th>mean</th>\n",
       "      <td>14.048387</td>\n",
       "      <td>9.237903</td>\n",
       "    </tr>\n",
       "    <tr>\n",
       "      <th>std</th>\n",
       "      <td>4.303007</td>\n",
       "      <td>2.097776</td>\n",
       "    </tr>\n",
       "    <tr>\n",
       "      <th>min</th>\n",
       "      <td>1.000000</td>\n",
       "      <td>0.000000</td>\n",
       "    </tr>\n",
       "    <tr>\n",
       "      <th>25%</th>\n",
       "      <td>11.000000</td>\n",
       "      <td>10.000000</td>\n",
       "    </tr>\n",
       "    <tr>\n",
       "      <th>50%</th>\n",
       "      <td>15.000000</td>\n",
       "      <td>10.000000</td>\n",
       "    </tr>\n",
       "    <tr>\n",
       "      <th>75%</th>\n",
       "      <td>18.000000</td>\n",
       "      <td>10.000000</td>\n",
       "    </tr>\n",
       "    <tr>\n",
       "      <th>max</th>\n",
       "      <td>20.000000</td>\n",
       "      <td>10.000000</td>\n",
       "    </tr>\n",
       "  </tbody>\n",
       "</table>\n",
       "</div>"
      ],
      "text/plain": [
       "       Yelp_Total_POI  FSQ_Total_POI\n",
       "count      248.000000     248.000000\n",
       "mean        14.048387       9.237903\n",
       "std          4.303007       2.097776\n",
       "min          1.000000       0.000000\n",
       "25%         11.000000      10.000000\n",
       "50%         15.000000      10.000000\n",
       "75%         18.000000      10.000000\n",
       "max         20.000000      10.000000"
      ]
     },
     "execution_count": 31,
     "metadata": {},
     "output_type": "execute_result"
    }
   ],
   "source": [
    "# Check for variance in POI data per Lat Long between FSQ and Yelp data\n",
    "complete_df['Diff_POI_Count'] = complete_df['Yelp_Total_POI'] - complete_df['FSQ_Total_POI']\n",
    "sns.histplot(complete_df['Diff_POI_Count'], bins=20, kde=True, color='skyblue')\n",
    "plt.title('Histogram of Diff_POI_Count')\n",
    "plt.xlabel('Values')\n",
    "plt.ylabel('Frequency')\n",
    "\n",
    "plt.savefig(r\"C:\\Users\\aksha\\Documents\\LHL\\LHL Assignments\\Week 5\\Python Statistical Modeling Project\\Python Project\\Statistical_Modeling_Python\\images\\Yelp_FSQ_Data_POI_Diff_histograms.png\")\n",
    "\n",
    "plt.show()\n",
    "\n",
    "complete_df[['Yelp_Total_POI', 'FSQ_Total_POI']].describe()\n",
    "\n"
   ]
  },
  {
   "cell_type": "code",
   "execution_count": 32,
   "metadata": {},
   "outputs": [
    {
     "name": "stderr",
     "output_type": "stream",
     "text": [
      "c:\\Users\\aksha\\anaconda3\\envs\\python_3.11.5\\Lib\\site-packages\\plotly\\express\\_core.py:2044: FutureWarning:\n",
      "\n",
      "The default of observed=False is deprecated and will be changed to True in a future version of pandas. Pass observed=False to retain current behavior or observed=True to adopt the future default and silence this warning.\n",
      "\n"
     ]
    },
    {
     "data": {
      "application/vnd.plotly.v1+json": {
       "config": {
        "plotlyServerURL": "https://plot.ly"
       },
       "data": [
        {
         "customdata": [
          [
           "10th & Cambie",
           14.5
          ],
          [
           "12th & Yukon near City Hall",
           13.6
          ],
          [
           "Spyglass & Seawall",
           13.6
          ],
          [
           "Stamps Landing",
           13.6
          ],
          [
           "Pacific & Richards",
           16.3
          ],
          [
           "Chilco & Beach",
           15.4
          ],
          [
           "Bute & Comox",
           16.3
          ],
          [
           "Bidwell & Burnaby",
           13.6
          ],
          [
           "Cypress & Cornwall",
           13.6
          ],
          [
           "Anderson & 2nd",
           13.6
          ],
          [
           "7th & Granville",
           13.6
          ],
          [
           "10th & Granville",
           15.4
          ],
          [
           "Harwood & Bute",
           14.5
          ],
          [
           "Heather & 14th",
           13.6
          ],
          [
           "1st & Chestnut",
           13.6
          ],
          [
           "7th & Arbutus",
           16.3
          ],
          [
           "5th & Arbutus",
           16.3
          ],
          [
           "Thurlow & Pendrell",
           16.3
          ],
          [
           "14th & Ontario",
           12.700000000000001
          ],
          [
           "14th & Main",
           15.4
          ],
          [
           "David Lam Park",
           14.5
          ],
          [
           "Beach & Seymour",
           15.4
          ],
          [
           "Burrard & 4th",
           14.5
          ],
          [
           "Burrard & 7th",
           14.5
          ],
          [
           "South False Creek Seawall",
           12.700000000000001
          ],
          [
           "Arbutus Greenway & Fir",
           12.700000000000001
          ],
          [
           "Kitsilano Beach Park",
           14.5
          ],
          [
           "Vine & 4th",
           16.3
          ],
          [
           "Alexander & Dunlevy",
           15.4
          ],
          [
           "10th & Columbia",
           13.6
          ],
          [
           "10th & Ontario",
           12.700000000000001
          ],
          [
           "Columbia & 14th",
           12.700000000000001
          ],
          [
           "Science World",
           12.700000000000001
          ],
          [
           "York & Yew",
           14.5
          ],
          [
           "Pine & 10th",
           15.4
          ],
          [
           "8th & Scotia",
           14.5
          ],
          [
           "Stanley Park - Information Booth",
           12.4
          ],
          [
           "Carrall & Seawall",
           16.3
          ],
          [
           "Adanac & McLean",
           14.5
          ],
          [
           "Commercial & Adanac",
           14.5
          ],
          [
           "Pender & Commercial",
           15.4
          ],
          [
           "Keefer & Princess",
           14.5
          ],
          [
           "Alexander & Railway",
           15.4
          ],
          [
           "Napier & Commercial",
           16.3
          ],
          [
           "Britannia Parking Lot",
           14.5
          ],
          [
           "2nd & Commercial",
           16.3
          ],
          [
           "4th & Commercial",
           14.5
          ],
          [
           "St George & Broadway",
           12.700000000000001
          ],
          [
           "Woodland & 4th",
           12.700000000000001
          ],
          [
           "Woodland & Graveley",
           15.4
          ],
          [
           "Charles & Woodland",
           16.3
          ],
          [
           "Prince Edward & 16th",
           14.5
          ],
          [
           "Prince Edward & 14th",
           14.5
          ],
          [
           "13th & St George",
           13.6
          ],
          [
           "Victoria & 4th",
           15.4
          ],
          [
           "Triumph & Victoria",
           15.4
          ],
          [
           "Commercial & Pandora",
           13.6
          ],
          [
           "Union & Dunlevy",
           15.4
          ],
          [
           "10th & Kingsway",
           12.700000000000001
          ],
          [
           "Beach & Hornby",
           16.3
          ],
          [
           "Princess & Union",
           13.6
          ],
          [
           "Cardero & Davie",
           15.4
          ],
          [
           "Arbutus & 10th",
           16.3
          ],
          [
           "Ontario & 16th",
           12.700000000000001
          ],
          [
           "Cypress & 10th",
           15.4
          ],
          [
           "Granville Island",
           12.700000000000001
          ],
          [
           "Yew & Broadway",
           13.6
          ],
          [
           "8th & Macdonald",
           14.5
          ],
          [
           "Balaclava & Broadway",
           14.5
          ],
          [
           "Dunbar & Broadway",
           14.5
          ],
          [
           "Balsam & Cornwall",
           14.5
          ],
          [
           "Balaclava & 6th",
           13.6
          ],
          [
           "Trafalgar & Broadway",
           12.700000000000001
          ],
          [
           "Dunbar & 6th",
           14.5
          ],
          [
           "18th & Cambie",
           12.4
          ],
          [
           "Blenheim & 4th",
           13.6
          ],
          [
           "Point Grey & Bayswater",
           12.700000000000001
          ],
          [
           "Burrard & Drake",
           16.3
          ],
          [
           "13th & Cambie",
           13.6
          ],
          [
           "Arbutus & Nanton",
           13.6
          ],
          [
           "11th & Kingsway",
           13.6
          ],
          [
           "Rolston & Granville",
           16.3
          ],
          [
           "East Blvd & 37th",
           11.9
          ],
          [
           "Franklin & Nanaimo",
           14.3
          ],
          [
           "Lakewood & Triumph",
           13.6
          ],
          [
           "Lakewood & Oxford",
           14.5
          ],
          [
           "Commercial & 20th",
           12.3
          ],
          [
           "Hornby & Drake",
           16.3
          ],
          [
           "1st & Fir",
           12.700000000000001
          ],
          [
           "Highbury & 8th",
           12.700000000000001
          ],
          [
           "Pharmaceutical Sciences",
           14.1
          ],
          [
           "Bute & Davie",
           15.4
          ]
         ],
         "hovertemplate": "<b>%{hovertext}</b><br><br>Popularity Index=%{marker.size}<br>Latitude=%{lat}<br>Longitude=%{lon}<br>Station_Name=%{customdata[0]}<br>Avg_POI_Count=%{customdata[1]}<extra></extra>",
         "hovertext": [
          "10th & Cambie",
          "12th & Yukon near City Hall",
          "Spyglass & Seawall",
          "Stamps Landing",
          "Pacific & Richards",
          "Chilco & Beach",
          "Bute & Comox",
          "Bidwell & Burnaby",
          "Cypress & Cornwall",
          "Anderson & 2nd",
          "7th & Granville",
          "10th & Granville",
          "Harwood & Bute",
          "Heather & 14th",
          "1st & Chestnut",
          "7th & Arbutus",
          "5th & Arbutus",
          "Thurlow & Pendrell",
          "14th & Ontario",
          "14th & Main",
          "David Lam Park",
          "Beach & Seymour",
          "Burrard & 4th",
          "Burrard & 7th",
          "South False Creek Seawall",
          "Arbutus Greenway & Fir",
          "Kitsilano Beach Park",
          "Vine & 4th",
          "Alexander & Dunlevy",
          "10th & Columbia",
          "10th & Ontario",
          "Columbia & 14th",
          "Science World",
          "York & Yew",
          "Pine & 10th",
          "8th & Scotia",
          "Stanley Park - Information Booth",
          "Carrall & Seawall",
          "Adanac & McLean",
          "Commercial & Adanac",
          "Pender & Commercial",
          "Keefer & Princess",
          "Alexander & Railway",
          "Napier & Commercial",
          "Britannia Parking Lot",
          "2nd & Commercial",
          "4th & Commercial",
          "St George & Broadway",
          "Woodland & 4th",
          "Woodland & Graveley",
          "Charles & Woodland",
          "Prince Edward & 16th",
          "Prince Edward & 14th",
          "13th & St George",
          "Victoria & 4th",
          "Triumph & Victoria",
          "Commercial & Pandora",
          "Union & Dunlevy",
          "10th & Kingsway",
          "Beach & Hornby",
          "Princess & Union",
          "Cardero & Davie",
          "Arbutus & 10th",
          "Ontario & 16th",
          "Cypress & 10th",
          "Granville Island",
          "Yew & Broadway",
          "8th & Macdonald",
          "Balaclava & Broadway",
          "Dunbar & Broadway",
          "Balsam & Cornwall",
          "Balaclava & 6th",
          "Trafalgar & Broadway",
          "Dunbar & 6th",
          "18th & Cambie",
          "Blenheim & 4th",
          "Point Grey & Bayswater",
          "Burrard & Drake",
          "13th & Cambie",
          "Arbutus & Nanton",
          "11th & Kingsway",
          "Rolston & Granville",
          "East Blvd & 37th",
          "Franklin & Nanaimo",
          "Lakewood & Triumph",
          "Lakewood & Oxford",
          "Commercial & 20th",
          "Hornby & Drake",
          "1st & Fir",
          "Highbury & 8th",
          "Pharmaceutical Sciences",
          "Bute & Davie"
         ],
         "lat": [
          49.262487,
          49.260599,
          49.270877,
          49.26893,
          49.273663,
          49.28972,
          49.283343,
          49.28526,
          49.272827,
          49.269361,
          49.2653,
          49.262598,
          49.28026,
          49.259183,
          49.270721,
          49.265605,
          49.267222,
          49.280881,
          49.25849,
          49.258425,
          49.270905,
          49.273568,
          49.267859,
          49.265336,
          49.267628,
          49.266774,
          49.273355,
          49.268339,
          49.284062,
          49.262206,
          49.262062,
          49.258902,
          49.273691,
          49.271741,
          49.262822,
          49.263635,
          49.297933,
          49.276294,
          49.277665,
          49.277436,
          49.280332,
          49.279369,
          49.283992,
          49.274881,
          49.275882,
          49.268616,
          49.266969,
          49.262321,
          49.266751,
          49.270684,
          49.2731,
          49.256694,
          49.258352,
          49.258817,
          49.266725,
          49.283986,
          49.283236,
          49.277595,
          49.261973,
          49.275295,
          49.277615,
          49.285512,
          49.262835,
          49.256825,
          49.262944,
          49.27029,
          49.263523,
          49.264928,
          49.264483,
          49.264579,
          49.273011,
          49.266924,
          49.264326,
          49.266636,
          49.254818,
          49.268837,
          49.271044,
          49.27808,
          49.259579,
          49.247854,
          49.261122,
          49.274232,
          49.238105,
          49.282087,
          49.283968,
          49.285575,
          49.252656,
          49.277178,
          49.270783,
          49.265442,
          49.26262,
          49.282047
         ],
         "legendgroup": "2",
         "lon": [
          -123.114397,
          -123.113504,
          -123.115103,
          -123.11813,
          -123.127075,
          -123.144028,
          -123.131099,
          -123.141809,
          -123.147744,
          -123.13782,
          -123.13811,
          -123.138921,
          -123.135244,
          -123.120126,
          -123.146175,
          -123.152566,
          -123.153157,
          -123.130672,
          -123.104799,
          -123.100792,
          -123.126006,
          -123.129935,
          -123.145782,
          -123.145823,
          -123.127698,
          -123.141135,
          -123.154493,
          -123.157443,
          -123.095097,
          -123.109091,
          -123.104656,
          -123.109596,
          -123.102232,
          -123.155421,
          -123.14338,
          -123.099236,
          -123.130758,
          -123.106534,
          -123.073653,
          -123.070427,
          -123.070068,
          -123.091241,
          -123.091206,
          -123.069323,
          -123.071865,
          -123.069908,
          -123.069936,
          -123.09306,
          -123.073501,
          -123.073562,
          -123.0732,
          -123.096579,
          -123.096337,
          -123.092797,
          -123.065925,
          -123.065264,
          -123.070443,
          -123.09583,
          -123.09725,
          -123.132585,
          -123.091654,
          -123.1384,
          -123.152626,
          -123.105234,
          -123.148109,
          -123.135025,
          -123.155267,
          -123.168068,
          -123.173926,
          -123.18373,
          -123.159663,
          -123.173849,
          -123.164725,
          -123.183661,
          -123.114785,
          -123.177633,
          -123.170661,
          -123.130557,
          -123.114769,
          -123.153422,
          -123.097571,
          -123.129998,
          -123.154966,
          -123.056909,
          -123.061615,
          -123.061575,
          -123.067965,
          -123.13,
          -123.141564,
          -123.187738,
          -123.2431,
          -123.133057
         ],
         "marker": {
          "color": "#ab63fa",
          "size": [
           2,
           2,
           2,
           2,
           2,
           2,
           2,
           2,
           2,
           2,
           2,
           2,
           2,
           2,
           2,
           2,
           2,
           2,
           2,
           2,
           2,
           2,
           2,
           2,
           2,
           2,
           2,
           2,
           2,
           2,
           2,
           2,
           2,
           2,
           2,
           2,
           2,
           2,
           2,
           2,
           2,
           2,
           2,
           2,
           2,
           2,
           2,
           2,
           2,
           2,
           2,
           2,
           2,
           2,
           2,
           2,
           2,
           2,
           2,
           2,
           2,
           2,
           2,
           2,
           2,
           2,
           2,
           2,
           2,
           2,
           2,
           2,
           2,
           2,
           2,
           2,
           2,
           2,
           2,
           2,
           2,
           2,
           2,
           2,
           2,
           2,
           2,
           2,
           2,
           2,
           2,
           2
          ],
          "sizemode": "area",
          "sizeref": 0.0075
         },
         "mode": "markers",
         "name": "2",
         "showlegend": true,
         "subplot": "mapbox",
         "type": "scattermapbox"
        },
        {
         "customdata": [
          [
           "Yaletown-Roundhouse Station",
           17.2
          ],
          [
           "Dunsmuir & Beatty",
           18.1
          ],
          [
           "Canada Place",
           18.1
          ],
          [
           "Granville & Georgia",
           19
          ],
          [
           "Pender & Burrard",
           18.1
          ],
          [
           "Marinaside & Davie",
           18.1
          ],
          [
           "Robson & Hornby",
           18.1
          ],
          [
           "Hornby & Pender",
           18.1
          ],
          [
           "Homer & Robson near Vancouver Public Library",
           19
          ],
          [
           "Beatty & Nelson",
           18.1
          ],
          [
           "Abbott & Cordova",
           19
          ],
          [
           "Comox & Denman",
           17.2
          ],
          [
           "Cordova & Bute",
           18.1
          ],
          [
           "Hornby & Nelson",
           17.2
          ],
          [
           "Helmcken & Burrard",
           17.2
          ],
          [
           "Comox & Broughton",
           18.1
          ],
          [
           "Cambie & Water",
           18.1
          ],
          [
           "Keefer & Abbott",
           18.1
          ],
          [
           "Expo & Carrall",
           17.2
          ],
          [
           "Keefer & Columbia",
           18.1
          ],
          [
           "Marinaside & Cooperage",
           17.2
          ],
          [
           "Robson & Granville",
           19
          ],
          [
           "Expo & Smithe",
           17.2
          ],
          [
           "Cypress & 4th",
           17.2
          ],
          [
           "Nelson & Mainland",
           18.1
          ],
          [
           "Nelson & Richards",
           18.1
          ],
          [
           "Chilco & Barclay",
           17.2
          ],
          [
           "Chilco & Robson",
           18.1
          ],
          [
           "Nicola & Robson",
           18.1
          ],
          [
           "Carrall & Hastings",
           19
          ],
          [
           "šxʷƛ̓ənəq Xwtl'e7énḵ Square - Vancouver Art Gallery",
           18.1
          ],
          [
           "Georgia & Thurlow",
           18.1
          ],
          [
           "Richards & Helmcken",
           17.2
          ],
          [
           "Creekside Park North",
           17.2
          ],
          [
           "Alexander & Main",
           18.1
          ],
          [
           "Rogers Tower",
           17.2
          ],
          [
           "Alberni & Jervis",
           18.1
          ],
          [
           "Pender & Gore",
           17.2
          ],
          [
           "Grant & Commercial",
           17.2
          ],
          [
           "18th & Main",
           17.2
          ],
          [
           "Pender & Victoria",
           18.1
          ],
          [
           "Charles & Commercial",
           17.2
          ],
          [
           "Burrard Station near Melville & Dunsmuir",
           18.1
          ],
          [
           "Bute & Barclay",
           17.2
          ],
          [
           "Dunsmuir & Richards",
           18.1
          ],
          [
           "Richards & Cordova",
           18.1
          ],
          [
           "Richards & Robson",
           19
          ],
          [
           "Georgia & Homer",
           19
          ],
          [
           "Haro & Denman",
           17.2
          ],
          [
           "Richards & Davie",
           18.1
          ],
          [
           "Jervis & Robson",
           18.1
          ],
          [
           "Smithe & Burrard",
           18.1
          ],
          [
           "Broughton & Davie",
           17.2
          ],
          [
           "Richards & Smithe",
           19
          ],
          [
           "Bute & Robson",
           18.1
          ],
          [
           "Hastings & Broughton",
           18.1
          ],
          [
           "20th & Main",
           17.2
          ],
          [
           "Davie & Beach",
           17.2
          ],
          [
           "Morton & Denman",
           17.2
          ],
          [
           "Nelson & Denman",
           17.2
          ],
          [
           "Melville & Bute",
           17.2
          ],
          [
           "Seymour & Cordova",
           19
          ],
          [
           "Ontario & 23rd",
           17.2
          ],
          [
           "30th & Ontario",
           17.099999999999998
          ],
          [
           "Cardero & Robson",
           18.1
          ],
          [
           "Cardero & Bayshore",
           18.1
          ],
          [
           "27th & Main",
           18.1
          ],
          [
           "Cordova & Granville",
           19
          ],
          [
           "22nd & Main",
           17.2
          ],
          [
           "IK Barber Learning Centre",
           17.099999999999998
          ],
          [
           "War Memorial Gym",
           18
          ],
          [
           "Georgia & Main",
           17.2
          ],
          [
           "Beatty & Robson",
           17.2
          ]
         ],
         "hovertemplate": "<b>%{hovertext}</b><br><br>Popularity Index=%{marker.size}<br>Latitude=%{lat}<br>Longitude=%{lon}<br>Station_Name=%{customdata[0]}<br>Avg_POI_Count=%{customdata[1]}<extra></extra>",
         "hovertext": [
          "Yaletown-Roundhouse Station",
          "Dunsmuir & Beatty",
          "Canada Place",
          "Granville & Georgia",
          "Pender & Burrard",
          "Marinaside & Davie",
          "Robson & Hornby",
          "Hornby & Pender",
          "Homer & Robson near Vancouver Public Library",
          "Beatty & Nelson",
          "Abbott & Cordova",
          "Comox & Denman",
          "Cordova & Bute",
          "Hornby & Nelson",
          "Helmcken & Burrard",
          "Comox & Broughton",
          "Cambie & Water",
          "Keefer & Abbott",
          "Expo & Carrall",
          "Keefer & Columbia",
          "Marinaside & Cooperage",
          "Robson & Granville",
          "Expo & Smithe",
          "Cypress & 4th",
          "Nelson & Mainland",
          "Nelson & Richards",
          "Chilco & Barclay",
          "Chilco & Robson",
          "Nicola & Robson",
          "Carrall & Hastings",
          "šxʷƛ̓ənəq Xwtl'e7énḵ Square - Vancouver Art Gallery",
          "Georgia & Thurlow",
          "Richards & Helmcken",
          "Creekside Park North",
          "Alexander & Main",
          "Rogers Tower",
          "Alberni & Jervis",
          "Pender & Gore",
          "Grant & Commercial",
          "18th & Main",
          "Pender & Victoria",
          "Charles & Commercial",
          "Burrard Station near Melville & Dunsmuir",
          "Bute & Barclay",
          "Dunsmuir & Richards",
          "Richards & Cordova",
          "Richards & Robson",
          "Georgia & Homer",
          "Haro & Denman",
          "Richards & Davie",
          "Jervis & Robson",
          "Smithe & Burrard",
          "Broughton & Davie",
          "Richards & Smithe",
          "Bute & Robson",
          "Hastings & Broughton",
          "20th & Main",
          "Davie & Beach",
          "Morton & Denman",
          "Nelson & Denman",
          "Melville & Bute",
          "Seymour & Cordova",
          "Ontario & 23rd",
          "30th & Ontario",
          "Cardero & Robson",
          "Cardero & Bayshore",
          "27th & Main",
          "Cordova & Granville",
          "22nd & Main",
          "IK Barber Learning Centre",
          "War Memorial Gym",
          "Georgia & Main",
          "Beatty & Robson"
         ],
         "lat": [
          49.274566,
          49.279764,
          49.287214,
          49.282409,
          49.287097,
          49.273471,
          49.282758,
          49.28602,
          49.279739,
          49.275679,
          49.282759,
          49.288444,
          49.289124,
          49.28062,
          49.279938,
          49.285253,
          49.284605,
          49.279821,
          49.278004,
          49.279342,
          49.273833,
          49.281506,
          49.276115,
          49.268269,
          49.276436,
          49.277844,
          49.291909,
          49.293257,
          49.288011,
          49.28117,
          49.283227,
          49.285953,
          49.277141,
          49.2756,
          49.284157,
          49.288682,
          49.28763,
          49.280284,
          49.271377,
          49.254667,
          49.280197,
          49.273103,
          49.285871,
          49.284893,
          49.282214,
          49.284554,
          49.280216,
          49.280787,
          49.290587,
          49.275683,
          49.28691,
          49.282503,
          49.283749,
          49.279259,
          49.285836,
          49.290112,
          49.252691,
          49.287528,
          49.28803,
          49.2890705989865,
          49.287782,
          49.28512,
          49.249722,
          49.243375,
          49.289255,
          49.291597,
          49.247204,
          49.2856698,
          49.25094,
          49.267561,
          49.2665793,
          49.278529,
          49.277773
         ],
         "legendgroup": "3",
         "lon": [
          -123.121817,
          -123.110154,
          -123.11287,
          -123.118541,
          -123.118551,
          -123.118016,
          -123.122092,
          -123.116624,
          -123.116251,
          -123.116963,
          -123.106955,
          -123.139203,
          -123.12196,
          -123.12482,
          -123.127478,
          -123.134356,
          -123.108662,
          -123.10802,
          -123.105664,
          -123.101822,
          -123.114373,
          -123.120101,
          -123.114496,
          -123.147885,
          -123.11877,
          -123.120942,
          -123.140713,
          -123.138563,
          -123.132006,
          -123.104419,
          -123.120523,
          -123.124066,
          -123.122589,
          -123.102661,
          -123.099917,
          -123.11818,
          -123.127245,
          -123.097052,
          -123.069416,
          -123.101389,
          -123.065859,
          -123.069892,
          -123.12105,
          -123.128685,
          -123.114101,
          -123.111031,
          -123.117639,
          -123.115271,
          -123.13625,
          -123.124388,
          -123.128818,
          -123.124697,
          -123.136133,
          -123.119145,
          -123.127265,
          -123.127062,
          -123.101289,
          -123.142139,
          -123.142135,
          -123.138407369468,
          -123.12395,
          -123.11242,
          -123.104991,
          -123.104978,
          -123.132677,
          -123.129158,
          -123.101549,
          -123.1125432,
          -123.101306,
          -123.252261,
          -123.2485487,
          -123.100017,
          -123.114237
         ],
         "marker": {
          "color": "#FFA15A",
          "size": [
           3,
           3,
           3,
           3,
           3,
           3,
           3,
           3,
           3,
           3,
           3,
           3,
           3,
           3,
           3,
           3,
           3,
           3,
           3,
           3,
           3,
           3,
           3,
           3,
           3,
           3,
           3,
           3,
           3,
           3,
           3,
           3,
           3,
           3,
           3,
           3,
           3,
           3,
           3,
           3,
           3,
           3,
           3,
           3,
           3,
           3,
           3,
           3,
           3,
           3,
           3,
           3,
           3,
           3,
           3,
           3,
           3,
           3,
           3,
           3,
           3,
           3,
           3,
           3,
           3,
           3,
           3,
           3,
           3,
           3,
           3,
           3,
           3
          ],
          "sizemode": "area",
          "sizeref": 0.0075
         },
         "mode": "markers",
         "name": "3",
         "showlegend": true,
         "subplot": "mapbox",
         "type": "scattermapbox"
        },
        {
         "customdata": [
          [
           "8th & Ash",
           11.8
          ],
          [
           "Ontario & Seawall",
           9.1
          ],
          [
           "14th & Granville",
           11.600000000000001
          ],
          [
           "14th & Cambie",
           11.8
          ],
          [
           "Ontario & 5th",
           10.9
          ],
          [
           "10th & Main",
           11.8
          ],
          [
           "Vanier Park",
           11.8
          ],
          [
           "7th & Heather",
           11.8
          ],
          [
           "Stanley Park - Vancouver Aquarium",
           7.800000000000001
          ],
          [
           "Stanley Park - Second Beach North",
           1.1
          ],
          [
           "Stanley Park - Second Beach South",
           6
          ],
          [
           "Stanley Park - Totem Poles",
           1.5
          ],
          [
           "8th & Ontario",
           11.8
          ],
          [
           "10th & Oak",
           10
          ],
          [
           "Arbutus & 16th",
           3.8000000000000003
          ],
          [
           "Cypress & 14th",
           10
          ],
          [
           "Cypress & 16th",
           8
          ],
          [
           "Heather & 16th",
           11.8
          ],
          [
           "Chestnut & McNicoll",
           8.2
          ],
          [
           "Arbutus Greenway & 14th",
           6
          ],
          [
           "Arbutus & McNicoll",
           10
          ],
          [
           "Alder & 11th",
           10
          ],
          [
           "1st & Manitoba",
           8.2
          ],
          [
           "Quebec & 1st",
           10
          ],
          [
           "7th & Laurel",
           9.1
          ],
          [
           "7th &  Alder",
           10
          ],
          [
           "1st & Scotia",
           10.9
          ],
          [
           "14th & Alder",
           9
          ],
          [
           "Glen & Union",
           8.2
          ],
          [
           "Thornton & National",
           11.8
          ],
          [
           "Keith & 6th",
           8.2
          ],
          [
           "8th & Commercial",
           10
          ],
          [
           "10th & Commercial",
           7.9
          ],
          [
           "Woodland & 10th",
           5
          ],
          [
           "Glen & Broadway",
           8.7
          ],
          [
           "7th & Woodland",
           8.2
          ],
          [
           "10th & Fraser",
           11.8
          ],
          [
           "8th & Fraser",
           10
          ],
          [
           "St Catherines & 10th",
           7.3
          ],
          [
           "St Catherines & 7th",
           7.3
          ],
          [
           "Victoria & 10th",
           8.7
          ],
          [
           "15th & Victoria near Trout Lake",
           6.7
          ],
          [
           "Windsor & 14th",
           9.1
          ],
          [
           "14th & Fraser",
           11.8
          ],
          [
           "15th & Knight",
           8.799999999999999
          ],
          [
           "Carolina & Great Northern Way",
           7.3
          ],
          [
           "6th & Prince Edward",
           10.9
          ],
          [
           "6th & Carolina",
           10
          ],
          [
           "Stanley Park - Third Beach Parking Lot",
           0.9
          ],
          [
           "Keefer & Hawks",
           11.8
          ],
          [
           "Hawks & Union",
           9.1
          ],
          [
           "8th & Yukon",
           11.8
          ],
          [
           "5th & Main",
           10
          ],
          [
           "3rd & Quebec",
           10.9
          ],
          [
           "Olympic Village Station",
           10
          ],
          [
           "Campbell & Hastings",
           9.1
          ],
          [
           "Aquatic Centre",
           10
          ],
          [
           "Beach & Broughton",
           9.1
          ],
          [
           "Beach & Cardero",
           10
          ],
          [
           "Columbia & 5th",
           8.2
          ],
          [
           "8th & Prince Edward",
           11.8
          ],
          [
           "McLean & Pender",
           11.8
          ],
          [
           "Trafalgar & Cornwall",
           9.1
          ],
          [
           "Alma & Point Grey",
           5
          ],
          [
           "Point Grey & Blenheim",
           10
          ],
          [
           "Grandview & Commercial",
           10.9
          ],
          [
           "14th & Oak",
           10
          ],
          [
           "Wallace & 4th",
           9.6
          ],
          [
           "18th & Heather",
           9.7
          ],
          [
           "Station & Terminal",
           11.8
          ],
          [
           "Jericho Beach",
           10.200000000000001
          ],
          [
           "Columbia & 1st",
           7.3
          ],
          [
           "Yukon & 6th",
           8.2
          ],
          [
           "Wylie & 2nd",
           6.4
          ],
          [
           "29th & Cambie",
           3.8000000000000003
          ],
          [
           "28th & Willow",
           3.7
          ],
          [
           "Wall & Eton",
           11.700000000000001
          ],
          [
           "22nd & Cambie",
           7.4
          ],
          [
           "King Edward & Cambie",
           3.8000000000000003
          ],
          [
           "Heather & 29th",
           4.6
          ],
          [
           "Burrard & 14th",
           10.8
          ],
          [
           "Sasamat & 10th",
           11.8
          ],
          [
           "Trimble & 8th",
           10
          ]
         ],
         "hovertemplate": "<b>%{hovertext}</b><br><br>Popularity Index=%{marker.size}<br>Latitude=%{lat}<br>Longitude=%{lon}<br>Station_Name=%{customdata[0]}<br>Avg_POI_Count=%{customdata[1]}<extra></extra>",
         "hovertext": [
          "8th & Ash",
          "Ontario & Seawall",
          "14th & Granville",
          "14th & Cambie",
          "Ontario & 5th",
          "10th & Main",
          "Vanier Park",
          "7th & Heather",
          "Stanley Park - Vancouver Aquarium",
          "Stanley Park - Second Beach North",
          "Stanley Park - Second Beach South",
          "Stanley Park - Totem Poles",
          "8th & Ontario",
          "10th & Oak",
          "Arbutus & 16th",
          "Cypress & 14th",
          "Cypress & 16th",
          "Heather & 16th",
          "Chestnut & McNicoll",
          "Arbutus Greenway & 14th",
          "Arbutus & McNicoll",
          "Alder & 11th",
          "1st & Manitoba",
          "Quebec & 1st",
          "7th & Laurel",
          "7th &  Alder",
          "1st & Scotia",
          "14th & Alder",
          "Glen & Union",
          "Thornton & National",
          "Keith & 6th",
          "8th & Commercial",
          "10th & Commercial",
          "Woodland & 10th",
          "Glen & Broadway",
          "7th & Woodland",
          "10th & Fraser",
          "8th & Fraser",
          "St Catherines & 10th",
          "St Catherines & 7th",
          "Victoria & 10th",
          "15th & Victoria near Trout Lake",
          "Windsor & 14th",
          "14th & Fraser",
          "15th & Knight",
          "Carolina & Great Northern Way",
          "6th & Prince Edward",
          "6th & Carolina",
          "Stanley Park - Third Beach Parking Lot",
          "Keefer & Hawks",
          "Hawks & Union",
          "8th & Yukon",
          "5th & Main",
          "3rd & Quebec",
          "Olympic Village Station",
          "Campbell & Hastings",
          "Aquatic Centre",
          "Beach & Broughton",
          "Beach & Cardero",
          "Columbia & 5th",
          "8th & Prince Edward",
          "McLean & Pender",
          "Trafalgar & Cornwall",
          "Alma & Point Grey",
          "Point Grey & Blenheim",
          "Grandview & Commercial",
          "14th & Oak",
          "Wallace & 4th",
          "18th & Heather",
          "Station & Terminal",
          "Jericho Beach",
          "Columbia & 1st",
          "Yukon & 6th",
          "Wylie & 2nd",
          "29th & Cambie",
          "28th & Willow",
          "Wall & Eton",
          "22nd & Cambie",
          "King Edward & Cambie",
          "Heather & 29th",
          "Burrard & 14th",
          "Sasamat & 10th",
          "Trimble & 8th"
         ],
         "lat": [
          49.264215,
          49.271721,
          49.25894,
          49.258763,
          49.266724,
          49.262141,
          49.275717,
          49.265089,
          49.299292,
          49.29534,
          49.294318,
          49.298657,
          49.263837,
          49.262255,
          49.257654,
          49.25919,
          49.25741,
          49.256845,
          49.275938,
          49.258924,
          49.276144,
          49.261742,
          49.27023,
          49.27033,
          49.265071,
          49.265198,
          49.2685027,
          49.258819,
          49.277469,
          49.273777,
          49.265005,
          49.263242,
          49.261403,
          49.261263,
          49.262242,
          49.264251,
          49.26151,
          49.263382,
          49.261353,
          49.264466,
          49.261188,
          49.256857,
          49.257985,
          49.257939,
          49.256496,
          49.267266,
          49.265242,
          49.265213,
          49.302577,
          49.279235,
          49.277333,
          49.263962,
          49.266456,
          49.268216,
          49.266314,
          49.280852,
          49.27821,
          49.281301,
          49.283298,
          49.266476,
          49.263518,
          49.280427,
          49.272969,
          49.27247,
          49.271471,
          49.263746,
          49.258761,
          49.268974,
          49.255034,
          49.272172,
          49.271082,
          49.269969,
          49.265939,
          49.267725,
          49.245135,
          49.246243,
          49.287464,
          49.251358,
          49.249184,
          49.245535,
          49.259469,
          49.264019,
          49.2658
         ],
         "legendgroup": "1",
         "lon": [
          -123.117772,
          -123.104207,
          -123.139272,
          -123.115392,
          -123.104824,
          -123.101961,
          -123.142564,
          -123.119425,
          -123.130281,
          -123.150433,
          -123.148808,
          -123.121176,
          -123.105173,
          -123.126217,
          -123.153212,
          -123.148268,
          -123.148531,
          -123.120071,
          -123.145939,
          -123.152591,
          -123.151272,
          -123.13148,
          -123.10651,
          -123.10275,
          -123.123864,
          -123.131043,
          -123.0975014,
          -123.131317,
          -123.081315,
          -123.092723,
          -123.079481,
          -123.070521,
          -123.070102,
          -123.073707,
          -123.081459,
          -123.073853,
          -123.089413,
          -123.088837,
          -123.085333,
          -123.085183,
          -123.066009,
          -123.065646,
          -123.083366,
          -123.089531,
          -123.075426,
          -123.090786,
          -123.095577,
          -123.090785,
          -123.155616,
          -123.087528,
          -123.087359,
          -123.112621,
          -123.100324,
          -123.103168,
          -123.116011,
          -123.084746,
          -123.136972,
          -123.139108,
          -123.142288,
          -123.109389,
          -123.09568,
          -123.074082,
          -123.164325,
          -123.185643,
          -123.17731,
          -123.069892,
          -123.127071,
          -123.190701,
          -123.120226,
          -123.097978,
          -123.191458,
          -123.109623,
          -123.1129,
          -123.11311,
          -123.116098,
          -123.124373,
          -123.060771,
          -123.115637,
          -123.116141,
          -123.120496,
          -123.145718,
          -123.209176,
          -123.20596
         ],
         "marker": {
          "color": "#19d3f3",
          "size": [
           1,
           1,
           1,
           1,
           1,
           1,
           1,
           1,
           1,
           1,
           1,
           1,
           1,
           1,
           1,
           1,
           1,
           1,
           1,
           1,
           1,
           1,
           1,
           1,
           1,
           1,
           1,
           1,
           1,
           1,
           1,
           1,
           1,
           1,
           1,
           1,
           1,
           1,
           1,
           1,
           1,
           1,
           1,
           1,
           1,
           1,
           1,
           1,
           1,
           1,
           1,
           1,
           1,
           1,
           1,
           1,
           1,
           1,
           1,
           1,
           1,
           1,
           1,
           1,
           1,
           1,
           1,
           1,
           1,
           1,
           1,
           1,
           1,
           1,
           1,
           1,
           1,
           1,
           1,
           1,
           1,
           1,
           1
          ],
          "sizemode": "area",
          "sizeref": 0.0075
         },
         "mode": "markers",
         "name": "1",
         "showlegend": true,
         "subplot": "mapbox",
         "type": "scattermapbox"
        }
       ],
       "layout": {
        "height": 800,
        "legend": {
         "itemsizing": "constant",
         "title": {
          "text": "Popularity Index"
         },
         "tracegroupgap": 0
        },
        "mapbox": {
         "center": {
          "lat": 49.271781606447526,
          "lon": -123.11934593818334
         },
         "domain": {
          "x": [
           0,
           1
          ],
          "y": [
           0,
           1
          ]
         },
         "style": "open-street-map",
         "zoom": 8
        },
        "margin": {
         "b": 0,
         "l": 0,
         "r": 0,
         "t": 0
        },
        "template": {
         "data": {
          "bar": [
           {
            "error_x": {
             "color": "#2a3f5f"
            },
            "error_y": {
             "color": "#2a3f5f"
            },
            "marker": {
             "line": {
              "color": "#E5ECF6",
              "width": 0.5
             },
             "pattern": {
              "fillmode": "overlay",
              "size": 10,
              "solidity": 0.2
             }
            },
            "type": "bar"
           }
          ],
          "barpolar": [
           {
            "marker": {
             "line": {
              "color": "#E5ECF6",
              "width": 0.5
             },
             "pattern": {
              "fillmode": "overlay",
              "size": 10,
              "solidity": 0.2
             }
            },
            "type": "barpolar"
           }
          ],
          "carpet": [
           {
            "aaxis": {
             "endlinecolor": "#2a3f5f",
             "gridcolor": "white",
             "linecolor": "white",
             "minorgridcolor": "white",
             "startlinecolor": "#2a3f5f"
            },
            "baxis": {
             "endlinecolor": "#2a3f5f",
             "gridcolor": "white",
             "linecolor": "white",
             "minorgridcolor": "white",
             "startlinecolor": "#2a3f5f"
            },
            "type": "carpet"
           }
          ],
          "choropleth": [
           {
            "colorbar": {
             "outlinewidth": 0,
             "ticks": ""
            },
            "type": "choropleth"
           }
          ],
          "contour": [
           {
            "colorbar": {
             "outlinewidth": 0,
             "ticks": ""
            },
            "colorscale": [
             [
              0,
              "#0d0887"
             ],
             [
              0.1111111111111111,
              "#46039f"
             ],
             [
              0.2222222222222222,
              "#7201a8"
             ],
             [
              0.3333333333333333,
              "#9c179e"
             ],
             [
              0.4444444444444444,
              "#bd3786"
             ],
             [
              0.5555555555555556,
              "#d8576b"
             ],
             [
              0.6666666666666666,
              "#ed7953"
             ],
             [
              0.7777777777777778,
              "#fb9f3a"
             ],
             [
              0.8888888888888888,
              "#fdca26"
             ],
             [
              1,
              "#f0f921"
             ]
            ],
            "type": "contour"
           }
          ],
          "contourcarpet": [
           {
            "colorbar": {
             "outlinewidth": 0,
             "ticks": ""
            },
            "type": "contourcarpet"
           }
          ],
          "heatmap": [
           {
            "colorbar": {
             "outlinewidth": 0,
             "ticks": ""
            },
            "colorscale": [
             [
              0,
              "#0d0887"
             ],
             [
              0.1111111111111111,
              "#46039f"
             ],
             [
              0.2222222222222222,
              "#7201a8"
             ],
             [
              0.3333333333333333,
              "#9c179e"
             ],
             [
              0.4444444444444444,
              "#bd3786"
             ],
             [
              0.5555555555555556,
              "#d8576b"
             ],
             [
              0.6666666666666666,
              "#ed7953"
             ],
             [
              0.7777777777777778,
              "#fb9f3a"
             ],
             [
              0.8888888888888888,
              "#fdca26"
             ],
             [
              1,
              "#f0f921"
             ]
            ],
            "type": "heatmap"
           }
          ],
          "heatmapgl": [
           {
            "colorbar": {
             "outlinewidth": 0,
             "ticks": ""
            },
            "colorscale": [
             [
              0,
              "#0d0887"
             ],
             [
              0.1111111111111111,
              "#46039f"
             ],
             [
              0.2222222222222222,
              "#7201a8"
             ],
             [
              0.3333333333333333,
              "#9c179e"
             ],
             [
              0.4444444444444444,
              "#bd3786"
             ],
             [
              0.5555555555555556,
              "#d8576b"
             ],
             [
              0.6666666666666666,
              "#ed7953"
             ],
             [
              0.7777777777777778,
              "#fb9f3a"
             ],
             [
              0.8888888888888888,
              "#fdca26"
             ],
             [
              1,
              "#f0f921"
             ]
            ],
            "type": "heatmapgl"
           }
          ],
          "histogram": [
           {
            "marker": {
             "pattern": {
              "fillmode": "overlay",
              "size": 10,
              "solidity": 0.2
             }
            },
            "type": "histogram"
           }
          ],
          "histogram2d": [
           {
            "colorbar": {
             "outlinewidth": 0,
             "ticks": ""
            },
            "colorscale": [
             [
              0,
              "#0d0887"
             ],
             [
              0.1111111111111111,
              "#46039f"
             ],
             [
              0.2222222222222222,
              "#7201a8"
             ],
             [
              0.3333333333333333,
              "#9c179e"
             ],
             [
              0.4444444444444444,
              "#bd3786"
             ],
             [
              0.5555555555555556,
              "#d8576b"
             ],
             [
              0.6666666666666666,
              "#ed7953"
             ],
             [
              0.7777777777777778,
              "#fb9f3a"
             ],
             [
              0.8888888888888888,
              "#fdca26"
             ],
             [
              1,
              "#f0f921"
             ]
            ],
            "type": "histogram2d"
           }
          ],
          "histogram2dcontour": [
           {
            "colorbar": {
             "outlinewidth": 0,
             "ticks": ""
            },
            "colorscale": [
             [
              0,
              "#0d0887"
             ],
             [
              0.1111111111111111,
              "#46039f"
             ],
             [
              0.2222222222222222,
              "#7201a8"
             ],
             [
              0.3333333333333333,
              "#9c179e"
             ],
             [
              0.4444444444444444,
              "#bd3786"
             ],
             [
              0.5555555555555556,
              "#d8576b"
             ],
             [
              0.6666666666666666,
              "#ed7953"
             ],
             [
              0.7777777777777778,
              "#fb9f3a"
             ],
             [
              0.8888888888888888,
              "#fdca26"
             ],
             [
              1,
              "#f0f921"
             ]
            ],
            "type": "histogram2dcontour"
           }
          ],
          "mesh3d": [
           {
            "colorbar": {
             "outlinewidth": 0,
             "ticks": ""
            },
            "type": "mesh3d"
           }
          ],
          "parcoords": [
           {
            "line": {
             "colorbar": {
              "outlinewidth": 0,
              "ticks": ""
             }
            },
            "type": "parcoords"
           }
          ],
          "pie": [
           {
            "automargin": true,
            "type": "pie"
           }
          ],
          "scatter": [
           {
            "fillpattern": {
             "fillmode": "overlay",
             "size": 10,
             "solidity": 0.2
            },
            "type": "scatter"
           }
          ],
          "scatter3d": [
           {
            "line": {
             "colorbar": {
              "outlinewidth": 0,
              "ticks": ""
             }
            },
            "marker": {
             "colorbar": {
              "outlinewidth": 0,
              "ticks": ""
             }
            },
            "type": "scatter3d"
           }
          ],
          "scattercarpet": [
           {
            "marker": {
             "colorbar": {
              "outlinewidth": 0,
              "ticks": ""
             }
            },
            "type": "scattercarpet"
           }
          ],
          "scattergeo": [
           {
            "marker": {
             "colorbar": {
              "outlinewidth": 0,
              "ticks": ""
             }
            },
            "type": "scattergeo"
           }
          ],
          "scattergl": [
           {
            "marker": {
             "colorbar": {
              "outlinewidth": 0,
              "ticks": ""
             }
            },
            "type": "scattergl"
           }
          ],
          "scattermapbox": [
           {
            "marker": {
             "colorbar": {
              "outlinewidth": 0,
              "ticks": ""
             }
            },
            "type": "scattermapbox"
           }
          ],
          "scatterpolar": [
           {
            "marker": {
             "colorbar": {
              "outlinewidth": 0,
              "ticks": ""
             }
            },
            "type": "scatterpolar"
           }
          ],
          "scatterpolargl": [
           {
            "marker": {
             "colorbar": {
              "outlinewidth": 0,
              "ticks": ""
             }
            },
            "type": "scatterpolargl"
           }
          ],
          "scatterternary": [
           {
            "marker": {
             "colorbar": {
              "outlinewidth": 0,
              "ticks": ""
             }
            },
            "type": "scatterternary"
           }
          ],
          "surface": [
           {
            "colorbar": {
             "outlinewidth": 0,
             "ticks": ""
            },
            "colorscale": [
             [
              0,
              "#0d0887"
             ],
             [
              0.1111111111111111,
              "#46039f"
             ],
             [
              0.2222222222222222,
              "#7201a8"
             ],
             [
              0.3333333333333333,
              "#9c179e"
             ],
             [
              0.4444444444444444,
              "#bd3786"
             ],
             [
              0.5555555555555556,
              "#d8576b"
             ],
             [
              0.6666666666666666,
              "#ed7953"
             ],
             [
              0.7777777777777778,
              "#fb9f3a"
             ],
             [
              0.8888888888888888,
              "#fdca26"
             ],
             [
              1,
              "#f0f921"
             ]
            ],
            "type": "surface"
           }
          ],
          "table": [
           {
            "cells": {
             "fill": {
              "color": "#EBF0F8"
             },
             "line": {
              "color": "white"
             }
            },
            "header": {
             "fill": {
              "color": "#C8D4E3"
             },
             "line": {
              "color": "white"
             }
            },
            "type": "table"
           }
          ]
         },
         "layout": {
          "annotationdefaults": {
           "arrowcolor": "#2a3f5f",
           "arrowhead": 0,
           "arrowwidth": 1
          },
          "autotypenumbers": "strict",
          "coloraxis": {
           "colorbar": {
            "outlinewidth": 0,
            "ticks": ""
           }
          },
          "colorscale": {
           "diverging": [
            [
             0,
             "#8e0152"
            ],
            [
             0.1,
             "#c51b7d"
            ],
            [
             0.2,
             "#de77ae"
            ],
            [
             0.3,
             "#f1b6da"
            ],
            [
             0.4,
             "#fde0ef"
            ],
            [
             0.5,
             "#f7f7f7"
            ],
            [
             0.6,
             "#e6f5d0"
            ],
            [
             0.7,
             "#b8e186"
            ],
            [
             0.8,
             "#7fbc41"
            ],
            [
             0.9,
             "#4d9221"
            ],
            [
             1,
             "#276419"
            ]
           ],
           "sequential": [
            [
             0,
             "#0d0887"
            ],
            [
             0.1111111111111111,
             "#46039f"
            ],
            [
             0.2222222222222222,
             "#7201a8"
            ],
            [
             0.3333333333333333,
             "#9c179e"
            ],
            [
             0.4444444444444444,
             "#bd3786"
            ],
            [
             0.5555555555555556,
             "#d8576b"
            ],
            [
             0.6666666666666666,
             "#ed7953"
            ],
            [
             0.7777777777777778,
             "#fb9f3a"
            ],
            [
             0.8888888888888888,
             "#fdca26"
            ],
            [
             1,
             "#f0f921"
            ]
           ],
           "sequentialminus": [
            [
             0,
             "#0d0887"
            ],
            [
             0.1111111111111111,
             "#46039f"
            ],
            [
             0.2222222222222222,
             "#7201a8"
            ],
            [
             0.3333333333333333,
             "#9c179e"
            ],
            [
             0.4444444444444444,
             "#bd3786"
            ],
            [
             0.5555555555555556,
             "#d8576b"
            ],
            [
             0.6666666666666666,
             "#ed7953"
            ],
            [
             0.7777777777777778,
             "#fb9f3a"
            ],
            [
             0.8888888888888888,
             "#fdca26"
            ],
            [
             1,
             "#f0f921"
            ]
           ]
          },
          "colorway": [
           "#636efa",
           "#EF553B",
           "#00cc96",
           "#ab63fa",
           "#FFA15A",
           "#19d3f3",
           "#FF6692",
           "#B6E880",
           "#FF97FF",
           "#FECB52"
          ],
          "font": {
           "color": "#2a3f5f"
          },
          "geo": {
           "bgcolor": "white",
           "lakecolor": "white",
           "landcolor": "#E5ECF6",
           "showlakes": true,
           "showland": true,
           "subunitcolor": "white"
          },
          "hoverlabel": {
           "align": "left"
          },
          "hovermode": "closest",
          "mapbox": {
           "style": "light"
          },
          "paper_bgcolor": "white",
          "plot_bgcolor": "#E5ECF6",
          "polar": {
           "angularaxis": {
            "gridcolor": "white",
            "linecolor": "white",
            "ticks": ""
           },
           "bgcolor": "#E5ECF6",
           "radialaxis": {
            "gridcolor": "white",
            "linecolor": "white",
            "ticks": ""
           }
          },
          "scene": {
           "xaxis": {
            "backgroundcolor": "#E5ECF6",
            "gridcolor": "white",
            "gridwidth": 2,
            "linecolor": "white",
            "showbackground": true,
            "ticks": "",
            "zerolinecolor": "white"
           },
           "yaxis": {
            "backgroundcolor": "#E5ECF6",
            "gridcolor": "white",
            "gridwidth": 2,
            "linecolor": "white",
            "showbackground": true,
            "ticks": "",
            "zerolinecolor": "white"
           },
           "zaxis": {
            "backgroundcolor": "#E5ECF6",
            "gridcolor": "white",
            "gridwidth": 2,
            "linecolor": "white",
            "showbackground": true,
            "ticks": "",
            "zerolinecolor": "white"
           }
          },
          "shapedefaults": {
           "line": {
            "color": "#2a3f5f"
           }
          },
          "ternary": {
           "aaxis": {
            "gridcolor": "white",
            "linecolor": "white",
            "ticks": ""
           },
           "baxis": {
            "gridcolor": "white",
            "linecolor": "white",
            "ticks": ""
           },
           "bgcolor": "#E5ECF6",
           "caxis": {
            "gridcolor": "white",
            "linecolor": "white",
            "ticks": ""
           }
          },
          "title": {
           "x": 0.05
          },
          "xaxis": {
           "automargin": true,
           "gridcolor": "white",
           "linecolor": "white",
           "ticks": "",
           "title": {
            "standoff": 15
           },
           "zerolinecolor": "white",
           "zerolinewidth": 2
          },
          "yaxis": {
           "automargin": true,
           "gridcolor": "white",
           "linecolor": "white",
           "ticks": "",
           "title": {
            "standoff": 15
           },
           "zerolinecolor": "white",
           "zerolinewidth": 2
          }
         }
        },
        "width": 800
       }
      }
     },
     "metadata": {},
     "output_type": "display_data"
    }
   ],
   "source": [
    "# Yelp data seems to be more complete and thus reliable compared to the FSQ data. \n",
    "# Therefore we will be considering a weighted avg of both the data sources - 90% weightage to Yelp and 10% to FSQ\n",
    "\n",
    "complete_df['Avg_POI_Count'] = 0.9 * complete_df['Yelp_Total_POI'] + 0.1 * complete_df['FSQ_Total_POI']\n",
    "# Since the sum of weights is 1 we won't be dividing with it.\n",
    "\n",
    "# Popularity Index\n",
    "\n",
    "# Specify the number of bins (in this case, 3 for low, medium, and high)\n",
    "num_bins = 3\n",
    "\n",
    "# Use qcut to bucket the numerical column into three categories\n",
    "complete_df['Popularity_Index'] = pd.qcut(complete_df['Avg_POI_Count'], q=num_bins, labels=['Low', 'Medium', 'High'])\n",
    "\n",
    "\n",
    "# Visualize the bike stations in a geo map\n",
    "\n",
    "color_scale = {'Low': 'orange', 'Medium': 'yellow', 'High': 'red'}\n",
    "\n",
    "# Create a numerical representation of 'Popularity_Index'\n",
    "complete_df['Popularity_Index_Num'] = complete_df['Popularity_Index'].map({'Low': 1, 'Medium': 2, 'High': 3})\n",
    "\n",
    "fig = px.scatter_mapbox(complete_df, \n",
    "                        lat=\"Latitude\", \n",
    "                        lon=\"Longitude\", \n",
    "                        hover_name=\"Station_Name\", \n",
    "                        hover_data=[\"Station_Name\", \"Avg_POI_Count\"],\n",
    "                        color=\"Popularity_Index_Num\",\n",
    "                        color_discrete_map=color_scale,\n",
    "                        size=\"Popularity_Index_Num\",\n",
    "                        zoom=8, \n",
    "                        height=800,\n",
    "                        width=800,\n",
    "                        labels={'Popularity_Index_Num': 'Popularity Index'})  # Title for the legend\n",
    "\n",
    "fig.update_layout(mapbox_style=\"open-street-map\")\n",
    "fig.update_layout(margin={\"r\":0,\"t\":0,\"l\":0,\"b\":0})\n",
    "fig.write_html(r\"C:\\Users\\aksha\\Documents\\LHL\\LHL Assignments\\Week 5\\Python Statistical Modeling Project\\Python Project\\Statistical_Modeling_Python\\images\\POI_Popularity_Index_chart.html\")\n",
    "fig.show()\n",
    "# The further we go from downtown the lesser is the popularity index of the station\n"
   ]
  },
  {
   "cell_type": "code",
   "execution_count": 33,
   "metadata": {},
   "outputs": [
    {
     "data": {
      "image/png": "[encoded data removed]",
      "text/plain": [
       "<Figure size 600x600 with 2 Axes>"
      ]
     },
     "metadata": {},
     "output_type": "display_data"
    },
    {
     "data": {
      "text/plain": [
       "187"
      ]
     },
     "execution_count": 33,
     "metadata": {},
     "output_type": "execute_result"
    }
   ],
   "source": [
    "\n",
    "# Check for correlation between following parameters -\n",
    "    # Total Slots and Total POIs\n",
    "    # Total Bikes in Use and Total POIs\n",
    "    # Total Bikes in Use and Total number of reviews\n",
    "    # Total Bikes in Use and Avg Ratings\n",
    "    \n",
    "complete_df.columns\n",
    "# Calculate the correlation matrix\n",
    "corr_matrix = complete_df[['Total_Available_Slots', 'Yelp_Avg_Rating', 'Yelp_Avg_Review_Count', 'Avg_POI_Count', 'Total_Bikes_In_Use']].corr()\n",
    "\n",
    "# Create a heatmap \n",
    "plt.figure(figsize=(6, 6))\n",
    "sns.heatmap(corr_matrix, annot=True, cmap='coolwarm', fmt=\".2f\", linewidths=.5)\n",
    "plt.title('Correlation Heatmap')\n",
    "plt.savefig(r\"C:\\Users\\aksha\\Documents\\LHL\\LHL Assignments\\Week 5\\Python Statistical Modeling Project\\Python Project\\Statistical_Modeling_Python\\images\\Correlation_Heatmap.png\")\n",
    "\n",
    "plt.show()\n",
    "\n",
    "# Review count and ratings are highly correlated (0.46)\n",
    "# Avg POI count and review count are highly correlated (0.58)\n",
    "# Since one is a subset of another, hence it's obvious that total Bikes in Use and Available slots are mildly correlated (0.33)\n",
    "\n",
    "# DQ Check \n",
    "# Check whether the Empty slots = Total Slots - Total Free Bikes\n",
    "sum(complete_df['Total_Available_Empty_Slots'] == complete_df['Total_Available_Slots'] - complete_df['Total_Available_Free_Bikes'])\n",
    "# In 194 records the total available empty slots matches the difference between available slots and available free bikes\n",
    "\n"
   ]
  },
  {
   "cell_type": "code",
   "execution_count": 34,
   "metadata": {},
   "outputs": [
    {
     "name": "stdout",
     "output_type": "stream",
     "text": [
      "Index(['City', 'Country', 'Station_Id', 'Station_Name', 'Latitude',\n",
      "       'Longitude', 'Total_Available_Slots', 'Total_Available_Free_Bikes',\n",
      "       'Total_Available_EBikes', 'Total_Available_Normal_Bikes',\n",
      "       'Total_Available_Empty_Slots', 'Date_Time', 'Date', 'Time',\n",
      "       'Total_Bikes_In_Use', 'Yelp_Total_POI', 'Yelp_Avg_Rating',\n",
      "       'Yelp_Avg_Review_Count', 'Yelp_Price_Category', 'FSQ_Likely_Open',\n",
      "       'FSQ_Very_Likely_Open', 'FSQ_Unsure', 'FSQ_Total_POI', 'Diff_POI_Count',\n",
      "       'Avg_POI_Count', 'Popularity_Index', 'Popularity_Index_Num'],\n",
      "      dtype='object')\n"
     ]
    },
    {
     "data": {
      "image/png": "[encoded data removed]",
      "text/plain": [
       "<Figure size 800x600 with 1 Axes>"
      ]
     },
     "metadata": {},
     "output_type": "display_data"
    },
    {
     "name": "stdout",
     "output_type": "stream",
     "text": [
      "T-Statistic: -1.0406164750182207\n",
      "P-Value: 0.3362397238749931\n",
      "No significant difference in means.\n"
     ]
    }
   ],
   "source": [
    "print(complete_df.columns)\n",
    "# Box plot of total bikes in use vs price category\n",
    "\n",
    "plt.figure(figsize=(8, 6))\n",
    "sns.boxplot(x='Yelp_Price_Category', y='Total_Bikes_In_Use', data=complete_df)\n",
    "plt.title('Boxplot of Total_Bikes_In_Use by Yelp_Price_Category')\n",
    "plt.savefig(r\"C:\\Users\\aksha\\Documents\\LHL\\LHL Assignments\\Week 5\\Python Statistical Modeling Project\\Python Project\\Statistical_Modeling_Python\\images\\Yelp_Price_Category_Wise_Boxplot.png\")\n",
    "\n",
    "plt.show()\n",
    "\n",
    "# We can see that the total bikes in use are in higher number within an economical POI compared to an Expensive one\n",
    "# We will validate the hypothesis using a t test\n",
    "\n",
    "# T Test (Welch's t test as both the groups have unequal sample sizes) \n",
    "\n",
    "# Separate data into two groups\n",
    "economical_category = complete_df['Total_Bikes_In_Use'][complete_df['Yelp_Price_Category'] == 'Economical']\n",
    "expensive_category = complete_df['Total_Bikes_In_Use'][complete_df['Yelp_Price_Category'] == 'Expensive']\n",
    "\n",
    "# Perform Welch's t-test\n",
    "t_statistic, p_value = ttest_ind(economical_category, expensive_category, equal_var=False)\n",
    "\n",
    "# Print the t-test result\n",
    "print(f\"T-Statistic: {t_statistic}\")\n",
    "print(f\"P-Value: {p_value}\")\n",
    "\n",
    "# Check the p-value to determine statistical significance\n",
    "if p_value < 0.05:\n",
    "    print(\"The means are significantly different.\")\n",
    "else:\n",
    "    print(\"No significant difference in means.\")\n",
    "\n",
    "# We cannot reject the null hypothesis\n"
   ]
  },
  {
   "cell_type": "code",
   "execution_count": 5,
   "metadata": {},
   "outputs": [
    {
     "data": {
      "text/html": [
       "<div>\n",
       "<style scoped>\n",
       "    .dataframe tbody tr th:only-of-type {\n",
       "        vertical-align: middle;\n",
       "    }\n",
       "\n",
       "    .dataframe tbody tr th {\n",
       "        vertical-align: top;\n",
       "    }\n",
       "\n",
       "    .dataframe thead th {\n",
       "        text-align: right;\n",
       "    }\n",
       "</style>\n",
       "<table border=\"1\" class=\"dataframe\">\n",
       "  <thead>\n",
       "    <tr style=\"text-align: right;\">\n",
       "      <th></th>\n",
       "      <th>City</th>\n",
       "      <th>Country</th>\n",
       "      <th>Station_Id</th>\n",
       "      <th>Station_Name</th>\n",
       "      <th>Latitude</th>\n",
       "      <th>Longitude</th>\n",
       "      <th>Total_Available_Slots</th>\n",
       "      <th>Total_Available_Free_Bikes</th>\n",
       "      <th>Total_Available_EBikes</th>\n",
       "      <th>Total_Available_Normal_Bikes</th>\n",
       "      <th>...</th>\n",
       "      <th>Yelp_Avg_Review_Count</th>\n",
       "      <th>Yelp_Price_Category</th>\n",
       "      <th>FSQ_Likely_Open</th>\n",
       "      <th>FSQ_Very_Likely_Open</th>\n",
       "      <th>FSQ_Unsure</th>\n",
       "      <th>FSQ_Total_POI</th>\n",
       "      <th>Diff_POI_Count</th>\n",
       "      <th>Avg_POI_Count</th>\n",
       "      <th>Popularity_Index</th>\n",
       "      <th>Popularity_Index_Num</th>\n",
       "    </tr>\n",
       "  </thead>\n",
       "  <tbody>\n",
       "    <tr>\n",
       "      <th>0</th>\n",
       "      <td>Vancouver</td>\n",
       "      <td>CA</td>\n",
       "      <td>7a19c49f486d7c0c02b3685d7b240448</td>\n",
       "      <td>10th &amp; Cambie</td>\n",
       "      <td>49.262487</td>\n",
       "      <td>-123.114397</td>\n",
       "      <td>36</td>\n",
       "      <td>29</td>\n",
       "      <td>1</td>\n",
       "      <td>28</td>\n",
       "      <td>...</td>\n",
       "      <td>253.666667</td>\n",
       "      <td>Economical</td>\n",
       "      <td>4.0</td>\n",
       "      <td>6.0</td>\n",
       "      <td>0.0</td>\n",
       "      <td>10.0</td>\n",
       "      <td>5.0</td>\n",
       "      <td>14.5</td>\n",
       "      <td>Medium</td>\n",
       "      <td>2</td>\n",
       "    </tr>\n",
       "    <tr>\n",
       "      <th>1</th>\n",
       "      <td>Vancouver</td>\n",
       "      <td>CA</td>\n",
       "      <td>32603a87cfca71d0f7dfa3513bad69d5</td>\n",
       "      <td>Yaletown-Roundhouse Station</td>\n",
       "      <td>49.274566</td>\n",
       "      <td>-123.121817</td>\n",
       "      <td>16</td>\n",
       "      <td>12</td>\n",
       "      <td>4</td>\n",
       "      <td>8</td>\n",
       "      <td>...</td>\n",
       "      <td>673.555556</td>\n",
       "      <td>Economical</td>\n",
       "      <td>1.0</td>\n",
       "      <td>9.0</td>\n",
       "      <td>0.0</td>\n",
       "      <td>10.0</td>\n",
       "      <td>8.0</td>\n",
       "      <td>17.2</td>\n",
       "      <td>High</td>\n",
       "      <td>3</td>\n",
       "    </tr>\n",
       "    <tr>\n",
       "      <th>2</th>\n",
       "      <td>Vancouver</td>\n",
       "      <td>CA</td>\n",
       "      <td>6d42fa40360f9a6b2bf641c7b8bb2862</td>\n",
       "      <td>Dunsmuir &amp; Beatty</td>\n",
       "      <td>49.279764</td>\n",
       "      <td>-123.110154</td>\n",
       "      <td>26</td>\n",
       "      <td>18</td>\n",
       "      <td>3</td>\n",
       "      <td>15</td>\n",
       "      <td>...</td>\n",
       "      <td>881.947368</td>\n",
       "      <td>Economical</td>\n",
       "      <td>0.0</td>\n",
       "      <td>10.0</td>\n",
       "      <td>0.0</td>\n",
       "      <td>10.0</td>\n",
       "      <td>9.0</td>\n",
       "      <td>18.1</td>\n",
       "      <td>High</td>\n",
       "      <td>3</td>\n",
       "    </tr>\n",
       "    <tr>\n",
       "      <th>3</th>\n",
       "      <td>Vancouver</td>\n",
       "      <td>CA</td>\n",
       "      <td>66f873d641d448bd1572ab086665a458</td>\n",
       "      <td>12th &amp; Yukon near City Hall</td>\n",
       "      <td>49.260599</td>\n",
       "      <td>-123.113504</td>\n",
       "      <td>16</td>\n",
       "      <td>8</td>\n",
       "      <td>5</td>\n",
       "      <td>3</td>\n",
       "      <td>...</td>\n",
       "      <td>286.857143</td>\n",
       "      <td>Economical</td>\n",
       "      <td>3.0</td>\n",
       "      <td>7.0</td>\n",
       "      <td>0.0</td>\n",
       "      <td>10.0</td>\n",
       "      <td>4.0</td>\n",
       "      <td>13.6</td>\n",
       "      <td>Medium</td>\n",
       "      <td>2</td>\n",
       "    </tr>\n",
       "    <tr>\n",
       "      <th>4</th>\n",
       "      <td>Vancouver</td>\n",
       "      <td>CA</td>\n",
       "      <td>485d4d24c803cfde829ab89699fed833</td>\n",
       "      <td>8th &amp; Ash</td>\n",
       "      <td>49.264215</td>\n",
       "      <td>-123.117772</td>\n",
       "      <td>16</td>\n",
       "      <td>11</td>\n",
       "      <td>7</td>\n",
       "      <td>4</td>\n",
       "      <td>...</td>\n",
       "      <td>290.166667</td>\n",
       "      <td>Economical</td>\n",
       "      <td>5.0</td>\n",
       "      <td>5.0</td>\n",
       "      <td>0.0</td>\n",
       "      <td>10.0</td>\n",
       "      <td>2.0</td>\n",
       "      <td>11.8</td>\n",
       "      <td>Low</td>\n",
       "      <td>1</td>\n",
       "    </tr>\n",
       "  </tbody>\n",
       "</table>\n",
       "<p>5 rows × 27 columns</p>\n",
       "</div>"
      ],
      "text/plain": [
       "        City Country                        Station_Id  \\\n",
       "0  Vancouver      CA  7a19c49f486d7c0c02b3685d7b240448   \n",
       "1  Vancouver      CA  32603a87cfca71d0f7dfa3513bad69d5   \n",
       "2  Vancouver      CA  6d42fa40360f9a6b2bf641c7b8bb2862   \n",
       "3  Vancouver      CA  66f873d641d448bd1572ab086665a458   \n",
       "4  Vancouver      CA  485d4d24c803cfde829ab89699fed833   \n",
       "\n",
       "                  Station_Name   Latitude   Longitude  Total_Available_Slots  \\\n",
       "0                10th & Cambie  49.262487 -123.114397                     36   \n",
       "1  Yaletown-Roundhouse Station  49.274566 -123.121817                     16   \n",
       "2            Dunsmuir & Beatty  49.279764 -123.110154                     26   \n",
       "3  12th & Yukon near City Hall  49.260599 -123.113504                     16   \n",
       "4                    8th & Ash  49.264215 -123.117772                     16   \n",
       "\n",
       "   Total_Available_Free_Bikes  Total_Available_EBikes  \\\n",
       "0                          29                       1   \n",
       "1                          12                       4   \n",
       "2                          18                       3   \n",
       "3                           8                       5   \n",
       "4                          11                       7   \n",
       "\n",
       "   Total_Available_Normal_Bikes  ...  Yelp_Avg_Review_Count  \\\n",
       "0                            28  ...             253.666667   \n",
       "1                             8  ...             673.555556   \n",
       "2                            15  ...             881.947368   \n",
       "3                             3  ...             286.857143   \n",
       "4                             4  ...             290.166667   \n",
       "\n",
       "  Yelp_Price_Category FSQ_Likely_Open FSQ_Very_Likely_Open  FSQ_Unsure  \\\n",
       "0          Economical             4.0                  6.0         0.0   \n",
       "1          Economical             1.0                  9.0         0.0   \n",
       "2          Economical             0.0                 10.0         0.0   \n",
       "3          Economical             3.0                  7.0         0.0   \n",
       "4          Economical             5.0                  5.0         0.0   \n",
       "\n",
       "   FSQ_Total_POI  Diff_POI_Count  Avg_POI_Count Popularity_Index  \\\n",
       "0           10.0             5.0           14.5           Medium   \n",
       "1           10.0             8.0           17.2             High   \n",
       "2           10.0             9.0           18.1             High   \n",
       "3           10.0             4.0           13.6           Medium   \n",
       "4           10.0             2.0           11.8              Low   \n",
       "\n",
       "   Popularity_Index_Num  \n",
       "0                     2  \n",
       "1                     3  \n",
       "2                     3  \n",
       "3                     2  \n",
       "4                     1  \n",
       "\n",
       "[5 rows x 27 columns]"
      ]
     },
     "execution_count": 5,
     "metadata": {},
     "output_type": "execute_result"
    }
   ],
   "source": [
    "complete_df = pd.to_csv(r\"C:\\Users\\aksha\\Documents\\LHL\\LHL Assignments\\Week 5\\Python Statistical Modeling Project\\Python Project\\Statistical_Modeling_Python\\data\\Merged_Data_17th.csv\", index = False)\n"
   ]
  },
  {
   "cell_type": "markdown",
   "metadata": {},
   "source": [
    "# Database"
   ]
  },
  {
   "cell_type": "markdown",
   "metadata": {},
   "source": [
    "Put all your results in an SQLite3 database (remember, SQLite stores its databases as files in your local machine - make sure to create your database in your project's data/ directory!)"
   ]
  },
  {
   "cell_type": "code",
   "execution_count": 36,
   "metadata": {},
   "outputs": [
    {
     "name": "stdout",
     "output_type": "stream",
     "text": [
      "        City Country                        Station_Id  \\\n",
      "0  Vancouver      CA  7a19c49f486d7c0c02b3685d7b240448   \n",
      "1  Vancouver      CA  32603a87cfca71d0f7dfa3513bad69d5   \n",
      "2  Vancouver      CA  6d42fa40360f9a6b2bf641c7b8bb2862   \n",
      "3  Vancouver      CA  66f873d641d448bd1572ab086665a458   \n",
      "4  Vancouver      CA  485d4d24c803cfde829ab89699fed833   \n",
      "\n",
      "                  Station_Name   Latitude   Longitude  Total_Available_Slots  \\\n",
      "0                10th & Cambie  49.262487 -123.114397                     36   \n",
      "1  Yaletown-Roundhouse Station  49.274566 -123.121817                     16   \n",
      "2            Dunsmuir & Beatty  49.279764 -123.110154                     26   \n",
      "3  12th & Yukon near City Hall  49.260599 -123.113504                     16   \n",
      "4                    8th & Ash  49.264215 -123.117772                     16   \n",
      "\n",
      "   Total_Available_Free_Bikes  Total_Available_EBikes  \\\n",
      "0                          29                       1   \n",
      "1                          12                       4   \n",
      "2                          18                       3   \n",
      "3                           8                       5   \n",
      "4                          11                       7   \n",
      "\n",
      "   Total_Available_Normal_Bikes  ...  Yelp_Avg_Review_Count  \\\n",
      "0                            28  ...             253.666667   \n",
      "1                             8  ...             673.555556   \n",
      "2                            15  ...             881.947368   \n",
      "3                             3  ...             286.857143   \n",
      "4                             4  ...             290.166667   \n",
      "\n",
      "  Yelp_Price_Category FSQ_Likely_Open FSQ_Very_Likely_Open  FSQ_Unsure  \\\n",
      "0          Economical             4.0                  6.0         0.0   \n",
      "1          Economical             1.0                  9.0         0.0   \n",
      "2          Economical             0.0                 10.0         0.0   \n",
      "3          Economical             3.0                  7.0         0.0   \n",
      "4          Economical             5.0                  5.0         0.0   \n",
      "\n",
      "   FSQ_Total_POI  Diff_POI_Count  Avg_POI_Count Popularity_Index  \\\n",
      "0           10.0             5.0           14.5           Medium   \n",
      "1           10.0             8.0           17.2             High   \n",
      "2           10.0             9.0           18.1             High   \n",
      "3           10.0             4.0           13.6           Medium   \n",
      "4           10.0             2.0           11.8              Low   \n",
      "\n",
      "   Popularity_Index_Num  \n",
      "0                     2  \n",
      "1                     3  \n",
      "2                     3  \n",
      "3                     2  \n",
      "4                     1  \n",
      "\n",
      "[5 rows x 27 columns]\n"
     ]
    }
   ],
   "source": [
    "# Create a SQLite database \n",
    "db_path = r'C:\\Users\\aksha\\Documents\\LHL\\LHL Assignments\\Week 5\\Python Statistical Modeling Project\\Python Project\\Statistical_Modeling_Python\\data\\bike_station.db'\n",
    "conn = sqlite3.connect(db_path)\n",
    "\n",
    "# Create a cursor object to execute SQL commands\n",
    "cursor = conn.cursor()\n",
    "\n",
    "# Create a table\n",
    "create_table_query = '''\n",
    "    CREATE TABLE IF NOT EXISTS bike_station_data (\n",
    "        City TEXT NOT NULL,\n",
    "        Country TEXT NOT NULL,\n",
    "        Station_Id TEXT NOT NULL,\n",
    "        Station_Name TEXT NOT NULL,\n",
    "        Latitude REAL NOT NULL,\n",
    "        Longitude REAL NOT NULL,\n",
    "        Total_Available_Slots INTEGER NOT NULL,\n",
    "        Total_Available_Free_Bikes INTEGER NOT NULL,\n",
    "        Total_Available_EBikes INTEGER NOT NULL,\n",
    "        Total_Available_Normal_Bikes INTEGER NOT NULL,\n",
    "        Total_Available_Empty_Slots INTEGER NOT NULL,\n",
    "        Date_Time TIMESTAMP NOT NULL,\n",
    "        Total_Bikes_In_Use INTEGER NOT NULL,\n",
    "        Yelp_Total_POI REAL NOT NULL,\n",
    "        Yelp_Avg_Rating REAL NOT NULL,\n",
    "        Yelp_Avg_Review_Count REAL NOT NULL,\n",
    "        Yelp_Price_Category TEXT NOT NULL,\n",
    "        FSQ_Likely_Open REAL NOT NULL,\n",
    "        FSQ_Very_Likely_Open REAL NOT NULL,\n",
    "        FSQ_Unsure REAL NOT NULL,\n",
    "        FSQ_Total_POI REAL NOT NULL,\n",
    "        Diff_POI_Count REAL NOT NULL,\n",
    "        Avg_POI_Count REAL NOT NULL,\n",
    "        Popularity_Index TEXT NOT NULL,\n",
    "        Popularity_Index_Num TEXT NOT NULL\n",
    "    );\n",
    "'''\n",
    "cursor.execute(create_table_query)\n",
    "\n",
    "# Commit the changes\n",
    "conn.commit()\n",
    "\n",
    "# Push the DataFrame into the table\n",
    "complete_df.to_sql('bike_station_data', conn, if_exists='replace', index=False)\n",
    "\n",
    "# Close the connection\n",
    "conn.close()\n",
    "\n",
    "# Create an SQLite database (this will create the database file if it doesn't exist)\n",
    "conn = sqlite3.connect(db_path)\n",
    "\n",
    "# Create a cursor object to execute SQL commands\n",
    "cursor = conn.cursor()\n",
    "\n",
    "# Perform a SELECT * query\n",
    "select_query = 'SELECT * FROM bike_station_data limit 5'\n",
    "result_df = pd.read_sql(select_query, conn)\n",
    "\n",
    "# Print the result DataFrame\n",
    "print(result_df)"
   ]
  },
  {
   "cell_type": "markdown",
   "metadata": {},
   "source": [
    "Look at the data before and after the join to validate your data."
   ]
  },
  {
   "cell_type": "code",
   "execution_count": 37,
   "metadata": {},
   "outputs": [
    {
     "name": "stdout",
     "output_type": "stream",
     "text": [
      "True\n"
     ]
    }
   ],
   "source": [
    "\n",
    "print(complete_df.shape[0] == city_bike_df.shape[0])\n",
    "# Yes it's matching"
   ]
  }
 ],
 "metadata": {
  "kernelspec": {
   "display_name": "Python 3",
   "language": "python",
   "name": "python3"
  },
  "language_info": {
   "codemirror_mode": {
    "name": "ipython",
    "version": 3
   },
   "file_extension": ".py",
   "mimetype": "text/x-python",
   "name": "python",
   "nbconvert_exporter": "python",
   "pygments_lexer": "ipython3",
   "version": "3.11.5"
  }
 },
 "nbformat": 4,
 "nbformat_minor": 4
}

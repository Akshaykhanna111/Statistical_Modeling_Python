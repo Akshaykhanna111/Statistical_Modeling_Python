{
 "cells": [
  {
   "cell_type": "markdown",
   "metadata": {},
   "source": [
    "Build a regression model."
   ]
  },
  {
   "cell_type": "code",
   "execution_count": 4,
   "metadata": {},
   "outputs": [
    {
     "name": "stdout",
     "output_type": "stream",
     "text": [
      "Collecting scikit-learn\n",
      "  Downloading scikit_learn-1.3.2-cp311-cp311-win_amd64.whl.metadata (11 kB)\n",
      "Requirement already satisfied: numpy<2.0,>=1.17.3 in c:\\users\\aksha\\anaconda3\\envs\\python_3.11.5\\lib\\site-packages (from scikit-learn) (1.26.2)\n",
      "Requirement already satisfied: scipy>=1.5.0 in c:\\users\\aksha\\anaconda3\\envs\\python_3.11.5\\lib\\site-packages (from scikit-learn) (1.11.4)\n",
      "Collecting joblib>=1.1.1 (from scikit-learn)\n",
      "  Downloading joblib-1.3.2-py3-none-any.whl.metadata (5.4 kB)\n",
      "Collecting threadpoolctl>=2.0.0 (from scikit-learn)\n",
      "  Downloading threadpoolctl-3.2.0-py3-none-any.whl.metadata (10.0 kB)\n",
      "Downloading scikit_learn-1.3.2-cp311-cp311-win_amd64.whl (9.2 MB)\n",
      "   ---------------------------------------- 0.0/9.2 MB ? eta -:--:--\n",
      "    --------------------------------------- 0.1/9.2 MB 3.6 MB/s eta 0:00:03\n",
      "   ------ --------------------------------- 1.6/9.2 MB 16.9 MB/s eta 0:00:01\n",
      "   ---------- ----------------------------- 2.4/9.2 MB 19.3 MB/s eta 0:00:01\n",
      "   --------------- ------------------------ 3.5/9.2 MB 20.2 MB/s eta 0:00:01\n",
      "   ------------------- -------------------- 4.5/9.2 MB 19.3 MB/s eta 0:00:01\n",
      "   ------------------------ --------------- 5.7/9.2 MB 20.2 MB/s eta 0:00:01\n",
      "   ---------------------------- ----------- 6.6/9.2 MB 21.0 MB/s eta 0:00:01\n",
      "   -------------------------------- ------- 7.5/9.2 MB 20.9 MB/s eta 0:00:01\n",
      "   ------------------------------------- -- 8.6/9.2 MB 21.1 MB/s eta 0:00:01\n",
      "   ---------------------------------------  9.2/9.2 MB 20.3 MB/s eta 0:00:01\n",
      "   ---------------------------------------- 9.2/9.2 MB 19.0 MB/s eta 0:00:00\n",
      "Downloading joblib-1.3.2-py3-none-any.whl (302 kB)\n",
      "   ---------------------------------------- 0.0/302.2 kB ? eta -:--:--\n",
      "   --------------------------------------- 302.2/302.2 kB 19.5 MB/s eta 0:00:00\n",
      "Downloading threadpoolctl-3.2.0-py3-none-any.whl (15 kB)\n",
      "Installing collected packages: threadpoolctl, joblib, scikit-learn\n",
      "Successfully installed joblib-1.3.2 scikit-learn-1.3.2 threadpoolctl-3.2.0\n",
      "Collecting statsmodels\n",
      "  Downloading statsmodels-0.14.1-cp311-cp311-win_amd64.whl.metadata (9.8 kB)\n",
      "Requirement already satisfied: numpy<2,>=1.18 in c:\\users\\aksha\\anaconda3\\envs\\python_3.11.5\\lib\\site-packages (from statsmodels) (1.26.2)\n",
      "Requirement already satisfied: scipy!=1.9.2,>=1.4 in c:\\users\\aksha\\anaconda3\\envs\\python_3.11.5\\lib\\site-packages (from statsmodels) (1.11.4)\n",
      "Requirement already satisfied: pandas!=2.1.0,>=1.0 in c:\\users\\aksha\\anaconda3\\envs\\python_3.11.5\\lib\\site-packages (from statsmodels) (2.1.4)\n",
      "Collecting patsy>=0.5.4 (from statsmodels)\n",
      "  Downloading patsy-0.5.4-py2.py3-none-any.whl.metadata (3.4 kB)\n",
      "Requirement already satisfied: packaging>=21.3 in c:\\users\\aksha\\anaconda3\\envs\\python_3.11.5\\lib\\site-packages (from statsmodels) (23.1)\n",
      "Requirement already satisfied: python-dateutil>=2.8.2 in c:\\users\\aksha\\anaconda3\\envs\\python_3.11.5\\lib\\site-packages (from pandas!=2.1.0,>=1.0->statsmodels) (2.8.2)\n",
      "Requirement already satisfied: pytz>=2020.1 in c:\\users\\aksha\\anaconda3\\envs\\python_3.11.5\\lib\\site-packages (from pandas!=2.1.0,>=1.0->statsmodels) (2023.3.post1)\n",
      "Requirement already satisfied: tzdata>=2022.1 in c:\\users\\aksha\\anaconda3\\envs\\python_3.11.5\\lib\\site-packages (from pandas!=2.1.0,>=1.0->statsmodels) (2023.3)\n",
      "Requirement already satisfied: six in c:\\users\\aksha\\anaconda3\\envs\\python_3.11.5\\lib\\site-packages (from patsy>=0.5.4->statsmodels) (1.16.0)\n",
      "Downloading statsmodels-0.14.1-cp311-cp311-win_amd64.whl (9.9 MB)\n",
      "   ---------------------------------------- 0.0/9.9 MB ? eta -:--:--\n",
      "   ---------------------------------------- 0.0/9.9 MB ? eta -:--:--\n",
      "   ---------------------------------------- 0.1/9.9 MB 991.0 kB/s eta 0:00:10\n",
      "   -- ------------------------------------- 0.6/9.9 MB 5.6 MB/s eta 0:00:02\n",
      "   ---- ----------------------------------- 1.0/9.9 MB 8.3 MB/s eta 0:00:02\n",
      "   ----- ---------------------------------- 1.5/9.9 MB 7.2 MB/s eta 0:00:02\n",
      "   -------- ------------------------------- 2.1/9.9 MB 8.9 MB/s eta 0:00:01\n",
      "   -------- ------------------------------- 2.1/9.9 MB 8.9 MB/s eta 0:00:01\n",
      "   -------- ------------------------------- 2.1/9.9 MB 8.9 MB/s eta 0:00:01\n",
      "   -------- ------------------------------- 2.1/9.9 MB 8.9 MB/s eta 0:00:01\n",
      "   -------- ------------------------------- 2.1/9.9 MB 8.9 MB/s eta 0:00:01\n",
      "   -------- ------------------------------- 2.1/9.9 MB 8.9 MB/s eta 0:00:01\n",
      "   -------- ------------------------------- 2.1/9.9 MB 8.9 MB/s eta 0:00:01\n",
      "   -------- ------------------------------- 2.1/9.9 MB 8.9 MB/s eta 0:00:01\n",
      "   ---------- ----------------------------- 2.6/9.9 MB 4.3 MB/s eta 0:00:02\n",
      "   ------------ --------------------------- 3.1/9.9 MB 5.1 MB/s eta 0:00:02\n",
      "   --------------- ------------------------ 3.7/9.9 MB 5.5 MB/s eta 0:00:02\n",
      "   ----------------- ---------------------- 4.2/9.9 MB 6.1 MB/s eta 0:00:01\n",
      "   ----------------- ---------------------- 4.4/9.9 MB 5.7 MB/s eta 0:00:01\n",
      "   --------------------- ------------------ 5.2/9.9 MB 6.6 MB/s eta 0:00:01\n",
      "   --------------------- ------------------ 5.2/9.9 MB 6.6 MB/s eta 0:00:01\n",
      "   ------------------------- -------------- 6.3/9.9 MB 7.1 MB/s eta 0:00:01\n",
      "   ------------------------- -------------- 6.3/9.9 MB 7.1 MB/s eta 0:00:01\n",
      "   ----------------------------- ---------- 7.3/9.9 MB 7.4 MB/s eta 0:00:01\n",
      "   ----------------------------- ---------- 7.3/9.9 MB 7.4 MB/s eta 0:00:01\n",
      "   --------------------------------- ------ 8.3/9.9 MB 7.8 MB/s eta 0:00:01\n",
      "   ---------------------------------- ----- 8.4/9.9 MB 7.9 MB/s eta 0:00:01\n",
      "   -------------------------------------- - 9.4/9.9 MB 8.3 MB/s eta 0:00:01\n",
      "   ---------------------------------------  9.9/9.9 MB 8.4 MB/s eta 0:00:01\n",
      "   ---------------------------------------- 9.9/9.9 MB 8.3 MB/s eta 0:00:00\n",
      "Downloading patsy-0.5.4-py2.py3-none-any.whl (233 kB)\n",
      "   ---------------------------------------- 0.0/233.9 kB ? eta -:--:--\n",
      "   --------------------------------------- 233.9/233.9 kB 14.9 MB/s eta 0:00:00\n",
      "Installing collected packages: patsy, statsmodels\n",
      "Successfully installed patsy-0.5.4 statsmodels-0.14.1\n"
     ]
    }
   ],
   "source": [
    "# Load Packages\n",
    "#!pip install requests\n",
    "import requests\n",
    "import json\n",
    "import re\n",
    "#!pip install pandas\n",
    "import pandas as pd\n",
    "import os # use this to access your environment variables\n",
    "#!pip install plotly\n",
    "import plotly.express as px\n",
    "# pd.set_option('display.max_rows', None)\n",
    "# pd.set_option('display.max_columns', None)\n",
    "#!pip install seaborn\n",
    "import seaborn as sns\n",
    "import matplotlib.pyplot as plt\n",
    "#!pip install scipy\n",
    "from scipy.stats import ttest_ind\n",
    "import sqlite3\n",
    "#!pip install scikit-learn\n",
    "from sklearn.preprocessing import StandardScaler\n",
    "#!pip install statsmodels\n",
    "import statsmodels.api as sm"
   ]
  },
  {
   "cell_type": "code",
   "execution_count": null,
   "metadata": {},
   "outputs": [],
   "source": [
    "# Model Building \n",
    "# Dependent Variable - Total Bikes in use\n",
    "# Independent Variables -Avg_POI_Count, Yelp_Price_Category, Yelp_Avg_Rating, Yelp_Avg_Review_Count\n",
    "complete_df = pd.read_csv(r\"C:\\Users\\aksha\\Documents\\LHL\\LHL Assignments\\Week 5\\Python Statistical Modeling Project\\Python Project\\Statistical_Modeling_Python\\data\\Merged_Data_17th.csv\")\n",
    "\n",
    "model_df = complete_df[['Total_Bikes_In_Use', 'Avg_POI_Count', 'Yelp_Price_Category', 'Yelp_Avg_Rating', 'Yelp_Avg_Review_Count']]\n",
    "\n",
    "model_df.describe(include = 'all')\n",
    "\n",
    "# Check for NAs\n",
    "na_col_count = model_df.isna().sum(axis = 0)\n",
    "na_col_count\n",
    "\n",
    "model_df.info()\n",
    "\n",
    "df_encoded = pd.get_dummies(model_df, columns=['Yelp_Price_Category'], drop_first=True)\n",
    "\n",
    "# Check data types\n",
    "print(df_encoded.dtypes)\n",
    "# Check for missing values\n",
    "print(df_encoded.isnull().sum())\n",
    "\n",
    "print(df_encoded.shape)\n",
    "print(model_df.shape)\n",
    "\n",
    "# Add a constant term for the intercept\n",
    "X = sm.add_constant(df_encoded[['Avg_POI_Count', 'Yelp_Price_Category_Expensive', 'Yelp_Avg_Rating', 'Yelp_Avg_Review_Count']])\n",
    "\n",
    "# Fit the regression model\n",
    "model = sm.OLS(model_df['Total_Bikes_In_Use'], X.astype(float)).fit()\n",
    "model.summary()\n",
    "# Values of R-squared and Adjusted R-squared are very low. None of the factors is significantly contributing to the variation Total Bikes in Use"
   ]
  },
  {
   "cell_type": "code",
   "execution_count": null,
   "metadata": {},
   "outputs": [],
   "source": [
    "# Fit the model with Scaling \n",
    "\n",
    "\n",
    "df_encoded = pd.get_dummies(model_df, columns=['Yelp_Price_Category'], drop_first=True)\n",
    "\n",
    "# Extract features and target variable\n",
    "X = df_encoded[['Avg_POI_Count', 'Yelp_Price_Category_Expensive', 'Yelp_Avg_Rating', 'Yelp_Avg_Review_Count']]\n",
    "y = model_df['Total_Bikes_In_Use']\n",
    "\n",
    "# Standardize features\n",
    "scaler = StandardScaler()\n",
    "X_scaled = scaler.fit_transform(X)\n",
    "\n",
    "# Add a constant term for the intercept\n",
    "X_scaled = sm.add_constant(X_scaled)\n",
    "\n",
    "# Fit the regression model\n",
    "model = sm.OLS(y, X_scaled).fit()\n",
    "\n",
    "# Display the summary of the regression\n",
    "print(model.summary())\n",
    "# Still no change in R-squared and Adjusted R-squared. None of the factors is significantly contributing to the variation Total Bikes in Use"
   ]
  },
  {
   "cell_type": "markdown",
   "metadata": {},
   "source": [
    "Provide model output and an interpretation of the results. "
   ]
  },
  {
   "cell_type": "code",
   "execution_count": null,
   "metadata": {},
   "outputs": [],
   "source": [
    "print(model.summary())\n",
    "\n",
    "# The model, doesn't seem to provide a good fit to the data. \n",
    "# The coefficients are not statistically significant, and the R-squared values are low.\n",
    "# Inclusion of additional parameters and more data might lead to a better performance.\n",
    "# Even in correlation plot we can see there is no correlation of any of the quantitative fields with the dependent variable\n",
    "\n",
    "# Calculate the correlation matrix\n",
    "corr_matrix = model_df[['Total_Bikes_In_Use','Avg_POI_Count', 'Yelp_Avg_Rating', 'Yelp_Avg_Review_Count']].corr()\n",
    "\n",
    "# Create a heatmap \n",
    "plt.figure(figsize=(6, 6))\n",
    "sns.heatmap(corr_matrix, annot=True, cmap='coolwarm', fmt=\".2f\", linewidths=.5)\n",
    "plt.title('Correlation Heatmap')\n",
    "plt.show()"
   ]
  },
  {
   "cell_type": "markdown",
   "metadata": {},
   "source": [
    "# Stretch"
   ]
  },
  {
   "cell_type": "markdown",
   "metadata": {},
   "source": [
    "How can you turn the regression model into a classification model?"
   ]
  },
  {
   "cell_type": "code",
   "execution_count": null,
   "metadata": {},
   "outputs": [],
   "source": []
  }
 ],
 "metadata": {
  "kernelspec": {
   "display_name": "Python 3",
   "language": "python",
   "name": "python3"
  },
  "language_info": {
   "codemirror_mode": {
    "name": "ipython",
    "version": 3
   },
   "file_extension": ".py",
   "mimetype": "text/x-python",
   "name": "python",
   "nbconvert_exporter": "python",
   "pygments_lexer": "ipython3",
   "version": "3.11.5"
  }
 },
 "nbformat": 4,
 "nbformat_minor": 4
}

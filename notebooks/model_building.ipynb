{
 "cells": [
  {
   "cell_type": "markdown",
   "metadata": {},
   "source": [
    "Build a regression model."
   ]
  },
  {
   "cell_type": "code",
   "execution_count": null,
   "metadata": {},
   "outputs": [],
   "source": [
    "# Model Building \n",
    "# Dependent Variable - Total Bikes in use\n",
    "# Independent Variables -Avg_POI_Count, Yelp_Price_Category, Yelp_Avg_Rating, Yelp_Avg_Review_Count\n",
    "\n",
    "model_df = complete_df[['Total_Bikes_In_Use', 'Avg_POI_Count', 'Yelp_Price_Category', 'Yelp_Avg_Rating', 'Yelp_Avg_Review_Count']]\n",
    "\n",
    "model_df.describe(include = 'all')\n",
    "\n",
    "# Check for NAs\n",
    "na_col_count = model_df.isna().sum(axis = 0)\n",
    "na_col_count\n",
    "\n",
    "model_df.info()\n",
    "\n",
    "df_encoded = pd.get_dummies(model_df, columns=['Yelp_Price_Category'], drop_first=True)\n",
    "\n",
    "# Check data types\n",
    "print(df_encoded.dtypes)\n",
    "# Check for missing values\n",
    "print(df_encoded.isnull().sum())\n",
    "\n",
    "print(df_encoded.shape)\n",
    "print(model_df.shape)\n",
    "\n",
    "# Add a constant term for the intercept\n",
    "X = sm.add_constant(df_encoded[['Avg_POI_Count', 'Yelp_Price_Category_Expensive', 'Yelp_Avg_Rating', 'Yelp_Avg_Review_Count']])\n",
    "\n",
    "# Fit the regression model\n",
    "model = sm.OLS(model_df['Total_Bikes_In_Use'], X.astype(float)).fit()\n",
    "model.summary()\n",
    "# Values of R-squared and Adjusted R-squared are very low. None of the factors is significantly contributing to the variation Total Bikes in Use"
   ]
  },
  {
   "cell_type": "code",
   "execution_count": null,
   "metadata": {},
   "outputs": [],
   "source": [
    "# Fit the model with Scaling \n",
    "\n",
    "from sklearn.preprocessing import StandardScaler\n",
    "df_encoded = pd.get_dummies(model_df, columns=['Yelp_Price_Category'], drop_first=True)\n",
    "\n",
    "# Extract features and target variable\n",
    "X = df_encoded[['Avg_POI_Count', 'Yelp_Price_Category_Expensive', 'Yelp_Avg_Rating', 'Yelp_Avg_Review_Count']]\n",
    "y = model_df['Total_Bikes_In_Use']\n",
    "\n",
    "# Standardize features\n",
    "scaler = StandardScaler()\n",
    "X_scaled = scaler.fit_transform(X)\n",
    "\n",
    "# Add a constant term for the intercept\n",
    "X_scaled = sm.add_constant(X_scaled)\n",
    "\n",
    "# Fit the regression model\n",
    "model = sm.OLS(y, X_scaled).fit()\n",
    "\n",
    "# Display the summary of the regression\n",
    "print(model.summary())\n",
    "# Still no change in R-squared and Adjusted R-squared. None of the factors is significantly contributing to the variation Total Bikes in Use"
   ]
  },
  {
   "cell_type": "markdown",
   "metadata": {},
   "source": [
    "Provide model output and an interpretation of the results. "
   ]
  },
  {
   "cell_type": "code",
   "execution_count": null,
   "metadata": {},
   "outputs": [],
   "source": [
    "print(model.summary())\n",
    "\n",
    "# The model, doesn't seem to provide a good fit to the data. \n",
    "# The coefficients are not statistically significant, and the R-squared values are low.\n",
    "# Inclusion of additional parameters and more data might lead to a better performance.\n",
    "# Even in correlation plot we can see there is no correlation of any of the quantitative fields with the dependent variable\n",
    "\n",
    "# Calculate the correlation matrix\n",
    "corr_matrix = model_df[['Total_Bikes_In_Use','Avg_POI_Count', 'Yelp_Avg_Rating', 'Yelp_Avg_Review_Count']].corr()\n",
    "\n",
    "# Create a heatmap \n",
    "plt.figure(figsize=(6, 6))\n",
    "sns.heatmap(corr_matrix, annot=True, cmap='coolwarm', fmt=\".2f\", linewidths=.5)\n",
    "plt.title('Correlation Heatmap')\n",
    "plt.show()"
   ]
  },
  {
   "cell_type": "markdown",
   "metadata": {},
   "source": [
    "# Stretch"
   ]
  },
  {
   "cell_type": "markdown",
   "metadata": {},
   "source": [
    "How can you turn the regression model into a classification model?"
   ]
  },
  {
   "cell_type": "code",
   "execution_count": null,
   "metadata": {},
   "outputs": [],
   "source": []
  }
 ],
 "metadata": {
  "kernelspec": {
   "display_name": "Python 3",
   "language": "python",
   "name": "python3"
  },
  "language_info": {
   "codemirror_mode": {
    "name": "ipython",
    "version": 3
   },
   "file_extension": ".py",
   "mimetype": "text/x-python",
   "name": "python",
   "nbconvert_exporter": "python",
   "pygments_lexer": "ipython3",
   "version": "3.8.5"
  }
 },
 "nbformat": 4,
 "nbformat_minor": 4
}

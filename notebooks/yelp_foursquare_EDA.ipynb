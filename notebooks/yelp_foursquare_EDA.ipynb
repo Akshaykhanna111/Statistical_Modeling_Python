{
 "cells": [
  {
   "cell_type": "code",
   "execution_count": null,
   "metadata": {},
   "outputs": [],
   "source": [
    "import requests\n",
    "import json\n",
    "import re\n",
    "import pandas as pd\n",
    "import os # use this to access your environment variables\n",
    "import plotly.express as px\n",
    "pd.set_option('display.max_rows', None)\n",
    "pd.set_option('display.max_columns', None)\n",
    "import seaborn as sns\n",
    "import matplotlib.pyplot as plt\n",
    "from scipy.stats import ttest_ind\n",
    "import sqlite3"
   ]
  },
  {
   "cell_type": "markdown",
   "metadata": {},
   "source": [
    "# Foursquare"
   ]
  },
  {
   "cell_type": "markdown",
   "metadata": {},
   "source": [
    "Send a request to Foursquare with a small radius (1000m) for all the bike stations in your city of choice. "
   ]
  },
  {
   "cell_type": "code",
   "execution_count": null,
   "metadata": {},
   "outputs": [],
   "source": [
    "# Call to Foursquare API\n",
    "\n",
    "bike_dataframe = pd.read_csv(r'C:\\Users\\aksha\\Documents\\LHL\\LHL Assignments\\Week 5\\Python Statistical Modeling Project\\City_Bike_Vancouver_Data_17th.csv')\n",
    "\n",
    "# Create a a unique dataframe of lat long and fetch the results for the same\n",
    "bike_dataframe_lat_long = bike_dataframe[['Latitude', 'Longitude']].drop_duplicates()\n",
    "\n",
    "FOURSQUARE_KEY = os.getenv('FOURSQUARE_API_KEY')\n",
    "FOURSQUARE_KEY\n",
    "\n",
    "def get_venues_fs(latitude, longitude, radius, api_key, categories):\n",
    "    \"\"\"\n",
    "    Get venues from foursquare with a specified place type and coordinates.\n",
    "    Args:\n",
    "        latitude (float): latitude for query (must be combined with longitude)\n",
    "        longitude (float): longitude for query (must be combined with latitude)\n",
    "        api_key (str): foursquare API to use for query\n",
    "        categories (str) : Foursquare-recognized place type. If not passed no place_type will be specified. \n",
    "        Separate ids with commas\n",
    "    \n",
    "    Returns:\n",
    "        response: response object from the requests library.\n",
    "    \"\"\"\n",
    "    url = 'https://api.foursquare.com/v3/places/search'\n",
    "    params = {\n",
    "        'll': f\"{latitude},{longitude}\",\n",
    "        'radius': f\"{radius}\",\n",
    "        'categories':'10032, 13062, 13003,13004,13005,13006,13007,13008,13009,13010,13011,13012,13013,13014,13015,13016,13017,13018,13019,13020,13021,13022,13023,13024,13025,13059,13246,13389'\n",
    "    }\n",
    "    headers = {\"Accept\": \"application/json\"}\n",
    "    headers['Authorization'] = FOURSQUARE_KEY\n",
    "    result = requests.get(url, params=params, headers=headers)\n",
    "    if result.status_code == 200:\n",
    "        data = result.json()\n",
    "        result_df = pd.json_normalize(data['results'])\n",
    "        if result_df.shape[0] > 0:\n",
    "\n",
    "            # Group by 'closed bucket' and calculate counts\n",
    "            result_df = result_df.groupby('closed_bucket').agg(\n",
    "                TotalCount=('fsq_id', 'count'),\n",
    "            ).reset_index()\n",
    "\n",
    "            # Reshape the DataFrame using pivot_table\n",
    "            result_df = result_df.pivot_table(index=None, columns = 'closed_bucket', values='TotalCount', fill_value = 0)\n",
    "            result_df['Latitude'] = latitude\n",
    "            result_df['Longitude'] = longitude\n",
    "            print(result_df)\n",
    "            return(result_df)\n",
    "    else:\n",
    "        return f\"Error: {result.status_code}\"\n",
    "    pass\n",
    "\n",
    "\n",
    "\n"
   ]
  },
  {
   "cell_type": "markdown",
   "metadata": {},
   "source": [
    "Parse through the response to get the POI (such as restaurants, bars, etc) details you want (ratings, name, location, etc)"
   ]
  },
  {
   "cell_type": "code",
   "execution_count": null,
   "metadata": {},
   "outputs": [],
   "source": [
    "fs_df = pd.DataFrame()\n",
    "# Iterate and concat for each pair\n",
    "for row in range(bike_dataframe_lat_long.shape[0]):\n",
    "    api_result = get_venues_fs(bike_dataframe_lat_long.iloc[row]['Latitude'], \n",
    "                                      bike_dataframe_lat_long.iloc[row]['Longitude'],\n",
    "                                      radius = 1000, \n",
    "                                      api_key=FOURSQUARE_KEY,\n",
    "                                      categories=None) # Categories are included in the api call for each iteration hence passed None here\n",
    "    fs_df = pd.concat([fs_df, api_result])\n"
   ]
  },
  {
   "cell_type": "markdown",
   "metadata": {},
   "source": [
    "Put your parsed results into a DataFrame"
   ]
  },
  {
   "cell_type": "code",
   "execution_count": null,
   "metadata": {},
   "outputs": [],
   "source": [
    "\n",
    "print(fs_df.shape)\n",
    "fs_df\n",
    "fs_df.to_csv(r'C:\\Users\\aksha\\Documents\\LHL\\LHL Assignments\\Week 5\\Python Statistical Modeling Project\\Foursquare_Data_17th.csv', index = False)"
   ]
  },
  {
   "cell_type": "markdown",
   "metadata": {},
   "source": [
    "# Yelp"
   ]
  },
  {
   "cell_type": "markdown",
   "metadata": {},
   "source": [
    "Send a request to Yelp with a small radius (1000m) for all the bike stations in your city of choice. "
   ]
  },
  {
   "cell_type": "code",
   "execution_count": null,
   "metadata": {},
   "outputs": [],
   "source": [
    "# Yelp API Call\n",
    "\n",
    "api_key = os.getenv('Yelp_API_Key')\n",
    "api_key\n",
    "\n",
    "headers = {'Authorization': 'Bearer %s' % api_key}\n",
    "\n",
    "# Define a function to categorize price\n",
    "def price_categories(rating):\n",
    "    if rating == '$$$':\n",
    "        return 'Expensive'\n",
    "    elif rating == '$$':\n",
    "        return 'Economical'\n",
    "    elif rating == '$':\n",
    "        return 'Cheap'\n",
    "    else:\n",
    "        return 'No Price Details'\n",
    "\n",
    "\n",
    "def get_guidelines_coord(lat, lng):\n",
    "    url = 'https://api.yelp.com/v3/businesses/search'\n",
    "    params = {'latitude':lat, 'longitude':lng}\n",
    "    req=requests.get(url, params=params, headers=headers)\n",
    "    if req.status_code == 200:\n",
    "        data = pd.DataFrame(pd.json_normalize(req.json()['businesses']))\n",
    "        if data.shape[0] > 0:\n",
    "            new_df = data[data.distance<=1000][['id', 'is_closed', 'review_count', \n",
    "                    'rating', 'price', 'coordinates.latitude', 'coordinates.longitude']] \n",
    "                # Subset rows with distance within 1000m\n",
    "            new_df['Price_Category'] = new_df['price'].apply(price_categories)\n",
    "            new_df['id_dummy'] = 1\n",
    "\n",
    "            result_df = new_df.groupby(['id_dummy']).agg(\n",
    "                Total_POI=('id', 'count'),\n",
    "                Closed_POI=('is_closed', 'sum'),\n",
    "                AvgRating=('rating', 'mean'),\n",
    "                AvgReviewCount=('review_count', 'mean'),\n",
    "                PriceCategory=('Price_Category', lambda x: x.mode().iloc[0] if not x.mode().empty else 'Economical')\n",
    "            ).reset_index()\n",
    "            result_df['Latitude'] = lat\n",
    "            result_df['Longitude'] = lng\n",
    "            return result_df\n",
    "        else:\n",
    "            return pd.DataFrame({\n",
    "                'Latitude':lat,\n",
    "                'Longitude':lng,\n",
    "                 'Total_POI':[],\n",
    "                'Closed_POI':[],\n",
    "                'AvgRating':[],\n",
    "                'AvgReviewCount':[],\n",
    "                'PriceCategory':[]})\n",
    "    else:\n",
    "        print(req.status_code)\n",
    "\n"
   ]
  },
  {
   "cell_type": "markdown",
   "metadata": {},
   "source": [
    "Parse through the response to get the POI (such as restaurants, bars, etc) details you want (ratings, name, location, etc)"
   ]
  },
  {
   "cell_type": "code",
   "execution_count": null,
   "metadata": {},
   "outputs": [],
   "source": [
    "result_df = pd.DataFrame()\n",
    "\n",
    "# Iterate and concat for each pair\n",
    "for row in range(bike_dataframe_lat_long.shape[0]):\n",
    "    api_result = get_guidelines_coord(bike_dataframe_lat_long.iloc[row]['Latitude'], \n",
    "                                      bike_dataframe_lat_long.iloc[row]['Longitude'])\n",
    "    result_df = pd.concat([result_df, api_result])\n"
   ]
  },
  {
   "cell_type": "markdown",
   "metadata": {},
   "source": [
    "Put your parsed results into a DataFrame"
   ]
  },
  {
   "cell_type": "code",
   "execution_count": null,
   "metadata": {},
   "outputs": [],
   "source": [
    "print(result_df.shape)\n",
    "result_df\n",
    "result_df.to_csv(r'C:\\Users\\aksha\\Documents\\LHL\\LHL Assignments\\Week 5\\Python Statistical Modeling Project\\Yelp_Data_17th.csv', index = False)"
   ]
  },
  {
   "cell_type": "markdown",
   "metadata": {},
   "source": [
    "# Comparing Results"
   ]
  },
  {
   "cell_type": "markdown",
   "metadata": {},
   "source": [
    "Which API provided you with more complete data? Provide an explanation. "
   ]
  },
  {
   "cell_type": "markdown",
   "metadata": {},
   "source": [
    "Yelp provides more holistic data compared to Foursquare API\n",
    "1. Yelp gives much more details about the venues (like ratings, review counts etc.) for a particular lat long \n",
    "2. The proportion of NANs in Foursquare API call were much more compared to that in Yelp \n",
    "3. In EDA section through histograms and frequency ditributions we can see that Foursquare has not returned more than 10 records per lat long. Also, the data is very skewed for Foursquare whereas in case of Yelp the number of POI returned ranges between 5 to 20. "
   ]
  },
  {
   "cell_type": "markdown",
   "metadata": {},
   "source": [
    "Get the top 10 restaurants according to their rating"
   ]
  },
  {
   "cell_type": "code",
   "execution_count": null,
   "metadata": {},
   "outputs": [],
   "source": [
    "# Yelp API Call for ratings\n",
    "\n",
    "api_key = os.getenv('Yelp_API_Key')\n",
    "api_key\n",
    "\n",
    "headers = {'Authorization': 'Bearer %s' % api_key}\n",
    "\n",
    "def get_restaurant_ratings(lat, lng):\n",
    "    url = 'https://api.yelp.com/v3/businesses/search'\n",
    "    params = {'latitude':lat, 'longitude':lng}\n",
    "    req=requests.get(url, params=params, headers=headers)\n",
    "    if req.status_code == 200:\n",
    "        data = pd.DataFrame(pd.json_normalize(req.json()['businesses']))\n",
    "        if data.shape[0] > 0:\n",
    "            new_df = data[data.distance<=1000][['id', 'name', 'location.address1','is_closed', 'review_count', \n",
    "                    'rating', 'price', 'coordinates.latitude', 'coordinates.longitude']]\n",
    "            return(new_df)\n",
    "    else:\n",
    "        print(req.status_code)\n",
    "        \n",
    "ratings_df = pd.DataFrame()\n",
    "\n",
    "# Iterate and concat for each pair\n",
    "for row in range(bike_dataframe_lat_long.shape[0]):\n",
    "    api_result = get_restaurant_ratings(bike_dataframe_lat_long.iloc[row]['Latitude'], \n",
    "                                      bike_dataframe_lat_long.iloc[row]['Longitude'])\n",
    "    ratings_df = pd.concat([ratings_df, api_result])"
   ]
  },
  {
   "cell_type": "code",
   "execution_count": null,
   "metadata": {},
   "outputs": [],
   "source": [
    "# Top 10 restaurants as per the ratings\n",
    "\n",
    "ratings_df.sort_values('rating', ascending = False).head(10)"
   ]
  }
 ],
 "metadata": {
  "kernelspec": {
   "display_name": "Python 3",
   "language": "python",
   "name": "python3"
  },
  "language_info": {
   "codemirror_mode": {
    "name": "ipython",
    "version": 3
   },
   "file_extension": ".py",
   "mimetype": "text/x-python",
   "name": "python",
   "nbconvert_exporter": "python",
   "pygments_lexer": "ipython3",
   "version": "3.8.5"
  }
 },
 "nbformat": 4,
 "nbformat_minor": 4
}
